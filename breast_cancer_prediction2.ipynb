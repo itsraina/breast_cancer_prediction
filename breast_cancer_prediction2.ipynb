{
  "nbformat": 4,
  "nbformat_minor": 0,
  "metadata": {
    "kernelspec": {
      "display_name": "Python 3",
      "language": "python",
      "name": "python3"
    },
    "language_info": {
      "codemirror_mode": {
        "name": "ipython",
        "version": 3
      },
      "file_extension": ".py",
      "mimetype": "text/x-python",
      "name": "python",
      "nbconvert_exporter": "python",
      "pygments_lexer": "ipython3",
      "version": "3.6.8"
    },
    "colab": {
      "name": "breast_cancer_prediction2.ipynb",
      "provenance": [],
      "collapsed_sections": [
        "mQQ7iKJY9Hkh",
        "ehY2Sc5h9Hki",
        "qMLchzuU9Hkj",
        "IwxmJhLz9Hkj"
      ],
      "include_colab_link": true
    }
  },
  "cells": [
    {
      "cell_type": "markdown",
      "metadata": {
        "id": "view-in-github",
        "colab_type": "text"
      },
      "source": [
        "<a href=\"https://colab.research.google.com/github/pranath/breast_cancer_prediction/blob/master/breast_cancer_prediction2.ipynb\" target=\"_parent\"><img src=\"https://colab.research.google.com/assets/colab-badge.svg\" alt=\"Open In Colab\"/></a>"
      ]
    },
    {
      "cell_type": "markdown",
      "metadata": {
        "id": "3yVGWl3I9Hka"
      },
      "source": [
        "# Breast cancer prediction\n",
        "\n",
        "## 1 Introduction\n",
        "\n",
        "In this project I will look at a dataset of patient data relating to breast cancer, which is available on Kaggle as the [Wisconsin Breast Cancer dataset](https://www.kaggle.com/uciml/breast-cancer-wisconsin-data). \n",
        "\n",
        "The dataset features are computed from a digitized image of a fine needle aspirate (FNA) of a breast mass. They describe characteristics of the cell nuclei present in the image in the 3-dimensional space is that described in: K. P. Bennett and O. L. Mangasarian: \"Robust Linear Programming Discrimination of Two Linearly Inseparable Sets\", Optimization Methods and Software 1, 1992, 23-34.\n",
        "\n",
        "The dataset was released in November 1995 and the original source can be found [here](https://archive.ics.uci.edu/ml/datasets/Breast+Cancer+Wisconsin+%28Diagnostic%29). \n",
        "\n",
        "An example of images of cells that this data comes from of both malignant and benign tumors can be seen below."
      ]
    },
    {
      "cell_type": "markdown",
      "metadata": {
        "id": "l4Lzlmrs9Hka"
      },
      "source": [
        "![title](img/bc_cells.png)"
      ]
    },
    {
      "cell_type": "markdown",
      "metadata": {
        "id": "7SoEpj0H9Hka"
      },
      "source": [
        "Traditionally one of the main ways you could diagnose if a tumor is malignant or benign is to take a biopsy of a breast mass and then visually examine cell nuclei under a microscope. A trained specialist can then decide if there is cancer or not.\n",
        "\n",
        "We can see here in the example above that the image on the left belongs to a patient who was diagnosed with a benign tumor, and the image on the right belong to a patient who was diagnosed with a malignant tumor.\n",
        "\n",
        "### 1.1 Features\n",
        "\n",
        "The dataset we have consists of 32 features which relate to these types of images & cells and are the following:\n",
        "\n",
        "- ID number \n",
        "- Diagnosis (M = malignant, B = benign) \n",
        "\n",
        "Features 3-32 are ten real-valued features are computed for each cell nucleus: \n",
        "\n",
        "- a) radius (mean of distances from center to points on the perimeter) \n",
        "- b) texture (standard deviation of gray-scale values) \n",
        "- c) perimeter \n",
        "- d) area \n",
        "- e) smoothness (local variation in radius lengths) \n",
        "- f) compactness (perimeter^2 / area - 1.0) \n",
        "- g) concavity (severity of concave portions of the contour) \n",
        "- h) concave points (number of concave portions of the contour) \n",
        "- i) symmetry \n",
        "- j) fractal dimension (\"coastline approximation\" - 1)\n",
        "\n",
        "The mean, standard error (se) and \"worst\" or largest (mean of the three largest values) of these features were computed for each image, resulting in 30 features. For instance, field 3 is Mean Radius, field 13 is Radius SE, field 23 is Worst Radius.\n",
        "\n",
        "All feature values are recoded with four significant digits.\n",
        "\n",
        "Missing attribute values: none\n",
        "\n",
        "Class distribution: 357 benign, 212 malignant\n",
        "\n",
        "### 1.2 Further details\n",
        "\n",
        "We can see from the image examples that it is visually possible to distinguish between malignant and benign tumor cells. It is hoped that the data derived from these images of the cells is able to capture the differences between these types of cells.\n",
        "\n",
        "In this project, I will aim to develop a machine learning model that will aim to predict Malignant tumors with the highest accuracy.\n",
        "\n",
        "\n",
        "## 2 Import libraries\n",
        "\n",
        "Let us first import the libraries we will need for analysis and developing our model."
      ]
    },
    {
      "cell_type": "code",
      "metadata": {
        "colab": {
          "base_uri": "https://localhost:8080/"
        },
        "id": "q2cqCphi9Hkb",
        "outputId": "59a5027c-0259-48f1-d8c7-013f177a448a"
      },
      "source": [
        "# Import libraries \n",
        "import numpy as np\n",
        "from numpy import array\n",
        "from numpy import mean\n",
        "from numpy import var\n",
        "from numpy import mean\n",
        "from numpy import median\n",
        "from numpy import percentile\n",
        "from numpy import std\n",
        "from numpy.random import seed\n",
        "from numpy.random import rand\n",
        "from numpy.random import randint\n",
        "from math import sqrt\n",
        "import pandas as pd\n",
        "import matplotlib.pyplot as plt\n",
        "from statsmodels.graphics.gofplots import qqplot \n",
        "from statsmodels.stats.power import TTestIndPower\n",
        "import matplotlib.patches as mpatches\n",
        "from mpl_toolkits.mplot3d import Axes3D  \n",
        "import sklearn\n",
        "from sklearn.manifold import TSNE\n",
        "from sklearn import ensemble\n",
        "from sklearn.preprocessing import MinMaxScaler\n",
        "from sklearn.metrics import fbeta_score, accuracy_score\n",
        "from sklearn import linear_model\n",
        "from sklearn.ensemble import GradientBoostingClassifier\n",
        "from sklearn.model_selection import train_test_split\n",
        "from sklearn.model_selection import KFold\n",
        "from sklearn.model_selection import RepeatedKFold\n",
        "from sklearn.model_selection import GridSearchCV\n",
        "from sklearn.metrics import make_scorer, fbeta_score\n",
        "from xgboost import XGBClassifier\n",
        "import seaborn as sns\n",
        "import time\n",
        "from scipy.stats import shapiro\n",
        "from scipy.stats import normaltest\n",
        "from scipy.stats import anderson\n",
        "from scipy.stats import mannwhitneyu\n",
        "from scipy.stats import boxcox\n",
        "from scipy.stats import ttest_ind\n",
        "from umap import UMAP\n",
        "import plotly.express as px\n",
        "\n",
        "\n",
        "\n",
        "from google.colab import drive\n",
        "drive.mount('/content/gdrive', force_remount=True)\n",
        "root_dir = \"/content/gdrive/My Drive/Datasets/\"\n",
        "file = root_dir + \"data.csv\"\n",
        "\n",
        "%matplotlib inline\n",
        "\n",
        "import warnings\n",
        "warnings.filterwarnings('ignore')"
      ],
      "execution_count": 131,
      "outputs": [
        {
          "output_type": "stream",
          "text": [
            "Mounted at /content/gdrive\n"
          ],
          "name": "stdout"
        }
      ]
    },
    {
      "cell_type": "markdown",
      "metadata": {
        "id": "EZKk3dhd9Hkb"
      },
      "source": [
        "## 3 Initial data exploration\n",
        "\n",
        "We will now take an initial look at the dataset, its values and structure."
      ]
    },
    {
      "cell_type": "code",
      "metadata": {
        "id": "c_IGAJL8vD7U"
      },
      "source": [
        "# Load the Census dataset\n",
        "bcancer_df = pd.read_csv(file)"
      ],
      "execution_count": 132,
      "outputs": []
    },
    {
      "cell_type": "code",
      "metadata": {
        "colab": {
          "base_uri": "https://localhost:8080/",
          "height": 241
        },
        "id": "otTbAVLd9Hkb",
        "outputId": "1df02e5f-1798-4bcd-dbfb-a1fe26efd9f0"
      },
      "source": [
        "# For reproducability of the results\n",
        "np.random.seed(42)\n",
        "# Observe first few rows\n",
        "bcancer_df.head()"
      ],
      "execution_count": 133,
      "outputs": [
        {
          "output_type": "execute_result",
          "data": {
            "text/html": [
              "<div>\n",
              "<style scoped>\n",
              "    .dataframe tbody tr th:only-of-type {\n",
              "        vertical-align: middle;\n",
              "    }\n",
              "\n",
              "    .dataframe tbody tr th {\n",
              "        vertical-align: top;\n",
              "    }\n",
              "\n",
              "    .dataframe thead th {\n",
              "        text-align: right;\n",
              "    }\n",
              "</style>\n",
              "<table border=\"1\" class=\"dataframe\">\n",
              "  <thead>\n",
              "    <tr style=\"text-align: right;\">\n",
              "      <th></th>\n",
              "      <th>id</th>\n",
              "      <th>diagnosis</th>\n",
              "      <th>radius_mean</th>\n",
              "      <th>texture_mean</th>\n",
              "      <th>perimeter_mean</th>\n",
              "      <th>area_mean</th>\n",
              "      <th>smoothness_mean</th>\n",
              "      <th>compactness_mean</th>\n",
              "      <th>concavity_mean</th>\n",
              "      <th>concave points_mean</th>\n",
              "      <th>symmetry_mean</th>\n",
              "      <th>fractal_dimension_mean</th>\n",
              "      <th>radius_se</th>\n",
              "      <th>texture_se</th>\n",
              "      <th>perimeter_se</th>\n",
              "      <th>area_se</th>\n",
              "      <th>smoothness_se</th>\n",
              "      <th>compactness_se</th>\n",
              "      <th>concavity_se</th>\n",
              "      <th>concave points_se</th>\n",
              "      <th>symmetry_se</th>\n",
              "      <th>fractal_dimension_se</th>\n",
              "      <th>radius_worst</th>\n",
              "      <th>texture_worst</th>\n",
              "      <th>perimeter_worst</th>\n",
              "      <th>area_worst</th>\n",
              "      <th>smoothness_worst</th>\n",
              "      <th>compactness_worst</th>\n",
              "      <th>concavity_worst</th>\n",
              "      <th>concave points_worst</th>\n",
              "      <th>symmetry_worst</th>\n",
              "      <th>fractal_dimension_worst</th>\n",
              "      <th>Unnamed: 32</th>\n",
              "    </tr>\n",
              "  </thead>\n",
              "  <tbody>\n",
              "    <tr>\n",
              "      <th>0</th>\n",
              "      <td>842302</td>\n",
              "      <td>M</td>\n",
              "      <td>17.99</td>\n",
              "      <td>10.38</td>\n",
              "      <td>122.80</td>\n",
              "      <td>1001.0</td>\n",
              "      <td>0.11840</td>\n",
              "      <td>0.27760</td>\n",
              "      <td>0.3001</td>\n",
              "      <td>0.14710</td>\n",
              "      <td>0.2419</td>\n",
              "      <td>0.07871</td>\n",
              "      <td>1.0950</td>\n",
              "      <td>0.9053</td>\n",
              "      <td>8.589</td>\n",
              "      <td>153.40</td>\n",
              "      <td>0.006399</td>\n",
              "      <td>0.04904</td>\n",
              "      <td>0.05373</td>\n",
              "      <td>0.01587</td>\n",
              "      <td>0.03003</td>\n",
              "      <td>0.006193</td>\n",
              "      <td>25.38</td>\n",
              "      <td>17.33</td>\n",
              "      <td>184.60</td>\n",
              "      <td>2019.0</td>\n",
              "      <td>0.1622</td>\n",
              "      <td>0.6656</td>\n",
              "      <td>0.7119</td>\n",
              "      <td>0.2654</td>\n",
              "      <td>0.4601</td>\n",
              "      <td>0.11890</td>\n",
              "      <td>NaN</td>\n",
              "    </tr>\n",
              "    <tr>\n",
              "      <th>1</th>\n",
              "      <td>842517</td>\n",
              "      <td>M</td>\n",
              "      <td>20.57</td>\n",
              "      <td>17.77</td>\n",
              "      <td>132.90</td>\n",
              "      <td>1326.0</td>\n",
              "      <td>0.08474</td>\n",
              "      <td>0.07864</td>\n",
              "      <td>0.0869</td>\n",
              "      <td>0.07017</td>\n",
              "      <td>0.1812</td>\n",
              "      <td>0.05667</td>\n",
              "      <td>0.5435</td>\n",
              "      <td>0.7339</td>\n",
              "      <td>3.398</td>\n",
              "      <td>74.08</td>\n",
              "      <td>0.005225</td>\n",
              "      <td>0.01308</td>\n",
              "      <td>0.01860</td>\n",
              "      <td>0.01340</td>\n",
              "      <td>0.01389</td>\n",
              "      <td>0.003532</td>\n",
              "      <td>24.99</td>\n",
              "      <td>23.41</td>\n",
              "      <td>158.80</td>\n",
              "      <td>1956.0</td>\n",
              "      <td>0.1238</td>\n",
              "      <td>0.1866</td>\n",
              "      <td>0.2416</td>\n",
              "      <td>0.1860</td>\n",
              "      <td>0.2750</td>\n",
              "      <td>0.08902</td>\n",
              "      <td>NaN</td>\n",
              "    </tr>\n",
              "    <tr>\n",
              "      <th>2</th>\n",
              "      <td>84300903</td>\n",
              "      <td>M</td>\n",
              "      <td>19.69</td>\n",
              "      <td>21.25</td>\n",
              "      <td>130.00</td>\n",
              "      <td>1203.0</td>\n",
              "      <td>0.10960</td>\n",
              "      <td>0.15990</td>\n",
              "      <td>0.1974</td>\n",
              "      <td>0.12790</td>\n",
              "      <td>0.2069</td>\n",
              "      <td>0.05999</td>\n",
              "      <td>0.7456</td>\n",
              "      <td>0.7869</td>\n",
              "      <td>4.585</td>\n",
              "      <td>94.03</td>\n",
              "      <td>0.006150</td>\n",
              "      <td>0.04006</td>\n",
              "      <td>0.03832</td>\n",
              "      <td>0.02058</td>\n",
              "      <td>0.02250</td>\n",
              "      <td>0.004571</td>\n",
              "      <td>23.57</td>\n",
              "      <td>25.53</td>\n",
              "      <td>152.50</td>\n",
              "      <td>1709.0</td>\n",
              "      <td>0.1444</td>\n",
              "      <td>0.4245</td>\n",
              "      <td>0.4504</td>\n",
              "      <td>0.2430</td>\n",
              "      <td>0.3613</td>\n",
              "      <td>0.08758</td>\n",
              "      <td>NaN</td>\n",
              "    </tr>\n",
              "    <tr>\n",
              "      <th>3</th>\n",
              "      <td>84348301</td>\n",
              "      <td>M</td>\n",
              "      <td>11.42</td>\n",
              "      <td>20.38</td>\n",
              "      <td>77.58</td>\n",
              "      <td>386.1</td>\n",
              "      <td>0.14250</td>\n",
              "      <td>0.28390</td>\n",
              "      <td>0.2414</td>\n",
              "      <td>0.10520</td>\n",
              "      <td>0.2597</td>\n",
              "      <td>0.09744</td>\n",
              "      <td>0.4956</td>\n",
              "      <td>1.1560</td>\n",
              "      <td>3.445</td>\n",
              "      <td>27.23</td>\n",
              "      <td>0.009110</td>\n",
              "      <td>0.07458</td>\n",
              "      <td>0.05661</td>\n",
              "      <td>0.01867</td>\n",
              "      <td>0.05963</td>\n",
              "      <td>0.009208</td>\n",
              "      <td>14.91</td>\n",
              "      <td>26.50</td>\n",
              "      <td>98.87</td>\n",
              "      <td>567.7</td>\n",
              "      <td>0.2098</td>\n",
              "      <td>0.8663</td>\n",
              "      <td>0.6869</td>\n",
              "      <td>0.2575</td>\n",
              "      <td>0.6638</td>\n",
              "      <td>0.17300</td>\n",
              "      <td>NaN</td>\n",
              "    </tr>\n",
              "    <tr>\n",
              "      <th>4</th>\n",
              "      <td>84358402</td>\n",
              "      <td>M</td>\n",
              "      <td>20.29</td>\n",
              "      <td>14.34</td>\n",
              "      <td>135.10</td>\n",
              "      <td>1297.0</td>\n",
              "      <td>0.10030</td>\n",
              "      <td>0.13280</td>\n",
              "      <td>0.1980</td>\n",
              "      <td>0.10430</td>\n",
              "      <td>0.1809</td>\n",
              "      <td>0.05883</td>\n",
              "      <td>0.7572</td>\n",
              "      <td>0.7813</td>\n",
              "      <td>5.438</td>\n",
              "      <td>94.44</td>\n",
              "      <td>0.011490</td>\n",
              "      <td>0.02461</td>\n",
              "      <td>0.05688</td>\n",
              "      <td>0.01885</td>\n",
              "      <td>0.01756</td>\n",
              "      <td>0.005115</td>\n",
              "      <td>22.54</td>\n",
              "      <td>16.67</td>\n",
              "      <td>152.20</td>\n",
              "      <td>1575.0</td>\n",
              "      <td>0.1374</td>\n",
              "      <td>0.2050</td>\n",
              "      <td>0.4000</td>\n",
              "      <td>0.1625</td>\n",
              "      <td>0.2364</td>\n",
              "      <td>0.07678</td>\n",
              "      <td>NaN</td>\n",
              "    </tr>\n",
              "  </tbody>\n",
              "</table>\n",
              "</div>"
            ],
            "text/plain": [
              "         id diagnosis  ...  fractal_dimension_worst  Unnamed: 32\n",
              "0    842302         M  ...                  0.11890          NaN\n",
              "1    842517         M  ...                  0.08902          NaN\n",
              "2  84300903         M  ...                  0.08758          NaN\n",
              "3  84348301         M  ...                  0.17300          NaN\n",
              "4  84358402         M  ...                  0.07678          NaN\n",
              "\n",
              "[5 rows x 33 columns]"
            ]
          },
          "metadata": {
            "tags": []
          },
          "execution_count": 133
        }
      ]
    },
    {
      "cell_type": "markdown",
      "metadata": {
        "id": "PISQjJp39Hkd"
      },
      "source": [
        "Ok we can see there are quite a range of continous values for each of the features. Also note something odd, the final column is called 'Unnamed: 32' and is full of nan's - it's not mentioned in the dataset description and looks like some kind of format error in the dataset csv. Let's note that for later in our cleaning phase.\n",
        "\n",
        "Lets compute some key stats for each of the features to get a feel for them."
      ]
    },
    {
      "cell_type": "code",
      "metadata": {
        "colab": {
          "base_uri": "https://localhost:8080/",
          "height": 334
        },
        "id": "7fV66Q2b9Hkd",
        "outputId": "87681cbc-7851-4591-c770-433198e6f029"
      },
      "source": [
        "# Compute key stats for each feature\n",
        "bcancer_df.describe()"
      ],
      "execution_count": 134,
      "outputs": [
        {
          "output_type": "execute_result",
          "data": {
            "text/html": [
              "<div>\n",
              "<style scoped>\n",
              "    .dataframe tbody tr th:only-of-type {\n",
              "        vertical-align: middle;\n",
              "    }\n",
              "\n",
              "    .dataframe tbody tr th {\n",
              "        vertical-align: top;\n",
              "    }\n",
              "\n",
              "    .dataframe thead th {\n",
              "        text-align: right;\n",
              "    }\n",
              "</style>\n",
              "<table border=\"1\" class=\"dataframe\">\n",
              "  <thead>\n",
              "    <tr style=\"text-align: right;\">\n",
              "      <th></th>\n",
              "      <th>id</th>\n",
              "      <th>radius_mean</th>\n",
              "      <th>texture_mean</th>\n",
              "      <th>perimeter_mean</th>\n",
              "      <th>area_mean</th>\n",
              "      <th>smoothness_mean</th>\n",
              "      <th>compactness_mean</th>\n",
              "      <th>concavity_mean</th>\n",
              "      <th>concave points_mean</th>\n",
              "      <th>symmetry_mean</th>\n",
              "      <th>fractal_dimension_mean</th>\n",
              "      <th>radius_se</th>\n",
              "      <th>texture_se</th>\n",
              "      <th>perimeter_se</th>\n",
              "      <th>area_se</th>\n",
              "      <th>smoothness_se</th>\n",
              "      <th>compactness_se</th>\n",
              "      <th>concavity_se</th>\n",
              "      <th>concave points_se</th>\n",
              "      <th>symmetry_se</th>\n",
              "      <th>fractal_dimension_se</th>\n",
              "      <th>radius_worst</th>\n",
              "      <th>texture_worst</th>\n",
              "      <th>perimeter_worst</th>\n",
              "      <th>area_worst</th>\n",
              "      <th>smoothness_worst</th>\n",
              "      <th>compactness_worst</th>\n",
              "      <th>concavity_worst</th>\n",
              "      <th>concave points_worst</th>\n",
              "      <th>symmetry_worst</th>\n",
              "      <th>fractal_dimension_worst</th>\n",
              "      <th>Unnamed: 32</th>\n",
              "    </tr>\n",
              "  </thead>\n",
              "  <tbody>\n",
              "    <tr>\n",
              "      <th>count</th>\n",
              "      <td>5.690000e+02</td>\n",
              "      <td>569.000000</td>\n",
              "      <td>569.000000</td>\n",
              "      <td>569.000000</td>\n",
              "      <td>569.000000</td>\n",
              "      <td>569.000000</td>\n",
              "      <td>569.000000</td>\n",
              "      <td>569.000000</td>\n",
              "      <td>569.000000</td>\n",
              "      <td>569.000000</td>\n",
              "      <td>569.000000</td>\n",
              "      <td>569.000000</td>\n",
              "      <td>569.000000</td>\n",
              "      <td>569.000000</td>\n",
              "      <td>569.000000</td>\n",
              "      <td>569.000000</td>\n",
              "      <td>569.000000</td>\n",
              "      <td>569.000000</td>\n",
              "      <td>569.000000</td>\n",
              "      <td>569.000000</td>\n",
              "      <td>569.000000</td>\n",
              "      <td>569.000000</td>\n",
              "      <td>569.000000</td>\n",
              "      <td>569.000000</td>\n",
              "      <td>569.000000</td>\n",
              "      <td>569.000000</td>\n",
              "      <td>569.000000</td>\n",
              "      <td>569.000000</td>\n",
              "      <td>569.000000</td>\n",
              "      <td>569.000000</td>\n",
              "      <td>569.000000</td>\n",
              "      <td>0.0</td>\n",
              "    </tr>\n",
              "    <tr>\n",
              "      <th>mean</th>\n",
              "      <td>3.037183e+07</td>\n",
              "      <td>14.127292</td>\n",
              "      <td>19.289649</td>\n",
              "      <td>91.969033</td>\n",
              "      <td>654.889104</td>\n",
              "      <td>0.096360</td>\n",
              "      <td>0.104341</td>\n",
              "      <td>0.088799</td>\n",
              "      <td>0.048919</td>\n",
              "      <td>0.181162</td>\n",
              "      <td>0.062798</td>\n",
              "      <td>0.405172</td>\n",
              "      <td>1.216853</td>\n",
              "      <td>2.866059</td>\n",
              "      <td>40.337079</td>\n",
              "      <td>0.007041</td>\n",
              "      <td>0.025478</td>\n",
              "      <td>0.031894</td>\n",
              "      <td>0.011796</td>\n",
              "      <td>0.020542</td>\n",
              "      <td>0.003795</td>\n",
              "      <td>16.269190</td>\n",
              "      <td>25.677223</td>\n",
              "      <td>107.261213</td>\n",
              "      <td>880.583128</td>\n",
              "      <td>0.132369</td>\n",
              "      <td>0.254265</td>\n",
              "      <td>0.272188</td>\n",
              "      <td>0.114606</td>\n",
              "      <td>0.290076</td>\n",
              "      <td>0.083946</td>\n",
              "      <td>NaN</td>\n",
              "    </tr>\n",
              "    <tr>\n",
              "      <th>std</th>\n",
              "      <td>1.250206e+08</td>\n",
              "      <td>3.524049</td>\n",
              "      <td>4.301036</td>\n",
              "      <td>24.298981</td>\n",
              "      <td>351.914129</td>\n",
              "      <td>0.014064</td>\n",
              "      <td>0.052813</td>\n",
              "      <td>0.079720</td>\n",
              "      <td>0.038803</td>\n",
              "      <td>0.027414</td>\n",
              "      <td>0.007060</td>\n",
              "      <td>0.277313</td>\n",
              "      <td>0.551648</td>\n",
              "      <td>2.021855</td>\n",
              "      <td>45.491006</td>\n",
              "      <td>0.003003</td>\n",
              "      <td>0.017908</td>\n",
              "      <td>0.030186</td>\n",
              "      <td>0.006170</td>\n",
              "      <td>0.008266</td>\n",
              "      <td>0.002646</td>\n",
              "      <td>4.833242</td>\n",
              "      <td>6.146258</td>\n",
              "      <td>33.602542</td>\n",
              "      <td>569.356993</td>\n",
              "      <td>0.022832</td>\n",
              "      <td>0.157336</td>\n",
              "      <td>0.208624</td>\n",
              "      <td>0.065732</td>\n",
              "      <td>0.061867</td>\n",
              "      <td>0.018061</td>\n",
              "      <td>NaN</td>\n",
              "    </tr>\n",
              "    <tr>\n",
              "      <th>min</th>\n",
              "      <td>8.670000e+03</td>\n",
              "      <td>6.981000</td>\n",
              "      <td>9.710000</td>\n",
              "      <td>43.790000</td>\n",
              "      <td>143.500000</td>\n",
              "      <td>0.052630</td>\n",
              "      <td>0.019380</td>\n",
              "      <td>0.000000</td>\n",
              "      <td>0.000000</td>\n",
              "      <td>0.106000</td>\n",
              "      <td>0.049960</td>\n",
              "      <td>0.111500</td>\n",
              "      <td>0.360200</td>\n",
              "      <td>0.757000</td>\n",
              "      <td>6.802000</td>\n",
              "      <td>0.001713</td>\n",
              "      <td>0.002252</td>\n",
              "      <td>0.000000</td>\n",
              "      <td>0.000000</td>\n",
              "      <td>0.007882</td>\n",
              "      <td>0.000895</td>\n",
              "      <td>7.930000</td>\n",
              "      <td>12.020000</td>\n",
              "      <td>50.410000</td>\n",
              "      <td>185.200000</td>\n",
              "      <td>0.071170</td>\n",
              "      <td>0.027290</td>\n",
              "      <td>0.000000</td>\n",
              "      <td>0.000000</td>\n",
              "      <td>0.156500</td>\n",
              "      <td>0.055040</td>\n",
              "      <td>NaN</td>\n",
              "    </tr>\n",
              "    <tr>\n",
              "      <th>25%</th>\n",
              "      <td>8.692180e+05</td>\n",
              "      <td>11.700000</td>\n",
              "      <td>16.170000</td>\n",
              "      <td>75.170000</td>\n",
              "      <td>420.300000</td>\n",
              "      <td>0.086370</td>\n",
              "      <td>0.064920</td>\n",
              "      <td>0.029560</td>\n",
              "      <td>0.020310</td>\n",
              "      <td>0.161900</td>\n",
              "      <td>0.057700</td>\n",
              "      <td>0.232400</td>\n",
              "      <td>0.833900</td>\n",
              "      <td>1.606000</td>\n",
              "      <td>17.850000</td>\n",
              "      <td>0.005169</td>\n",
              "      <td>0.013080</td>\n",
              "      <td>0.015090</td>\n",
              "      <td>0.007638</td>\n",
              "      <td>0.015160</td>\n",
              "      <td>0.002248</td>\n",
              "      <td>13.010000</td>\n",
              "      <td>21.080000</td>\n",
              "      <td>84.110000</td>\n",
              "      <td>515.300000</td>\n",
              "      <td>0.116600</td>\n",
              "      <td>0.147200</td>\n",
              "      <td>0.114500</td>\n",
              "      <td>0.064930</td>\n",
              "      <td>0.250400</td>\n",
              "      <td>0.071460</td>\n",
              "      <td>NaN</td>\n",
              "    </tr>\n",
              "    <tr>\n",
              "      <th>50%</th>\n",
              "      <td>9.060240e+05</td>\n",
              "      <td>13.370000</td>\n",
              "      <td>18.840000</td>\n",
              "      <td>86.240000</td>\n",
              "      <td>551.100000</td>\n",
              "      <td>0.095870</td>\n",
              "      <td>0.092630</td>\n",
              "      <td>0.061540</td>\n",
              "      <td>0.033500</td>\n",
              "      <td>0.179200</td>\n",
              "      <td>0.061540</td>\n",
              "      <td>0.324200</td>\n",
              "      <td>1.108000</td>\n",
              "      <td>2.287000</td>\n",
              "      <td>24.530000</td>\n",
              "      <td>0.006380</td>\n",
              "      <td>0.020450</td>\n",
              "      <td>0.025890</td>\n",
              "      <td>0.010930</td>\n",
              "      <td>0.018730</td>\n",
              "      <td>0.003187</td>\n",
              "      <td>14.970000</td>\n",
              "      <td>25.410000</td>\n",
              "      <td>97.660000</td>\n",
              "      <td>686.500000</td>\n",
              "      <td>0.131300</td>\n",
              "      <td>0.211900</td>\n",
              "      <td>0.226700</td>\n",
              "      <td>0.099930</td>\n",
              "      <td>0.282200</td>\n",
              "      <td>0.080040</td>\n",
              "      <td>NaN</td>\n",
              "    </tr>\n",
              "    <tr>\n",
              "      <th>75%</th>\n",
              "      <td>8.813129e+06</td>\n",
              "      <td>15.780000</td>\n",
              "      <td>21.800000</td>\n",
              "      <td>104.100000</td>\n",
              "      <td>782.700000</td>\n",
              "      <td>0.105300</td>\n",
              "      <td>0.130400</td>\n",
              "      <td>0.130700</td>\n",
              "      <td>0.074000</td>\n",
              "      <td>0.195700</td>\n",
              "      <td>0.066120</td>\n",
              "      <td>0.478900</td>\n",
              "      <td>1.474000</td>\n",
              "      <td>3.357000</td>\n",
              "      <td>45.190000</td>\n",
              "      <td>0.008146</td>\n",
              "      <td>0.032450</td>\n",
              "      <td>0.042050</td>\n",
              "      <td>0.014710</td>\n",
              "      <td>0.023480</td>\n",
              "      <td>0.004558</td>\n",
              "      <td>18.790000</td>\n",
              "      <td>29.720000</td>\n",
              "      <td>125.400000</td>\n",
              "      <td>1084.000000</td>\n",
              "      <td>0.146000</td>\n",
              "      <td>0.339100</td>\n",
              "      <td>0.382900</td>\n",
              "      <td>0.161400</td>\n",
              "      <td>0.317900</td>\n",
              "      <td>0.092080</td>\n",
              "      <td>NaN</td>\n",
              "    </tr>\n",
              "    <tr>\n",
              "      <th>max</th>\n",
              "      <td>9.113205e+08</td>\n",
              "      <td>28.110000</td>\n",
              "      <td>39.280000</td>\n",
              "      <td>188.500000</td>\n",
              "      <td>2501.000000</td>\n",
              "      <td>0.163400</td>\n",
              "      <td>0.345400</td>\n",
              "      <td>0.426800</td>\n",
              "      <td>0.201200</td>\n",
              "      <td>0.304000</td>\n",
              "      <td>0.097440</td>\n",
              "      <td>2.873000</td>\n",
              "      <td>4.885000</td>\n",
              "      <td>21.980000</td>\n",
              "      <td>542.200000</td>\n",
              "      <td>0.031130</td>\n",
              "      <td>0.135400</td>\n",
              "      <td>0.396000</td>\n",
              "      <td>0.052790</td>\n",
              "      <td>0.078950</td>\n",
              "      <td>0.029840</td>\n",
              "      <td>36.040000</td>\n",
              "      <td>49.540000</td>\n",
              "      <td>251.200000</td>\n",
              "      <td>4254.000000</td>\n",
              "      <td>0.222600</td>\n",
              "      <td>1.058000</td>\n",
              "      <td>1.252000</td>\n",
              "      <td>0.291000</td>\n",
              "      <td>0.663800</td>\n",
              "      <td>0.207500</td>\n",
              "      <td>NaN</td>\n",
              "    </tr>\n",
              "  </tbody>\n",
              "</table>\n",
              "</div>"
            ],
            "text/plain": [
              "                 id  radius_mean  ...  fractal_dimension_worst  Unnamed: 32\n",
              "count  5.690000e+02   569.000000  ...               569.000000          0.0\n",
              "mean   3.037183e+07    14.127292  ...                 0.083946          NaN\n",
              "std    1.250206e+08     3.524049  ...                 0.018061          NaN\n",
              "min    8.670000e+03     6.981000  ...                 0.055040          NaN\n",
              "25%    8.692180e+05    11.700000  ...                 0.071460          NaN\n",
              "50%    9.060240e+05    13.370000  ...                 0.080040          NaN\n",
              "75%    8.813129e+06    15.780000  ...                 0.092080          NaN\n",
              "max    9.113205e+08    28.110000  ...                 0.207500          NaN\n",
              "\n",
              "[8 rows x 32 columns]"
            ]
          },
          "metadata": {
            "tags": []
          },
          "execution_count": 134
        }
      ]
    },
    {
      "cell_type": "markdown",
      "metadata": {
        "id": "tKmfn5Q19Hke"
      },
      "source": [
        "Ok quite a bit of variation in the scale and range of values (note also very variable std. dev.) we will need scaling of features later before we feed the data to our model.\n",
        "\n",
        "Lets now check for completeness of data, which according to the dataset description should not have any missing values."
      ]
    },
    {
      "cell_type": "code",
      "metadata": {
        "colab": {
          "base_uri": "https://localhost:8080/"
        },
        "id": "f0bsQcKl9Hke",
        "outputId": "5e57fedd-c3ad-4dc4-a308-f0d5f840e983"
      },
      "source": [
        "# Check for nans\n",
        "bcancer_df.info()"
      ],
      "execution_count": 135,
      "outputs": [
        {
          "output_type": "stream",
          "text": [
            "<class 'pandas.core.frame.DataFrame'>\n",
            "RangeIndex: 569 entries, 0 to 568\n",
            "Data columns (total 33 columns):\n",
            " #   Column                   Non-Null Count  Dtype  \n",
            "---  ------                   --------------  -----  \n",
            " 0   id                       569 non-null    int64  \n",
            " 1   diagnosis                569 non-null    object \n",
            " 2   radius_mean              569 non-null    float64\n",
            " 3   texture_mean             569 non-null    float64\n",
            " 4   perimeter_mean           569 non-null    float64\n",
            " 5   area_mean                569 non-null    float64\n",
            " 6   smoothness_mean          569 non-null    float64\n",
            " 7   compactness_mean         569 non-null    float64\n",
            " 8   concavity_mean           569 non-null    float64\n",
            " 9   concave points_mean      569 non-null    float64\n",
            " 10  symmetry_mean            569 non-null    float64\n",
            " 11  fractal_dimension_mean   569 non-null    float64\n",
            " 12  radius_se                569 non-null    float64\n",
            " 13  texture_se               569 non-null    float64\n",
            " 14  perimeter_se             569 non-null    float64\n",
            " 15  area_se                  569 non-null    float64\n",
            " 16  smoothness_se            569 non-null    float64\n",
            " 17  compactness_se           569 non-null    float64\n",
            " 18  concavity_se             569 non-null    float64\n",
            " 19  concave points_se        569 non-null    float64\n",
            " 20  symmetry_se              569 non-null    float64\n",
            " 21  fractal_dimension_se     569 non-null    float64\n",
            " 22  radius_worst             569 non-null    float64\n",
            " 23  texture_worst            569 non-null    float64\n",
            " 24  perimeter_worst          569 non-null    float64\n",
            " 25  area_worst               569 non-null    float64\n",
            " 26  smoothness_worst         569 non-null    float64\n",
            " 27  compactness_worst        569 non-null    float64\n",
            " 28  concavity_worst          569 non-null    float64\n",
            " 29  concave points_worst     569 non-null    float64\n",
            " 30  symmetry_worst           569 non-null    float64\n",
            " 31  fractal_dimension_worst  569 non-null    float64\n",
            " 32  Unnamed: 32              0 non-null      float64\n",
            "dtypes: float64(31), int64(1), object(1)\n",
            "memory usage: 146.8+ KB\n"
          ],
          "name": "stdout"
        }
      ]
    },
    {
      "cell_type": "markdown",
      "metadata": {
        "id": "C_yqcVX99Hke"
      },
      "source": [
        "Ok all looks complete (bar our 'Unnamed: 32' column which we will drop later in our cleaning phase).\n",
        "\n",
        "Let's now check the proportions of the dataset between benign & malignant target classes."
      ]
    },
    {
      "cell_type": "code",
      "metadata": {
        "colab": {
          "base_uri": "https://localhost:8080/"
        },
        "id": "O6-gsJ0a9Hke",
        "outputId": "6afec6b4-1967-493b-c35f-208b8a6fdd7d"
      },
      "source": [
        "bcancer_df['diagnosis'].value_counts()"
      ],
      "execution_count": 136,
      "outputs": [
        {
          "output_type": "execute_result",
          "data": {
            "text/plain": [
              "B    357\n",
              "M    212\n",
              "Name: diagnosis, dtype: int64"
            ]
          },
          "metadata": {
            "tags": []
          },
          "execution_count": 136
        }
      ]
    },
    {
      "cell_type": "markdown",
      "metadata": {
        "id": "fXdH69iV9Hke"
      },
      "source": [
        "That's in line with our expectations from the dataset description, however it is encoded as a string/categorical value and we will need to make that numeric before feeding into our ML model."
      ]
    },
    {
      "cell_type": "markdown",
      "metadata": {
        "id": "KGy2utpP9Hkf"
      },
      "source": [
        "## 4 Clean data\n",
        "\n",
        "So we have just a couple of cleaning steps identified previously, which are to convert the diagnosis field into numeric values and to drop the id and 'Unnamed: 32' columns."
      ]
    },
    {
      "cell_type": "code",
      "metadata": {
        "id": "ta8LCH_G9Hkf"
      },
      "source": [
        "# Encode the 'diagnosis' feature to numerical values\n",
        "bcancer_clean_df = bcancer_df.replace(['B', 'M'], [0, 1])"
      ],
      "execution_count": 137,
      "outputs": []
    },
    {
      "cell_type": "code",
      "metadata": {
        "colab": {
          "base_uri": "https://localhost:8080/",
          "height": 241
        },
        "id": "hpTzZJbH9Hkf",
        "outputId": "68af14bb-0289-438d-8510-9156361fada8"
      },
      "source": [
        "# Remove last column \n",
        "bcancer_clean_df = bcancer_clean_df.drop(bcancer_df.columns[len(bcancer_df.columns)-1], axis=1)\n",
        "# Remove id column\n",
        "bcancer_clean_df = bcancer_clean_df.drop(['id'], axis=1)\n",
        "# Show first few rows\n",
        "bcancer_clean_df.head()"
      ],
      "execution_count": 138,
      "outputs": [
        {
          "output_type": "execute_result",
          "data": {
            "text/html": [
              "<div>\n",
              "<style scoped>\n",
              "    .dataframe tbody tr th:only-of-type {\n",
              "        vertical-align: middle;\n",
              "    }\n",
              "\n",
              "    .dataframe tbody tr th {\n",
              "        vertical-align: top;\n",
              "    }\n",
              "\n",
              "    .dataframe thead th {\n",
              "        text-align: right;\n",
              "    }\n",
              "</style>\n",
              "<table border=\"1\" class=\"dataframe\">\n",
              "  <thead>\n",
              "    <tr style=\"text-align: right;\">\n",
              "      <th></th>\n",
              "      <th>diagnosis</th>\n",
              "      <th>radius_mean</th>\n",
              "      <th>texture_mean</th>\n",
              "      <th>perimeter_mean</th>\n",
              "      <th>area_mean</th>\n",
              "      <th>smoothness_mean</th>\n",
              "      <th>compactness_mean</th>\n",
              "      <th>concavity_mean</th>\n",
              "      <th>concave points_mean</th>\n",
              "      <th>symmetry_mean</th>\n",
              "      <th>fractal_dimension_mean</th>\n",
              "      <th>radius_se</th>\n",
              "      <th>texture_se</th>\n",
              "      <th>perimeter_se</th>\n",
              "      <th>area_se</th>\n",
              "      <th>smoothness_se</th>\n",
              "      <th>compactness_se</th>\n",
              "      <th>concavity_se</th>\n",
              "      <th>concave points_se</th>\n",
              "      <th>symmetry_se</th>\n",
              "      <th>fractal_dimension_se</th>\n",
              "      <th>radius_worst</th>\n",
              "      <th>texture_worst</th>\n",
              "      <th>perimeter_worst</th>\n",
              "      <th>area_worst</th>\n",
              "      <th>smoothness_worst</th>\n",
              "      <th>compactness_worst</th>\n",
              "      <th>concavity_worst</th>\n",
              "      <th>concave points_worst</th>\n",
              "      <th>symmetry_worst</th>\n",
              "      <th>fractal_dimension_worst</th>\n",
              "    </tr>\n",
              "  </thead>\n",
              "  <tbody>\n",
              "    <tr>\n",
              "      <th>0</th>\n",
              "      <td>1</td>\n",
              "      <td>17.99</td>\n",
              "      <td>10.38</td>\n",
              "      <td>122.80</td>\n",
              "      <td>1001.0</td>\n",
              "      <td>0.11840</td>\n",
              "      <td>0.27760</td>\n",
              "      <td>0.3001</td>\n",
              "      <td>0.14710</td>\n",
              "      <td>0.2419</td>\n",
              "      <td>0.07871</td>\n",
              "      <td>1.0950</td>\n",
              "      <td>0.9053</td>\n",
              "      <td>8.589</td>\n",
              "      <td>153.40</td>\n",
              "      <td>0.006399</td>\n",
              "      <td>0.04904</td>\n",
              "      <td>0.05373</td>\n",
              "      <td>0.01587</td>\n",
              "      <td>0.03003</td>\n",
              "      <td>0.006193</td>\n",
              "      <td>25.38</td>\n",
              "      <td>17.33</td>\n",
              "      <td>184.60</td>\n",
              "      <td>2019.0</td>\n",
              "      <td>0.1622</td>\n",
              "      <td>0.6656</td>\n",
              "      <td>0.7119</td>\n",
              "      <td>0.2654</td>\n",
              "      <td>0.4601</td>\n",
              "      <td>0.11890</td>\n",
              "    </tr>\n",
              "    <tr>\n",
              "      <th>1</th>\n",
              "      <td>1</td>\n",
              "      <td>20.57</td>\n",
              "      <td>17.77</td>\n",
              "      <td>132.90</td>\n",
              "      <td>1326.0</td>\n",
              "      <td>0.08474</td>\n",
              "      <td>0.07864</td>\n",
              "      <td>0.0869</td>\n",
              "      <td>0.07017</td>\n",
              "      <td>0.1812</td>\n",
              "      <td>0.05667</td>\n",
              "      <td>0.5435</td>\n",
              "      <td>0.7339</td>\n",
              "      <td>3.398</td>\n",
              "      <td>74.08</td>\n",
              "      <td>0.005225</td>\n",
              "      <td>0.01308</td>\n",
              "      <td>0.01860</td>\n",
              "      <td>0.01340</td>\n",
              "      <td>0.01389</td>\n",
              "      <td>0.003532</td>\n",
              "      <td>24.99</td>\n",
              "      <td>23.41</td>\n",
              "      <td>158.80</td>\n",
              "      <td>1956.0</td>\n",
              "      <td>0.1238</td>\n",
              "      <td>0.1866</td>\n",
              "      <td>0.2416</td>\n",
              "      <td>0.1860</td>\n",
              "      <td>0.2750</td>\n",
              "      <td>0.08902</td>\n",
              "    </tr>\n",
              "    <tr>\n",
              "      <th>2</th>\n",
              "      <td>1</td>\n",
              "      <td>19.69</td>\n",
              "      <td>21.25</td>\n",
              "      <td>130.00</td>\n",
              "      <td>1203.0</td>\n",
              "      <td>0.10960</td>\n",
              "      <td>0.15990</td>\n",
              "      <td>0.1974</td>\n",
              "      <td>0.12790</td>\n",
              "      <td>0.2069</td>\n",
              "      <td>0.05999</td>\n",
              "      <td>0.7456</td>\n",
              "      <td>0.7869</td>\n",
              "      <td>4.585</td>\n",
              "      <td>94.03</td>\n",
              "      <td>0.006150</td>\n",
              "      <td>0.04006</td>\n",
              "      <td>0.03832</td>\n",
              "      <td>0.02058</td>\n",
              "      <td>0.02250</td>\n",
              "      <td>0.004571</td>\n",
              "      <td>23.57</td>\n",
              "      <td>25.53</td>\n",
              "      <td>152.50</td>\n",
              "      <td>1709.0</td>\n",
              "      <td>0.1444</td>\n",
              "      <td>0.4245</td>\n",
              "      <td>0.4504</td>\n",
              "      <td>0.2430</td>\n",
              "      <td>0.3613</td>\n",
              "      <td>0.08758</td>\n",
              "    </tr>\n",
              "    <tr>\n",
              "      <th>3</th>\n",
              "      <td>1</td>\n",
              "      <td>11.42</td>\n",
              "      <td>20.38</td>\n",
              "      <td>77.58</td>\n",
              "      <td>386.1</td>\n",
              "      <td>0.14250</td>\n",
              "      <td>0.28390</td>\n",
              "      <td>0.2414</td>\n",
              "      <td>0.10520</td>\n",
              "      <td>0.2597</td>\n",
              "      <td>0.09744</td>\n",
              "      <td>0.4956</td>\n",
              "      <td>1.1560</td>\n",
              "      <td>3.445</td>\n",
              "      <td>27.23</td>\n",
              "      <td>0.009110</td>\n",
              "      <td>0.07458</td>\n",
              "      <td>0.05661</td>\n",
              "      <td>0.01867</td>\n",
              "      <td>0.05963</td>\n",
              "      <td>0.009208</td>\n",
              "      <td>14.91</td>\n",
              "      <td>26.50</td>\n",
              "      <td>98.87</td>\n",
              "      <td>567.7</td>\n",
              "      <td>0.2098</td>\n",
              "      <td>0.8663</td>\n",
              "      <td>0.6869</td>\n",
              "      <td>0.2575</td>\n",
              "      <td>0.6638</td>\n",
              "      <td>0.17300</td>\n",
              "    </tr>\n",
              "    <tr>\n",
              "      <th>4</th>\n",
              "      <td>1</td>\n",
              "      <td>20.29</td>\n",
              "      <td>14.34</td>\n",
              "      <td>135.10</td>\n",
              "      <td>1297.0</td>\n",
              "      <td>0.10030</td>\n",
              "      <td>0.13280</td>\n",
              "      <td>0.1980</td>\n",
              "      <td>0.10430</td>\n",
              "      <td>0.1809</td>\n",
              "      <td>0.05883</td>\n",
              "      <td>0.7572</td>\n",
              "      <td>0.7813</td>\n",
              "      <td>5.438</td>\n",
              "      <td>94.44</td>\n",
              "      <td>0.011490</td>\n",
              "      <td>0.02461</td>\n",
              "      <td>0.05688</td>\n",
              "      <td>0.01885</td>\n",
              "      <td>0.01756</td>\n",
              "      <td>0.005115</td>\n",
              "      <td>22.54</td>\n",
              "      <td>16.67</td>\n",
              "      <td>152.20</td>\n",
              "      <td>1575.0</td>\n",
              "      <td>0.1374</td>\n",
              "      <td>0.2050</td>\n",
              "      <td>0.4000</td>\n",
              "      <td>0.1625</td>\n",
              "      <td>0.2364</td>\n",
              "      <td>0.07678</td>\n",
              "    </tr>\n",
              "  </tbody>\n",
              "</table>\n",
              "</div>"
            ],
            "text/plain": [
              "   diagnosis  radius_mean  ...  symmetry_worst  fractal_dimension_worst\n",
              "0          1        17.99  ...          0.4601                  0.11890\n",
              "1          1        20.57  ...          0.2750                  0.08902\n",
              "2          1        19.69  ...          0.3613                  0.08758\n",
              "3          1        11.42  ...          0.6638                  0.17300\n",
              "4          1        20.29  ...          0.2364                  0.07678\n",
              "\n",
              "[5 rows x 31 columns]"
            ]
          },
          "metadata": {
            "tags": []
          },
          "execution_count": 138
        }
      ]
    },
    {
      "cell_type": "markdown",
      "metadata": {
        "id": "rIVhxtrZ9Hkf"
      },
      "source": [
        "## 5 Further data exploration\n",
        "\n",
        "Ok now we have cleaned up our dataset, we are in a better position to look more closely at it.\n",
        "\n",
        "### 5.1 Compare distribution of values for each feature between benign & malignent tumor sub-groups\n",
        "\n",
        "Let's do a univariate exploration of each of the numerical features, but by dividing the dataset into sub-groups for 'diagnosis' i.e. malignant and benign sub groups, and compare the distributions for each sub groups to see what patterns there are."
      ]
    },
    {
      "cell_type": "code",
      "metadata": {
        "id": "9Zlib5Uh9Hkf"
      },
      "source": [
        "# Split dataset into those with malignent and those with benign tumors\n",
        "malignent_df = bcancer_clean_df[bcancer_clean_df['diagnosis']==1]\n",
        "benign_df = bcancer_clean_df[bcancer_clean_df['diagnosis']==0]"
      ],
      "execution_count": 139,
      "outputs": []
    },
    {
      "cell_type": "code",
      "metadata": {
        "colab": {
          "base_uri": "https://localhost:8080/",
          "height": 1000
        },
        "id": "fxlTQ7Tk9Hkf",
        "outputId": "2ee58a71-ed07-4675-b4f9-f1e3f1a23d1a"
      },
      "source": [
        "# Function for plotting feature distributions to compare benign & malignent sub-groups\n",
        "def compare_features_benign_malignent(features, malignent_df, benign_df, rows, cols, figx, figy):\n",
        "    \n",
        "    # Define constants\n",
        "    bins = 10\n",
        "    fig, axes = plt.subplots(nrows=rows, ncols=cols, figsize=(figx, figy))\n",
        "    fig.subplots_adjust(hspace=0.5)\n",
        "    # For each axes & feature\n",
        "    for index, (ax, feature) in enumerate(zip(axes.flatten(), features)):\n",
        "        \n",
        "        ax.hist(malignent_df[feature], bins, alpha=0.5, label='Malignent')\n",
        "        ax.hist(benign_df[feature], bins, alpha=0.5, label='Benign')\n",
        "        ax.legend(loc='upper right')\n",
        "        ax.set_title(feature + \": malignent v benign tumors\")        \n",
        "\n",
        "# Get feature names (remove first element diagnosis which is target feature)\n",
        "features = bcancer_clean_df.columns\n",
        "features = features[1:]\n",
        "# Plot feature distributions to compare benign & malignent sub-groups\n",
        "compare_features_benign_malignent(features, malignent_df, benign_df, 10, 3, 20, 30)"
      ],
      "execution_count": 140,
      "outputs": [
        {
          "output_type": "display_data",
          "data": {
            "image/png": "[encoded data removed]",
            "text/plain": [
              "<Figure size 1440x2160 with 30 Axes>"
            ]
          },
          "metadata": {
            "tags": [],
            "needs_background": "light"
          }
        }
      ]
    },
    {
      "cell_type": "markdown",
      "metadata": {
        "id": "Xgnm8f9ZfOCi"
      },
      "source": [
        "So we can see several interesting aspects to the data from these comparitive histograms.\n",
        "\n",
        "Firstly, there are some features that seem to have a significant difference between the distributions of malignant v benign, these are:\n",
        "\n",
        "- perimeter_mean\n",
        "- area_mean\n",
        "- concave points_mean\n",
        "- radius_worst\n",
        "- perimeter_worst\n",
        "- concave points_worst\n",
        "\n",
        "These might proove useful features for our model to help better predict & distinguish between and predict malignant v benign tumors. \n",
        "\n",
        "### 5.2 Check normality of key distributions\n",
        "\n",
        "Let us just check the normality of one of the distributions that appears to be more normal and one of the more skewed distributions."
      ]
    },
    {
      "cell_type": "code",
      "metadata": {
        "colab": {
          "base_uri": "https://localhost:8080/"
        },
        "id": "2fq6yJHqDzjE",
        "outputId": "f8c0402f-490e-491d-c6c0-e728297e17c7"
      },
      "source": [
        "features = ['area_mean', 'symmetry_mean']\n",
        "\n",
        "for feature_name in features:\n",
        "\n",
        "  print(' ')\n",
        "  print('Testing ' + feature_name + ' normality')\n",
        "  print(' ')\n",
        "\n",
        "  print('Benign subgroup')\n",
        "  print(' ')\n",
        "  feature = benign_df[feature_name]\n",
        "  print('shapiro-wilk test')\n",
        "  # normality test\n",
        "  stat, p = shapiro(feature) \n",
        "  print('Statistics=%.3f, p=%.3f' % (stat, p)) \n",
        "  # interpret\n",
        "  alpha = 0.05\n",
        "  if p > alpha:\n",
        "    print('Sample looks Gaussian (fail to reject H0)') \n",
        "  else:\n",
        "    print('Sample does not look Gaussian (reject H0)')\n",
        "\n",
        "  print('dagostino and pearsons test')\n",
        "  # normality test\n",
        "  stat, p = normaltest(feature) \n",
        "  print('Statistics=%.3f, p=%.3f' % (stat, p)) \n",
        "  if p > alpha:\n",
        "    print('Sample looks Gaussian (fail to reject H0)') \n",
        "  else:\n",
        "    print('Sample does not look Gaussian (reject H0)')\n",
        "\n",
        "\n",
        "  print('anderson test')\n",
        "  result = anderson(feature)\n",
        "  print('Statistic: %.3f' % result.statistic) \n",
        "  p=0\n",
        "  for i in range(len(result.critical_values)):\n",
        "    sl, cv = result.significance_level[i], result.critical_values[i]\n",
        "    if result.statistic < result.critical_values[i]:\n",
        "      print('%.3f: %.3f, data looks normal (fail to reject H0)' % (sl, cv)) \n",
        "    else:\n",
        "      print('%.3f: %.3f, data does not look normal (reject H0)' % (sl, cv))\n",
        "\n",
        "  print(' ')\n",
        "  print('Malignant subgroup')\n",
        "  print(' ')\n",
        "  feature = malignent_df[feature_name]\n",
        "  print('shapiro-wilk test')\n",
        "  # normality test\n",
        "  stat, p = shapiro(feature) \n",
        "  print('Statistics=%.3f, p=%.3f' % (stat, p)) \n",
        "  # interpret\n",
        "  alpha = 0.05\n",
        "  if p > alpha:\n",
        "    print('Sample looks Gaussian (fail to reject H0)') \n",
        "  else:\n",
        "    print('Sample does not look Gaussian (reject H0)')\n",
        "\n",
        "  print('dagostino and pearsons test')\n",
        "  # normality test\n",
        "  stat, p = normaltest(feature) \n",
        "  print('Statistics=%.3f, p=%.3f' % (stat, p)) \n",
        "  if p > alpha:\n",
        "    print('Sample looks Gaussian (fail to reject H0)') \n",
        "  else:\n",
        "    print('Sample does not look Gaussian (reject H0)')\n",
        "\n",
        "\n",
        "  print('anderson test')\n",
        "  result = anderson(feature)\n",
        "  print('Statistic: %.3f' % result.statistic) \n",
        "  p=0\n",
        "  for i in range(len(result.critical_values)):\n",
        "    sl, cv = result.significance_level[i], result.critical_values[i]\n",
        "    if result.statistic < result.critical_values[i]:\n",
        "      print('%.3f: %.3f, data looks normal (fail to reject H0)' % (sl, cv)) \n",
        "    else:\n",
        "      print('%.3f: %.3f, data does not look normal (reject H0)' % (sl, cv))"
      ],
      "execution_count": 141,
      "outputs": [
        {
          "output_type": "stream",
          "text": [
            " \n",
            "Testing area_mean normality\n",
            " \n",
            "Benign subgroup\n",
            " \n",
            "shapiro-wilk test\n",
            "Statistics=0.991, p=0.023\n",
            "Sample does not look Gaussian (reject H0)\n",
            "dagostino and pearsons test\n",
            "Statistics=8.255, p=0.016\n",
            "Sample does not look Gaussian (reject H0)\n",
            "anderson test\n",
            "Statistic: 0.460\n",
            "15.000: 0.570, data looks normal (fail to reject H0)\n",
            "10.000: 0.649, data looks normal (fail to reject H0)\n",
            "5.000: 0.778, data looks normal (fail to reject H0)\n",
            "2.500: 0.908, data looks normal (fail to reject H0)\n",
            "1.000: 1.080, data looks normal (fail to reject H0)\n",
            " \n",
            "Malignant subgroup\n",
            " \n",
            "shapiro-wilk test\n",
            "Statistics=0.933, p=0.000\n",
            "Sample does not look Gaussian (reject H0)\n",
            "dagostino and pearsons test\n",
            "Statistics=46.927, p=0.000\n",
            "Sample does not look Gaussian (reject H0)\n",
            "anderson test\n",
            "Statistic: 2.267\n",
            "15.000: 0.566, data does not look normal (reject H0)\n",
            "10.000: 0.644, data does not look normal (reject H0)\n",
            "5.000: 0.773, data does not look normal (reject H0)\n",
            "2.500: 0.901, data does not look normal (reject H0)\n",
            "1.000: 1.072, data does not look normal (reject H0)\n",
            " \n",
            "Testing symmetry_mean normality\n",
            " \n",
            "Benign subgroup\n",
            " \n",
            "shapiro-wilk test\n",
            "Statistics=0.974, p=0.000\n",
            "Sample does not look Gaussian (reject H0)\n",
            "dagostino and pearsons test\n",
            "Statistics=34.254, p=0.000\n",
            "Sample does not look Gaussian (reject H0)\n",
            "anderson test\n",
            "Statistic: 1.534\n",
            "15.000: 0.570, data does not look normal (reject H0)\n",
            "10.000: 0.649, data does not look normal (reject H0)\n",
            "5.000: 0.778, data does not look normal (reject H0)\n",
            "2.500: 0.908, data does not look normal (reject H0)\n",
            "1.000: 1.080, data does not look normal (reject H0)\n",
            " \n",
            "Malignant subgroup\n",
            " \n",
            "shapiro-wilk test\n",
            "Statistics=0.965, p=0.000\n",
            "Sample does not look Gaussian (reject H0)\n",
            "dagostino and pearsons test\n",
            "Statistics=27.185, p=0.000\n",
            "Sample does not look Gaussian (reject H0)\n",
            "anderson test\n",
            "Statistic: 1.452\n",
            "15.000: 0.566, data does not look normal (reject H0)\n",
            "10.000: 0.644, data does not look normal (reject H0)\n",
            "5.000: 0.773, data does not look normal (reject H0)\n",
            "2.500: 0.901, data does not look normal (reject H0)\n",
            "1.000: 1.072, data does not look normal (reject H0)\n"
          ],
          "name": "stdout"
        }
      ]
    },
    {
      "cell_type": "code",
      "metadata": {
        "colab": {
          "base_uri": "https://localhost:8080/",
          "height": 1000
        },
        "id": "c0tWiqkBtO_I",
        "outputId": "6ad1686f-0dd7-4b59-89dd-b8d25bcbdd23"
      },
      "source": [
        "features = ['area_mean', 'symmetry_mean']\n",
        "\n",
        "for feature_name in features:\n",
        "\n",
        "  print(' ')\n",
        "  print('Testing ' + feature_name + ' normality with QQ Plot')\n",
        "  print(' ')\n",
        "\n",
        "  print('Benign subgroup')\n",
        "  print(' ')\n",
        "  feature = benign_df[feature_name]\n",
        "  # q-q plot\n",
        "  qqplot(feature, line='s')\n",
        "  plt.show()\n",
        "\n",
        "  print(' ')\n",
        "  print('Malignant subgroup')\n",
        "  print(' ')\n",
        "  feature = malignent_df[feature_name]\n",
        "  # q-q plot\n",
        "  qqplot(feature, line='s')\n",
        "  plt.show()"
      ],
      "execution_count": 142,
      "outputs": [
        {
          "output_type": "stream",
          "text": [
            " \n",
            "Testing area_mean normality with QQ Plot\n",
            " \n",
            "Benign subgroup\n",
            " \n"
          ],
          "name": "stdout"
        },
        {
          "output_type": "display_data",
          "data": {
            "image/png": "[encoded data removed]",
            "text/plain": [
              "<Figure size 432x288 with 1 Axes>"
            ]
          },
          "metadata": {
            "tags": [],
            "needs_background": "light"
          }
        },
        {
          "output_type": "stream",
          "text": [
            " \n",
            "Malignant subgroup\n",
            " \n"
          ],
          "name": "stdout"
        },
        {
          "output_type": "display_data",
          "data": {
            "image/png": "[encoded data removed]",
            "text/plain": [
              "<Figure size 432x288 with 1 Axes>"
            ]
          },
          "metadata": {
            "tags": [],
            "needs_background": "light"
          }
        },
        {
          "output_type": "stream",
          "text": [
            " \n",
            "Testing symmetry_mean normality with QQ Plot\n",
            " \n",
            "Benign subgroup\n",
            " \n"
          ],
          "name": "stdout"
        },
        {
          "output_type": "display_data",
          "data": {
            "image/png": "[encoded data removed]",
            "text/plain": [
              "<Figure size 432x288 with 1 Axes>"
            ]
          },
          "metadata": {
            "tags": [],
            "needs_background": "light"
          }
        },
        {
          "output_type": "stream",
          "text": [
            " \n",
            "Malignant subgroup\n",
            " \n"
          ],
          "name": "stdout"
        },
        {
          "output_type": "display_data",
          "data": {
            "image/png": "[encoded data removed]",
            "text/plain": [
              "<Figure size 432x288 with 1 Axes>"
            ]
          },
          "metadata": {
            "tags": [],
            "needs_background": "light"
          }
        }
      ]
    },
    {
      "cell_type": "markdown",
      "metadata": {
        "id": "SVZ4zfESDak8"
      },
      "source": [
        "So the normality tests for both the more symmetrical radius_mean and symmetry_mean both fail. However we will still attempt to log-transform the more skewed features to assist with better modelling later. \n",
        "\n",
        "### 5.3 Test log transformation of skewed distributions for normality\n",
        "\n",
        "Let is see for now how well we can transform one of the skewed distributions such as radius_se."
      ]
    },
    {
      "cell_type": "code",
      "metadata": {
        "colab": {
          "base_uri": "https://localhost:8080/",
          "height": 922
        },
        "id": "KUMnVYBQ2FaM",
        "outputId": "a5e5d07c-0bb2-43c5-8750-bccd2dd0fc48"
      },
      "source": [
        "# Plot skewed distributions of radius_se sub-groups\n",
        "malignent_df['radius_se'].hist()\n",
        "benign_df['radius_se'].hist()\n",
        "\n",
        "print('Malignant radius_se normality test')\n",
        "stat, p = shapiro(malignent_df['radius_se']) \n",
        "print('Statistics=%.3f, p=%.3f' % (stat, p)) \n",
        "# interpret\n",
        "alpha = 0.05\n",
        "if p > alpha:\n",
        "  print('Sample looks Gaussian (fail to reject H0)') \n",
        "else:\n",
        "  print('Sample does not look Gaussian (reject H0)')\n",
        "\n",
        "print('Benign radius_se normality test')\n",
        "stat, p = shapiro(benign_df['radius_se']) \n",
        "print('Statistics=%.3f, p=%.3f' % (stat, p)) \n",
        "# interpret\n",
        "alpha = 0.05\n",
        "if p > alpha:\n",
        "  print('Sample looks Gaussian (fail to reject H0)') \n",
        "else:\n",
        "  print('Sample does not look Gaussian (reject H0)')\n",
        "\n",
        "# q-q plot\n",
        "qqplot(malignent_df['radius_se'], line='s')\n",
        "plt.title('Malignant radius_se QQ plot')\n",
        "plt.show()\n",
        "\n",
        "qqplot(benign_df['radius_se'], line='s')\n",
        "plt.title('Benign radius_se QQ plot')\n",
        "plt.show()"
      ],
      "execution_count": 143,
      "outputs": [
        {
          "output_type": "stream",
          "text": [
            "Malignant radius_se normality test\n",
            "Statistics=0.816, p=0.000\n",
            "Sample does not look Gaussian (reject H0)\n",
            "Benign radius_se normality test\n",
            "Statistics=0.903, p=0.000\n",
            "Sample does not look Gaussian (reject H0)\n"
          ],
          "name": "stdout"
        },
        {
          "output_type": "display_data",
          "data": {
            "image/png": "[encoded data removed]",
            "text/plain": [
              "<Figure size 432x288 with 1 Axes>"
            ]
          },
          "metadata": {
            "tags": [],
            "needs_background": "light"
          }
        },
        {
          "output_type": "display_data",
          "data": {
            "image/png": "[encoded data removed]",
            "text/plain": [
              "<Figure size 432x288 with 1 Axes>"
            ]
          },
          "metadata": {
            "tags": [],
            "needs_background": "light"
          }
        },
        {
          "output_type": "display_data",
          "data": {
            "image/png": "[encoded data removed]",
            "text/plain": [
              "<Figure size 432x288 with 1 Axes>"
            ]
          },
          "metadata": {
            "tags": [],
            "needs_background": "light"
          }
        }
      ]
    },
    {
      "cell_type": "code",
      "metadata": {
        "colab": {
          "base_uri": "https://localhost:8080/",
          "height": 922
        },
        "id": "ZE7ujZMA3GZ9",
        "outputId": "70271048-85cc-4097-cc7c-271f7eeb38cd"
      },
      "source": [
        "# Apply box-cox transforms to both sub-groups\n",
        "transformed_radius_se_malignant = boxcox(malignent_df['radius_se'], 0)\n",
        "transformed_radius_se_benign = boxcox(benign_df['radius_se'], 0)\n",
        "plt.hist(transformed_radius_se_malignant)\n",
        "plt.hist(transformed_radius_se_benign)\n",
        "plt.show()\n",
        "\n",
        "print('Malignant radius_se normality test')\n",
        "stat, p = shapiro(transformed_radius_se_malignant) \n",
        "print('Statistics=%.3f, p=%.3f' % (stat, p)) \n",
        "# interpret\n",
        "alpha = 0.05\n",
        "if p > alpha:\n",
        "  print('Sample looks Gaussian (fail to reject H0)') \n",
        "else:\n",
        "  print('Sample does not look Gaussian (reject H0)')\n",
        "\n",
        "print('Benign radius_se normality test')\n",
        "stat, p = shapiro(transformed_radius_se_benign) \n",
        "print('Statistics=%.3f, p=%.3f' % (stat, p)) \n",
        "# interpret\n",
        "alpha = 0.05\n",
        "if p > alpha:\n",
        "  print('Sample looks Gaussian (fail to reject H0)') \n",
        "else:\n",
        "  print('Sample does not look Gaussian (reject H0)')\n",
        "\n",
        "# q-q plot\n",
        "qqplot(transformed_radius_se_malignant, line='s')\n",
        "plt.title('Malignant radius_se QQ plot')\n",
        "plt.show()\n",
        "\n",
        "qqplot(transformed_radius_se_benign, line='s')\n",
        "plt.title('Benign radius_se QQ plot')\n",
        "plt.show()"
      ],
      "execution_count": 144,
      "outputs": [
        {
          "output_type": "display_data",
          "data": {
            "image/png": "[encoded data removed]",
            "text/plain": [
              "<Figure size 432x288 with 1 Axes>"
            ]
          },
          "metadata": {
            "tags": [],
            "needs_background": "light"
          }
        },
        {
          "output_type": "stream",
          "text": [
            "Malignant radius_se normality test\n",
            "Statistics=0.988, p=0.060\n",
            "Sample looks Gaussian (fail to reject H0)\n",
            "Benign radius_se normality test\n",
            "Statistics=0.995, p=0.285\n",
            "Sample looks Gaussian (fail to reject H0)\n"
          ],
          "name": "stdout"
        },
        {
          "output_type": "display_data",
          "data": {
            "image/png": "[encoded data removed]",
            "text/plain": [
              "<Figure size 432x288 with 1 Axes>"
            ]
          },
          "metadata": {
            "tags": [],
            "needs_background": "light"
          }
        },
        {
          "output_type": "display_data",
          "data": {
            "image/png": "[encoded data removed]",
            "text/plain": [
              "<Figure size 432x288 with 1 Axes>"
            ]
          },
          "metadata": {
            "tags": [],
            "needs_background": "light"
          }
        }
      ]
    },
    {
      "cell_type": "markdown",
      "metadata": {
        "id": "Hj8sm6zc1iOw"
      },
      "source": [
        "So the box-cox method can be very effective at transforming skewed data to make it normal. This can be useful for applying further parametric statistical tests as well as helping with model training.\n",
        "\n",
        "### 5.4 Statisitcal test for difference between cancer and non-cancer distributions\n",
        "\n",
        "Let us check if there is a statisitcally significant difference between the two groups for these features, using a non-parametric test (now that we know the distributions are not normal without transformation). We will compare symmetry_mean as that appears to have very similar distributions with only a small difference - but is it statiscally significant?\n"
      ]
    },
    {
      "cell_type": "code",
      "metadata": {
        "colab": {
          "base_uri": "https://localhost:8080/"
        },
        "id": "qs_NCco7fkx0",
        "outputId": "b0dd1822-e9ab-44d3-ed0f-ab7abaf2901f"
      },
      "source": [
        "# example of the mann-whitney u non-parametric hypothesis test\n",
        "\n",
        "print('radius_se non-parametric hypothesis test')\n",
        "print(' ')\n",
        "# compare samples\n",
        "stat, p = mannwhitneyu(benign_df['radius_se'], malignent_df['radius_se']) \n",
        "print('Statistics=%.3f, p=%.3f' % (stat, p)) \n",
        "\n",
        "# interpret    \n",
        "alpha = 0.05\n",
        "if p > alpha: \n",
        "  print('Same distributions (fail to reject H0)') \n",
        "else:\n",
        "  print('Different distributions (reject H0)')\n",
        "\n",
        "# Student t test parametric\n",
        "print(' ')\n",
        "print('radius_se normalised data parametric hypothesis test')\n",
        "print(' ')\n",
        "# compare samples\n",
        "stat, p = ttest_ind(transformed_radius_se_benign, transformed_radius_se_malignant) \n",
        "print('Statistics=%.3f, p=%.3f' % (stat, p)) \n",
        "\n",
        "# interpret    \n",
        "alpha = 0.05\n",
        "if p > alpha: \n",
        "  print('Same distributions (fail to reject H0)') \n",
        "else:\n",
        "  print('Different distributions (reject H0)')"
      ],
      "execution_count": 145,
      "outputs": [
        {
          "output_type": "stream",
          "text": [
            "radius_se non-parametric hypothesis test\n",
            " \n",
            "Statistics=9965.000, p=0.000\n",
            "Different distributions (reject H0)\n",
            " \n",
            "radius_se normalised data parametric hypothesis test\n",
            " \n",
            "Statistics=-19.236, p=0.000\n",
            "Different distributions (reject H0)\n"
          ],
          "name": "stdout"
        }
      ]
    },
    {
      "cell_type": "code",
      "metadata": {
        "colab": {
          "base_uri": "https://localhost:8080/"
        },
        "id": "LTChGbdKmBbX",
        "outputId": "e48f2a77-b85d-4924-8c18-e174fa736f14"
      },
      "source": [
        "# Calculate effect size, assume normality here and use Cohen's d\n",
        "\n",
        "# function to calculate cohen's d for independent samples \n",
        "def cohend(d1, d2):\n",
        "  # calculate the size of samples\n",
        "  n1, n2 = len(d1), len(d2)\n",
        "  # calculate the variance of the samples\n",
        "  s1, s2 = var(d1, ddof=1), var(d2, ddof=1)\n",
        "  # calculate the pooled standard deviation\n",
        "  s = sqrt(((n1 - 1) * s1 + (n2 - 1) * s2) / (n1 + n2 - 2))\n",
        "  # calculate the means of the samples\n",
        "  u1, u2 = mean(d1), mean(d2)\n",
        "  # calculate the effect size\n",
        "  return (u1 - u2) / s\n",
        "\n",
        "print(' ')\n",
        "print('Effect size for normalised radius_se difference between malignant & benign groups')\n",
        "print(' ')\n",
        "# calculate cohen's d\n",
        "d = cohend(transformed_radius_se_malignant, transformed_radius_se_benign) \n",
        "print('Cohens d: %.3f' % d)\n",
        "\n"
      ],
      "execution_count": 146,
      "outputs": [
        {
          "output_type": "stream",
          "text": [
            " \n",
            "Effect size for normalised radius_se difference between malignant & benign groups\n",
            " \n",
            "Cohens d: 1.668\n"
          ],
          "name": "stdout"
        }
      ]
    },
    {
      "cell_type": "code",
      "metadata": {
        "colab": {
          "base_uri": "https://localhost:8080/"
        },
        "id": "aotnq__DMJug",
        "outputId": "2c96dce0-a098-46c1-8132-0c053347b213"
      },
      "source": [
        "# Perform power analysis to estimate statisitcal power of this effect size, for given sample size and alpha\n",
        "# parameters for power analysis\n",
        "effect = 1.67\n",
        "alpha = 0.05\n",
        "# power = 0.8\n",
        "sample_size = 569\n",
        "# perform power analysis\n",
        "analysis = TTestIndPower()\n",
        "result = analysis.solve_power(effect, power=None, nobs1=sample_size, ratio=1.0, alpha=alpha) \n",
        "print('Statistical power of test: %.3f' % result)"
      ],
      "execution_count": 147,
      "outputs": [
        {
          "output_type": "stream",
          "text": [
            "Statistical power of test: 1.000\n"
          ],
          "name": "stdout"
        }
      ]
    },
    {
      "cell_type": "code",
      "metadata": {
        "colab": {
          "base_uri": "https://localhost:8080/"
        },
        "id": "7JK9YrGjNxj6",
        "outputId": "6a5ef0ce-5b33-494b-b083-071ba22a2728"
      },
      "source": [
        "# Perform power analysis \n",
        "# What would be the minimum sample size needed for given effect size, alpha and power?\n",
        "\n",
        "effect = 0.8\n",
        "alpha = 0.05\n",
        "power = 0.9\n",
        "# perform power analysis\n",
        "analysis = TTestIndPower()\n",
        "result = analysis.solve_power(effect, power=power, nobs1=None, ratio=1.0, alpha=alpha) \n",
        "print('Sample Size: %.3f' % result)"
      ],
      "execution_count": 148,
      "outputs": [
        {
          "output_type": "stream",
          "text": [
            "Sample Size: 33.826\n"
          ],
          "name": "stdout"
        }
      ]
    },
    {
      "cell_type": "code",
      "metadata": {
        "colab": {
          "base_uri": "https://localhost:8080/",
          "height": 294
        },
        "id": "ZsILFojsOuH6",
        "outputId": "2a9d147c-71f8-45ba-f3ff-775257b174ec"
      },
      "source": [
        "# Plot power curve\n",
        "# See statistical power for a range of effect & sample sizes\n",
        "\n",
        "# parameters for power analysis\n",
        "effect_sizes = array([0.2, 0.5, 0.8])\n",
        "sample_sizes = array(range(5, 100))\n",
        "# calculate power curves from multiple power analyses\n",
        "analysis = TTestIndPower()\n",
        "analysis.plot_power(dep_var='nobs', nobs=sample_sizes, effect_size=effect_sizes) \n",
        "plt.show()"
      ],
      "execution_count": 149,
      "outputs": [
        {
          "output_type": "display_data",
          "data": {
            "image/png": "[encoded data removed]",
            "text/plain": [
              "<Figure size 432x288 with 1 Axes>"
            ]
          },
          "metadata": {
            "tags": [],
            "needs_background": "light"
          }
        }
      ]
    },
    {
      "cell_type": "markdown",
      "metadata": {
        "id": "bcAuADuUL3LK"
      },
      "source": [
        "So we can see from out hypothesis test there is an indication that radius_se  have significant differences between the benign and malignent groups. Furthermore, the effect size between the two groups for the normalised radius_se is high. This is confirmed by what we observe in the histograms above.\n",
        "\n",
        "We can also see from our power analysis that we only need to have 50 observations to have high statisical power for our significance tests between the malignant and benign groups for the features.\n",
        "\n",
        "Secondly, we can see some of the distributions are particularly skewed i.e. for features:\n",
        "\n",
        "- radius_se\n",
        "- perimeter_se\n",
        "- area_se\n",
        "\n",
        "These are going to be more difficult for the ML model to work with, so we will probably want to log-transform them to spread out their values more to make them of maximum use to our model."
      ]
    },
    {
      "cell_type": "markdown",
      "metadata": {
        "id": "LI96kpqz9Hkg"
      },
      "source": [
        "Thirdly, we can see the units of the features and scale vary widely, with many such as 'symmetry_mean' being fractional decimals below 1, and others such as 'area_worst' has values ranging from a few hundred to over 3500. ML models are very sensitive to these differences of scale so to ensure our model treats all features equally, we will need to normalise them all so each feature is a value between 0 and 1.\n",
        "\n",
        "Finally more generally we can see comapring the malignant v benign sub-groups accross all features, we can see there are some features where there is clearly much overlap between the groups, and other features where there is a big difference between the values for each groups - so both areas of commonality and difference. \n",
        "\n",
        "Let us now move from a univariate perspective to combining multiple features to build up a bigger picture of the dataset."
      ]
    },
    {
      "cell_type": "markdown",
      "metadata": {
        "id": "n_0WJWGdkRG8"
      },
      "source": [
        "## 6 Normalise numerical features before modelling\n",
        "\n",
        "We also noticed earlier what differing scales of values each of the features has (which again can be problematic for ML models). This will be useful to do before our dimensonality techniques for further analysis, as well as for our predictive modelling later. Lets normalise the values for all features to be betweeen 0 and 1."
      ]
    },
    {
      "cell_type": "code",
      "metadata": {
        "colab": {
          "base_uri": "https://localhost:8080/",
          "height": 334
        },
        "id": "2GQOIE3VlkqP",
        "outputId": "2d89ab7d-f3f8-414c-fe3b-c6fea445bf7b"
      },
      "source": [
        "bcancer_clean_df.describe()"
      ],
      "execution_count": 150,
      "outputs": [
        {
          "output_type": "execute_result",
          "data": {
            "text/html": [
              "<div>\n",
              "<style scoped>\n",
              "    .dataframe tbody tr th:only-of-type {\n",
              "        vertical-align: middle;\n",
              "    }\n",
              "\n",
              "    .dataframe tbody tr th {\n",
              "        vertical-align: top;\n",
              "    }\n",
              "\n",
              "    .dataframe thead th {\n",
              "        text-align: right;\n",
              "    }\n",
              "</style>\n",
              "<table border=\"1\" class=\"dataframe\">\n",
              "  <thead>\n",
              "    <tr style=\"text-align: right;\">\n",
              "      <th></th>\n",
              "      <th>diagnosis</th>\n",
              "      <th>radius_mean</th>\n",
              "      <th>texture_mean</th>\n",
              "      <th>perimeter_mean</th>\n",
              "      <th>area_mean</th>\n",
              "      <th>smoothness_mean</th>\n",
              "      <th>compactness_mean</th>\n",
              "      <th>concavity_mean</th>\n",
              "      <th>concave points_mean</th>\n",
              "      <th>symmetry_mean</th>\n",
              "      <th>fractal_dimension_mean</th>\n",
              "      <th>radius_se</th>\n",
              "      <th>texture_se</th>\n",
              "      <th>perimeter_se</th>\n",
              "      <th>area_se</th>\n",
              "      <th>smoothness_se</th>\n",
              "      <th>compactness_se</th>\n",
              "      <th>concavity_se</th>\n",
              "      <th>concave points_se</th>\n",
              "      <th>symmetry_se</th>\n",
              "      <th>fractal_dimension_se</th>\n",
              "      <th>radius_worst</th>\n",
              "      <th>texture_worst</th>\n",
              "      <th>perimeter_worst</th>\n",
              "      <th>area_worst</th>\n",
              "      <th>smoothness_worst</th>\n",
              "      <th>compactness_worst</th>\n",
              "      <th>concavity_worst</th>\n",
              "      <th>concave points_worst</th>\n",
              "      <th>symmetry_worst</th>\n",
              "      <th>fractal_dimension_worst</th>\n",
              "    </tr>\n",
              "  </thead>\n",
              "  <tbody>\n",
              "    <tr>\n",
              "      <th>count</th>\n",
              "      <td>569.000000</td>\n",
              "      <td>569.000000</td>\n",
              "      <td>569.000000</td>\n",
              "      <td>569.000000</td>\n",
              "      <td>569.000000</td>\n",
              "      <td>569.000000</td>\n",
              "      <td>569.000000</td>\n",
              "      <td>569.000000</td>\n",
              "      <td>569.000000</td>\n",
              "      <td>569.000000</td>\n",
              "      <td>569.000000</td>\n",
              "      <td>569.000000</td>\n",
              "      <td>569.000000</td>\n",
              "      <td>569.000000</td>\n",
              "      <td>569.000000</td>\n",
              "      <td>569.000000</td>\n",
              "      <td>569.000000</td>\n",
              "      <td>569.000000</td>\n",
              "      <td>569.000000</td>\n",
              "      <td>569.000000</td>\n",
              "      <td>569.000000</td>\n",
              "      <td>569.000000</td>\n",
              "      <td>569.000000</td>\n",
              "      <td>569.000000</td>\n",
              "      <td>569.000000</td>\n",
              "      <td>569.000000</td>\n",
              "      <td>569.000000</td>\n",
              "      <td>569.000000</td>\n",
              "      <td>569.000000</td>\n",
              "      <td>569.000000</td>\n",
              "      <td>569.000000</td>\n",
              "    </tr>\n",
              "    <tr>\n",
              "      <th>mean</th>\n",
              "      <td>0.372583</td>\n",
              "      <td>14.127292</td>\n",
              "      <td>19.289649</td>\n",
              "      <td>91.969033</td>\n",
              "      <td>654.889104</td>\n",
              "      <td>0.096360</td>\n",
              "      <td>0.104341</td>\n",
              "      <td>0.088799</td>\n",
              "      <td>0.048919</td>\n",
              "      <td>0.181162</td>\n",
              "      <td>0.062798</td>\n",
              "      <td>0.405172</td>\n",
              "      <td>1.216853</td>\n",
              "      <td>2.866059</td>\n",
              "      <td>40.337079</td>\n",
              "      <td>0.007041</td>\n",
              "      <td>0.025478</td>\n",
              "      <td>0.031894</td>\n",
              "      <td>0.011796</td>\n",
              "      <td>0.020542</td>\n",
              "      <td>0.003795</td>\n",
              "      <td>16.269190</td>\n",
              "      <td>25.677223</td>\n",
              "      <td>107.261213</td>\n",
              "      <td>880.583128</td>\n",
              "      <td>0.132369</td>\n",
              "      <td>0.254265</td>\n",
              "      <td>0.272188</td>\n",
              "      <td>0.114606</td>\n",
              "      <td>0.290076</td>\n",
              "      <td>0.083946</td>\n",
              "    </tr>\n",
              "    <tr>\n",
              "      <th>std</th>\n",
              "      <td>0.483918</td>\n",
              "      <td>3.524049</td>\n",
              "      <td>4.301036</td>\n",
              "      <td>24.298981</td>\n",
              "      <td>351.914129</td>\n",
              "      <td>0.014064</td>\n",
              "      <td>0.052813</td>\n",
              "      <td>0.079720</td>\n",
              "      <td>0.038803</td>\n",
              "      <td>0.027414</td>\n",
              "      <td>0.007060</td>\n",
              "      <td>0.277313</td>\n",
              "      <td>0.551648</td>\n",
              "      <td>2.021855</td>\n",
              "      <td>45.491006</td>\n",
              "      <td>0.003003</td>\n",
              "      <td>0.017908</td>\n",
              "      <td>0.030186</td>\n",
              "      <td>0.006170</td>\n",
              "      <td>0.008266</td>\n",
              "      <td>0.002646</td>\n",
              "      <td>4.833242</td>\n",
              "      <td>6.146258</td>\n",
              "      <td>33.602542</td>\n",
              "      <td>569.356993</td>\n",
              "      <td>0.022832</td>\n",
              "      <td>0.157336</td>\n",
              "      <td>0.208624</td>\n",
              "      <td>0.065732</td>\n",
              "      <td>0.061867</td>\n",
              "      <td>0.018061</td>\n",
              "    </tr>\n",
              "    <tr>\n",
              "      <th>min</th>\n",
              "      <td>0.000000</td>\n",
              "      <td>6.981000</td>\n",
              "      <td>9.710000</td>\n",
              "      <td>43.790000</td>\n",
              "      <td>143.500000</td>\n",
              "      <td>0.052630</td>\n",
              "      <td>0.019380</td>\n",
              "      <td>0.000000</td>\n",
              "      <td>0.000000</td>\n",
              "      <td>0.106000</td>\n",
              "      <td>0.049960</td>\n",
              "      <td>0.111500</td>\n",
              "      <td>0.360200</td>\n",
              "      <td>0.757000</td>\n",
              "      <td>6.802000</td>\n",
              "      <td>0.001713</td>\n",
              "      <td>0.002252</td>\n",
              "      <td>0.000000</td>\n",
              "      <td>0.000000</td>\n",
              "      <td>0.007882</td>\n",
              "      <td>0.000895</td>\n",
              "      <td>7.930000</td>\n",
              "      <td>12.020000</td>\n",
              "      <td>50.410000</td>\n",
              "      <td>185.200000</td>\n",
              "      <td>0.071170</td>\n",
              "      <td>0.027290</td>\n",
              "      <td>0.000000</td>\n",
              "      <td>0.000000</td>\n",
              "      <td>0.156500</td>\n",
              "      <td>0.055040</td>\n",
              "    </tr>\n",
              "    <tr>\n",
              "      <th>25%</th>\n",
              "      <td>0.000000</td>\n",
              "      <td>11.700000</td>\n",
              "      <td>16.170000</td>\n",
              "      <td>75.170000</td>\n",
              "      <td>420.300000</td>\n",
              "      <td>0.086370</td>\n",
              "      <td>0.064920</td>\n",
              "      <td>0.029560</td>\n",
              "      <td>0.020310</td>\n",
              "      <td>0.161900</td>\n",
              "      <td>0.057700</td>\n",
              "      <td>0.232400</td>\n",
              "      <td>0.833900</td>\n",
              "      <td>1.606000</td>\n",
              "      <td>17.850000</td>\n",
              "      <td>0.005169</td>\n",
              "      <td>0.013080</td>\n",
              "      <td>0.015090</td>\n",
              "      <td>0.007638</td>\n",
              "      <td>0.015160</td>\n",
              "      <td>0.002248</td>\n",
              "      <td>13.010000</td>\n",
              "      <td>21.080000</td>\n",
              "      <td>84.110000</td>\n",
              "      <td>515.300000</td>\n",
              "      <td>0.116600</td>\n",
              "      <td>0.147200</td>\n",
              "      <td>0.114500</td>\n",
              "      <td>0.064930</td>\n",
              "      <td>0.250400</td>\n",
              "      <td>0.071460</td>\n",
              "    </tr>\n",
              "    <tr>\n",
              "      <th>50%</th>\n",
              "      <td>0.000000</td>\n",
              "      <td>13.370000</td>\n",
              "      <td>18.840000</td>\n",
              "      <td>86.240000</td>\n",
              "      <td>551.100000</td>\n",
              "      <td>0.095870</td>\n",
              "      <td>0.092630</td>\n",
              "      <td>0.061540</td>\n",
              "      <td>0.033500</td>\n",
              "      <td>0.179200</td>\n",
              "      <td>0.061540</td>\n",
              "      <td>0.324200</td>\n",
              "      <td>1.108000</td>\n",
              "      <td>2.287000</td>\n",
              "      <td>24.530000</td>\n",
              "      <td>0.006380</td>\n",
              "      <td>0.020450</td>\n",
              "      <td>0.025890</td>\n",
              "      <td>0.010930</td>\n",
              "      <td>0.018730</td>\n",
              "      <td>0.003187</td>\n",
              "      <td>14.970000</td>\n",
              "      <td>25.410000</td>\n",
              "      <td>97.660000</td>\n",
              "      <td>686.500000</td>\n",
              "      <td>0.131300</td>\n",
              "      <td>0.211900</td>\n",
              "      <td>0.226700</td>\n",
              "      <td>0.099930</td>\n",
              "      <td>0.282200</td>\n",
              "      <td>0.080040</td>\n",
              "    </tr>\n",
              "    <tr>\n",
              "      <th>75%</th>\n",
              "      <td>1.000000</td>\n",
              "      <td>15.780000</td>\n",
              "      <td>21.800000</td>\n",
              "      <td>104.100000</td>\n",
              "      <td>782.700000</td>\n",
              "      <td>0.105300</td>\n",
              "      <td>0.130400</td>\n",
              "      <td>0.130700</td>\n",
              "      <td>0.074000</td>\n",
              "      <td>0.195700</td>\n",
              "      <td>0.066120</td>\n",
              "      <td>0.478900</td>\n",
              "      <td>1.474000</td>\n",
              "      <td>3.357000</td>\n",
              "      <td>45.190000</td>\n",
              "      <td>0.008146</td>\n",
              "      <td>0.032450</td>\n",
              "      <td>0.042050</td>\n",
              "      <td>0.014710</td>\n",
              "      <td>0.023480</td>\n",
              "      <td>0.004558</td>\n",
              "      <td>18.790000</td>\n",
              "      <td>29.720000</td>\n",
              "      <td>125.400000</td>\n",
              "      <td>1084.000000</td>\n",
              "      <td>0.146000</td>\n",
              "      <td>0.339100</td>\n",
              "      <td>0.382900</td>\n",
              "      <td>0.161400</td>\n",
              "      <td>0.317900</td>\n",
              "      <td>0.092080</td>\n",
              "    </tr>\n",
              "    <tr>\n",
              "      <th>max</th>\n",
              "      <td>1.000000</td>\n",
              "      <td>28.110000</td>\n",
              "      <td>39.280000</td>\n",
              "      <td>188.500000</td>\n",
              "      <td>2501.000000</td>\n",
              "      <td>0.163400</td>\n",
              "      <td>0.345400</td>\n",
              "      <td>0.426800</td>\n",
              "      <td>0.201200</td>\n",
              "      <td>0.304000</td>\n",
              "      <td>0.097440</td>\n",
              "      <td>2.873000</td>\n",
              "      <td>4.885000</td>\n",
              "      <td>21.980000</td>\n",
              "      <td>542.200000</td>\n",
              "      <td>0.031130</td>\n",
              "      <td>0.135400</td>\n",
              "      <td>0.396000</td>\n",
              "      <td>0.052790</td>\n",
              "      <td>0.078950</td>\n",
              "      <td>0.029840</td>\n",
              "      <td>36.040000</td>\n",
              "      <td>49.540000</td>\n",
              "      <td>251.200000</td>\n",
              "      <td>4254.000000</td>\n",
              "      <td>0.222600</td>\n",
              "      <td>1.058000</td>\n",
              "      <td>1.252000</td>\n",
              "      <td>0.291000</td>\n",
              "      <td>0.663800</td>\n",
              "      <td>0.207500</td>\n",
              "    </tr>\n",
              "  </tbody>\n",
              "</table>\n",
              "</div>"
            ],
            "text/plain": [
              "        diagnosis  radius_mean  ...  symmetry_worst  fractal_dimension_worst\n",
              "count  569.000000   569.000000  ...      569.000000               569.000000\n",
              "mean     0.372583    14.127292  ...        0.290076                 0.083946\n",
              "std      0.483918     3.524049  ...        0.061867                 0.018061\n",
              "min      0.000000     6.981000  ...        0.156500                 0.055040\n",
              "25%      0.000000    11.700000  ...        0.250400                 0.071460\n",
              "50%      0.000000    13.370000  ...        0.282200                 0.080040\n",
              "75%      1.000000    15.780000  ...        0.317900                 0.092080\n",
              "max      1.000000    28.110000  ...        0.663800                 0.207500\n",
              "\n",
              "[8 rows x 31 columns]"
            ]
          },
          "metadata": {
            "tags": []
          },
          "execution_count": 150
        }
      ]
    },
    {
      "cell_type": "code",
      "metadata": {
        "colab": {
          "base_uri": "https://localhost:8080/",
          "height": 334
        },
        "id": "hYWIVsHrk9Up",
        "outputId": "50059d3c-9bbf-40f6-98ff-d2d4beeb8221"
      },
      "source": [
        "# Initialize a scaler, then apply it to the features to normalise\n",
        "scaler = MinMaxScaler() # default=(0, 1)\n",
        "\n",
        "numerical_features = bcancer_clean_df.columns\n",
        "numerical_features = numerical_features[1:]\n",
        "\n",
        "bcancer_clean_df = pd.DataFrame(data = bcancer_clean_df)\n",
        "bcancer_clean_df[numerical_features] = scaler.fit_transform(bcancer_clean_df[numerical_features])\n",
        "\n",
        "bcancer_clean_df.describe()"
      ],
      "execution_count": 151,
      "outputs": [
        {
          "output_type": "execute_result",
          "data": {
            "text/html": [
              "<div>\n",
              "<style scoped>\n",
              "    .dataframe tbody tr th:only-of-type {\n",
              "        vertical-align: middle;\n",
              "    }\n",
              "\n",
              "    .dataframe tbody tr th {\n",
              "        vertical-align: top;\n",
              "    }\n",
              "\n",
              "    .dataframe thead th {\n",
              "        text-align: right;\n",
              "    }\n",
              "</style>\n",
              "<table border=\"1\" class=\"dataframe\">\n",
              "  <thead>\n",
              "    <tr style=\"text-align: right;\">\n",
              "      <th></th>\n",
              "      <th>diagnosis</th>\n",
              "      <th>radius_mean</th>\n",
              "      <th>texture_mean</th>\n",
              "      <th>perimeter_mean</th>\n",
              "      <th>area_mean</th>\n",
              "      <th>smoothness_mean</th>\n",
              "      <th>compactness_mean</th>\n",
              "      <th>concavity_mean</th>\n",
              "      <th>concave points_mean</th>\n",
              "      <th>symmetry_mean</th>\n",
              "      <th>fractal_dimension_mean</th>\n",
              "      <th>radius_se</th>\n",
              "      <th>texture_se</th>\n",
              "      <th>perimeter_se</th>\n",
              "      <th>area_se</th>\n",
              "      <th>smoothness_se</th>\n",
              "      <th>compactness_se</th>\n",
              "      <th>concavity_se</th>\n",
              "      <th>concave points_se</th>\n",
              "      <th>symmetry_se</th>\n",
              "      <th>fractal_dimension_se</th>\n",
              "      <th>radius_worst</th>\n",
              "      <th>texture_worst</th>\n",
              "      <th>perimeter_worst</th>\n",
              "      <th>area_worst</th>\n",
              "      <th>smoothness_worst</th>\n",
              "      <th>compactness_worst</th>\n",
              "      <th>concavity_worst</th>\n",
              "      <th>concave points_worst</th>\n",
              "      <th>symmetry_worst</th>\n",
              "      <th>fractal_dimension_worst</th>\n",
              "    </tr>\n",
              "  </thead>\n",
              "  <tbody>\n",
              "    <tr>\n",
              "      <th>count</th>\n",
              "      <td>569.000000</td>\n",
              "      <td>569.000000</td>\n",
              "      <td>569.000000</td>\n",
              "      <td>569.000000</td>\n",
              "      <td>569.000000</td>\n",
              "      <td>569.000000</td>\n",
              "      <td>569.000000</td>\n",
              "      <td>569.000000</td>\n",
              "      <td>569.000000</td>\n",
              "      <td>569.000000</td>\n",
              "      <td>569.000000</td>\n",
              "      <td>569.000000</td>\n",
              "      <td>569.000000</td>\n",
              "      <td>569.000000</td>\n",
              "      <td>569.000000</td>\n",
              "      <td>569.000000</td>\n",
              "      <td>569.000000</td>\n",
              "      <td>569.000000</td>\n",
              "      <td>569.000000</td>\n",
              "      <td>569.000000</td>\n",
              "      <td>569.000000</td>\n",
              "      <td>569.000000</td>\n",
              "      <td>569.000000</td>\n",
              "      <td>569.000000</td>\n",
              "      <td>569.000000</td>\n",
              "      <td>569.000000</td>\n",
              "      <td>569.000000</td>\n",
              "      <td>569.000000</td>\n",
              "      <td>569.000000</td>\n",
              "      <td>569.000000</td>\n",
              "      <td>569.000000</td>\n",
              "    </tr>\n",
              "    <tr>\n",
              "      <th>mean</th>\n",
              "      <td>0.372583</td>\n",
              "      <td>0.338222</td>\n",
              "      <td>0.323965</td>\n",
              "      <td>0.332935</td>\n",
              "      <td>0.216920</td>\n",
              "      <td>0.394785</td>\n",
              "      <td>0.260601</td>\n",
              "      <td>0.208058</td>\n",
              "      <td>0.243137</td>\n",
              "      <td>0.379605</td>\n",
              "      <td>0.270379</td>\n",
              "      <td>0.106345</td>\n",
              "      <td>0.189324</td>\n",
              "      <td>0.099376</td>\n",
              "      <td>0.062636</td>\n",
              "      <td>0.181119</td>\n",
              "      <td>0.174439</td>\n",
              "      <td>0.080540</td>\n",
              "      <td>0.223454</td>\n",
              "      <td>0.178143</td>\n",
              "      <td>0.100193</td>\n",
              "      <td>0.296663</td>\n",
              "      <td>0.363998</td>\n",
              "      <td>0.283138</td>\n",
              "      <td>0.170906</td>\n",
              "      <td>0.404138</td>\n",
              "      <td>0.220212</td>\n",
              "      <td>0.217403</td>\n",
              "      <td>0.393836</td>\n",
              "      <td>0.263307</td>\n",
              "      <td>0.189596</td>\n",
              "    </tr>\n",
              "    <tr>\n",
              "      <th>std</th>\n",
              "      <td>0.483918</td>\n",
              "      <td>0.166787</td>\n",
              "      <td>0.145453</td>\n",
              "      <td>0.167915</td>\n",
              "      <td>0.149274</td>\n",
              "      <td>0.126967</td>\n",
              "      <td>0.161992</td>\n",
              "      <td>0.186785</td>\n",
              "      <td>0.192857</td>\n",
              "      <td>0.138456</td>\n",
              "      <td>0.148702</td>\n",
              "      <td>0.100421</td>\n",
              "      <td>0.121917</td>\n",
              "      <td>0.095267</td>\n",
              "      <td>0.084967</td>\n",
              "      <td>0.102067</td>\n",
              "      <td>0.134498</td>\n",
              "      <td>0.076227</td>\n",
              "      <td>0.116884</td>\n",
              "      <td>0.116316</td>\n",
              "      <td>0.091417</td>\n",
              "      <td>0.171940</td>\n",
              "      <td>0.163813</td>\n",
              "      <td>0.167352</td>\n",
              "      <td>0.139932</td>\n",
              "      <td>0.150779</td>\n",
              "      <td>0.152649</td>\n",
              "      <td>0.166633</td>\n",
              "      <td>0.225884</td>\n",
              "      <td>0.121954</td>\n",
              "      <td>0.118466</td>\n",
              "    </tr>\n",
              "    <tr>\n",
              "      <th>min</th>\n",
              "      <td>0.000000</td>\n",
              "      <td>0.000000</td>\n",
              "      <td>0.000000</td>\n",
              "      <td>0.000000</td>\n",
              "      <td>0.000000</td>\n",
              "      <td>0.000000</td>\n",
              "      <td>0.000000</td>\n",
              "      <td>0.000000</td>\n",
              "      <td>0.000000</td>\n",
              "      <td>0.000000</td>\n",
              "      <td>0.000000</td>\n",
              "      <td>0.000000</td>\n",
              "      <td>0.000000</td>\n",
              "      <td>0.000000</td>\n",
              "      <td>0.000000</td>\n",
              "      <td>0.000000</td>\n",
              "      <td>0.000000</td>\n",
              "      <td>0.000000</td>\n",
              "      <td>0.000000</td>\n",
              "      <td>0.000000</td>\n",
              "      <td>0.000000</td>\n",
              "      <td>0.000000</td>\n",
              "      <td>0.000000</td>\n",
              "      <td>0.000000</td>\n",
              "      <td>0.000000</td>\n",
              "      <td>0.000000</td>\n",
              "      <td>0.000000</td>\n",
              "      <td>0.000000</td>\n",
              "      <td>0.000000</td>\n",
              "      <td>0.000000</td>\n",
              "      <td>0.000000</td>\n",
              "    </tr>\n",
              "    <tr>\n",
              "      <th>25%</th>\n",
              "      <td>0.000000</td>\n",
              "      <td>0.223342</td>\n",
              "      <td>0.218465</td>\n",
              "      <td>0.216847</td>\n",
              "      <td>0.117413</td>\n",
              "      <td>0.304595</td>\n",
              "      <td>0.139685</td>\n",
              "      <td>0.069260</td>\n",
              "      <td>0.100944</td>\n",
              "      <td>0.282323</td>\n",
              "      <td>0.163016</td>\n",
              "      <td>0.043781</td>\n",
              "      <td>0.104690</td>\n",
              "      <td>0.040004</td>\n",
              "      <td>0.020635</td>\n",
              "      <td>0.117483</td>\n",
              "      <td>0.081323</td>\n",
              "      <td>0.038106</td>\n",
              "      <td>0.144686</td>\n",
              "      <td>0.102409</td>\n",
              "      <td>0.046750</td>\n",
              "      <td>0.180719</td>\n",
              "      <td>0.241471</td>\n",
              "      <td>0.167837</td>\n",
              "      <td>0.081130</td>\n",
              "      <td>0.300007</td>\n",
              "      <td>0.116337</td>\n",
              "      <td>0.091454</td>\n",
              "      <td>0.223127</td>\n",
              "      <td>0.185098</td>\n",
              "      <td>0.107700</td>\n",
              "    </tr>\n",
              "    <tr>\n",
              "      <th>50%</th>\n",
              "      <td>0.000000</td>\n",
              "      <td>0.302381</td>\n",
              "      <td>0.308759</td>\n",
              "      <td>0.293345</td>\n",
              "      <td>0.172895</td>\n",
              "      <td>0.390358</td>\n",
              "      <td>0.224679</td>\n",
              "      <td>0.144189</td>\n",
              "      <td>0.166501</td>\n",
              "      <td>0.369697</td>\n",
              "      <td>0.243892</td>\n",
              "      <td>0.077023</td>\n",
              "      <td>0.165267</td>\n",
              "      <td>0.072092</td>\n",
              "      <td>0.033112</td>\n",
              "      <td>0.158650</td>\n",
              "      <td>0.136675</td>\n",
              "      <td>0.065379</td>\n",
              "      <td>0.207047</td>\n",
              "      <td>0.152643</td>\n",
              "      <td>0.079191</td>\n",
              "      <td>0.250445</td>\n",
              "      <td>0.356876</td>\n",
              "      <td>0.235320</td>\n",
              "      <td>0.123206</td>\n",
              "      <td>0.397081</td>\n",
              "      <td>0.179110</td>\n",
              "      <td>0.181070</td>\n",
              "      <td>0.343402</td>\n",
              "      <td>0.247782</td>\n",
              "      <td>0.163977</td>\n",
              "    </tr>\n",
              "    <tr>\n",
              "      <th>75%</th>\n",
              "      <td>1.000000</td>\n",
              "      <td>0.416442</td>\n",
              "      <td>0.408860</td>\n",
              "      <td>0.416765</td>\n",
              "      <td>0.271135</td>\n",
              "      <td>0.475490</td>\n",
              "      <td>0.340531</td>\n",
              "      <td>0.306232</td>\n",
              "      <td>0.367793</td>\n",
              "      <td>0.453030</td>\n",
              "      <td>0.340354</td>\n",
              "      <td>0.133044</td>\n",
              "      <td>0.246155</td>\n",
              "      <td>0.122509</td>\n",
              "      <td>0.071700</td>\n",
              "      <td>0.218683</td>\n",
              "      <td>0.226800</td>\n",
              "      <td>0.106187</td>\n",
              "      <td>0.278651</td>\n",
              "      <td>0.219480</td>\n",
              "      <td>0.126556</td>\n",
              "      <td>0.386339</td>\n",
              "      <td>0.471748</td>\n",
              "      <td>0.373475</td>\n",
              "      <td>0.220901</td>\n",
              "      <td>0.494156</td>\n",
              "      <td>0.302520</td>\n",
              "      <td>0.305831</td>\n",
              "      <td>0.554639</td>\n",
              "      <td>0.318155</td>\n",
              "      <td>0.242949</td>\n",
              "    </tr>\n",
              "    <tr>\n",
              "      <th>max</th>\n",
              "      <td>1.000000</td>\n",
              "      <td>1.000000</td>\n",
              "      <td>1.000000</td>\n",
              "      <td>1.000000</td>\n",
              "      <td>1.000000</td>\n",
              "      <td>1.000000</td>\n",
              "      <td>1.000000</td>\n",
              "      <td>1.000000</td>\n",
              "      <td>1.000000</td>\n",
              "      <td>1.000000</td>\n",
              "      <td>1.000000</td>\n",
              "      <td>1.000000</td>\n",
              "      <td>1.000000</td>\n",
              "      <td>1.000000</td>\n",
              "      <td>1.000000</td>\n",
              "      <td>1.000000</td>\n",
              "      <td>1.000000</td>\n",
              "      <td>1.000000</td>\n",
              "      <td>1.000000</td>\n",
              "      <td>1.000000</td>\n",
              "      <td>1.000000</td>\n",
              "      <td>1.000000</td>\n",
              "      <td>1.000000</td>\n",
              "      <td>1.000000</td>\n",
              "      <td>1.000000</td>\n",
              "      <td>1.000000</td>\n",
              "      <td>1.000000</td>\n",
              "      <td>1.000000</td>\n",
              "      <td>1.000000</td>\n",
              "      <td>1.000000</td>\n",
              "      <td>1.000000</td>\n",
              "    </tr>\n",
              "  </tbody>\n",
              "</table>\n",
              "</div>"
            ],
            "text/plain": [
              "        diagnosis  radius_mean  ...  symmetry_worst  fractal_dimension_worst\n",
              "count  569.000000   569.000000  ...      569.000000               569.000000\n",
              "mean     0.372583     0.338222  ...        0.263307                 0.189596\n",
              "std      0.483918     0.166787  ...        0.121954                 0.118466\n",
              "min      0.000000     0.000000  ...        0.000000                 0.000000\n",
              "25%      0.000000     0.223342  ...        0.185098                 0.107700\n",
              "50%      0.000000     0.302381  ...        0.247782                 0.163977\n",
              "75%      1.000000     0.416442  ...        0.318155                 0.242949\n",
              "max      1.000000     1.000000  ...        1.000000                 1.000000\n",
              "\n",
              "[8 rows x 31 columns]"
            ]
          },
          "metadata": {
            "tags": []
          },
          "execution_count": 151
        }
      ]
    },
    {
      "cell_type": "markdown",
      "metadata": {
        "id": "pFXcJYzakPEk"
      },
      "source": [
        "## 7 Dimensionality reduction analysis \n",
        "\n",
        "### 7.1 Using t-SNE to compare cancer sub-groups\n",
        "\n",
        "[t-SNE](https://www.datacamp.com/community/tutorials/introduction-t-sne) is a recent dimensionality reduction technique that can be used to compress a multi-dimensional dataset into fewer dimensions while aiming to retain the maximum variance of the original dimensions. \n",
        "\n",
        "It is a more recent dimensionality reduction technique, say compared to [PCA](https://towardsdatascience.com/a-step-by-step-explanation-of-principal-component-analysis-b836fb9c97e2) that has various differences that I will not go into here, but are explored further in an earlier project of mine [here](https://github.com/pranath/high_dim_data_vis).\n",
        "\n",
        "We will use t-SNE on this dataset to reduce the dimensionality to 2 dimensions, and then plot these on scatterplots dividing the data into malignant & benign sub-groups, to see how the values between these sub-groups compare, and see if we can get a better overall picture of how similar or different these sub-groups are."
      ]
    },
    {
      "cell_type": "code",
      "metadata": {
        "id": "x342TP3X9Hkg",
        "colab": {
          "base_uri": "https://localhost:8080/",
          "height": 759
        },
        "outputId": "6e88b7bb-2b8a-46a5-835b-431854d0f3ec"
      },
      "source": [
        "# Create 2 components using t-SNE\n",
        "time_start = time.time()\n",
        "tsne = TSNE(n_components=2, verbose=1, perplexity=40, n_iter=300)\n",
        "features = bcancer_clean_df.drop('diagnosis', 1)\n",
        "tsne_results = tsne.fit_transform(features)\n",
        "print('t-SNE done! Time elapsed: {} seconds'.format(time.time()-time_start))\n",
        "\n",
        "# Plot dataset with 2 t-SNE features, using same colour for data for benign v malignent tumors\n",
        "bcancer_clean_df['tsne-2d-one'] = tsne_results[:,0]\n",
        "bcancer_clean_df['tsne-2d-two'] = tsne_results[:,1]\n",
        "plt.figure(figsize=(16,10))\n",
        "sns.scatterplot(\n",
        "    x=\"tsne-2d-one\", y=\"tsne-2d-two\",\n",
        "    hue=\"diagnosis\",\n",
        "    palette=sns.color_palette(\"hls\", 2),\n",
        "    data=bcancer_clean_df,\n",
        "    legend=\"full\",\n",
        "    alpha=0.9\n",
        ")"
      ],
      "execution_count": 152,
      "outputs": [
        {
          "output_type": "stream",
          "text": [
            "[t-SNE] Computing 121 nearest neighbors...\n",
            "[t-SNE] Indexed 569 samples in 0.001s...\n",
            "[t-SNE] Computed neighbors for 569 samples in 0.033s...\n",
            "[t-SNE] Computed conditional probabilities for sample 569 / 569\n",
            "[t-SNE] Mean sigma: 0.215072\n",
            "[t-SNE] KL divergence after 250 iterations with early exaggeration: 63.284069\n",
            "[t-SNE] KL divergence after 300 iterations: 0.894506\n",
            "t-SNE done! Time elapsed: 1.2689051628112793 seconds\n"
          ],
          "name": "stdout"
        },
        {
          "output_type": "execute_result",
          "data": {
            "text/plain": [
              "<matplotlib.axes._subplots.AxesSubplot at 0x7f19df0a3358>"
            ]
          },
          "metadata": {
            "tags": []
          },
          "execution_count": 152
        },
        {
          "output_type": "display_data",
          "data": {
            "image/png": "[encoded data removed]",
            "text/plain": [
              "<Figure size 1152x720 with 1 Axes>"
            ]
          },
          "metadata": {
            "tags": [],
            "needs_background": "light"
          }
        }
      ]
    },
    {
      "cell_type": "markdown",
      "metadata": {
        "id": "uY8rj-u_9Hkg"
      },
      "source": [
        "So we can observe various characteristics of the dataset and the subgroups.\n",
        "\n",
        "We can see that there are clear areas for the benign and malignant groups only, but also common areas of overlap between the two groups.\n",
        "\n",
        "These indicate the potential for a model using the dataset to be able to distinguish between the benign and malignant groups/cases."
      ]
    },
    {
      "cell_type": "markdown",
      "metadata": {
        "id": "F_UwNbL09Hkh"
      },
      "source": [
        "### 7.2 Using UMAP to compare cancer sub-groups\n",
        "\n",
        "While t-sne has various advantages over the 100 year old PCA technique, it does have its own disadvantages. These include:\n",
        "\n",
        "- T-sne does not scale well for performance with increasing dataset sizes\n",
        "- T-sne does not preseve global structure and relationships well\n",
        "- T-sne can consume large amounts of memory when executing\n",
        "\n",
        "[UMAP](https://umap-learn.readthedocs.io/en/latest/index.html) is a dimensionality technique that aims to [improve upon these weaknesses](https://medium.com/@dan.allison/dimensionality-reduction-with-umap-b081837354dd) of t-sne. Read more about how UMAP works [here](https://towardsdatascience.com/how-exactly-umap-works-13e3040e1668).\n",
        "\n",
        "We will now apply UMAP to render both a 2D and a 3D representation of our cancer dataset."
      ]
    },
    {
      "cell_type": "code",
      "metadata": {
        "colab": {
          "base_uri": "https://localhost:8080/",
          "height": 1000
        },
        "id": "Kvbtx4F-fnXz",
        "outputId": "d5ea707a-611e-4d19-c66d-816df5ea95ee"
      },
      "source": [
        "# Separate feature columns\n",
        "features = bcancer_clean_df.drop('diagnosis', 1)\n",
        "\n",
        "# Initialise 2D & 3D UMAP models\n",
        "umap_2d = UMAP(n_components=2, init='random', random_state=0)\n",
        "umap_3d = UMAP(n_components=3, init='random', random_state=0)\n",
        "\n",
        "# Fit 2D & 3D UMAP models to our cancer data\n",
        "proj_2d = umap_2d.fit_transform(features)\n",
        "proj_3d = umap_3d.fit_transform(features)\n",
        "\n",
        "# Use plotly to plot our projections\n",
        "fig_2d = px.scatter(\n",
        "    proj_2d, x=0, y=1, \n",
        "    color=bcancer_clean_df.diagnosis, labels={'color': 'diagnosis'}\n",
        ")\n",
        "fig_3d = px.scatter_3d(\n",
        "    proj_3d, x=0, y=1, z=2,\n",
        "    color=bcancer_clean_df.diagnosis, labels={'color': 'diagnosis'}\n",
        ")\n",
        "# Configure projections\n",
        "fig_3d.update_traces(marker_size=5)\n",
        "# Hide axes colouring for 3D\n",
        "fig_3d.update_scenes(xaxis_visible=False, yaxis_visible=False,zaxis_visible=False )\n",
        "fig_2d.update_layout(\n",
        "    autosize=False,\n",
        "    width=800,\n",
        "    height=800)\n",
        "fig_3d.update_layout(\n",
        "    autosize=False,\n",
        "    width=800,\n",
        "    height=800)\n",
        "# Render projections\n",
        "fig_2d.show()\n",
        "fig_3d.show()"
      ],
      "execution_count": 153,
      "outputs": [
        {
          "output_type": "display_data",
          "data": {
            "text/html": [
              "<html>\n",
              "<head><meta charset=\"utf-8\" /></head>\n",
              "<body>\n",
              "    <div>\n",
              "            <script src=\"https://cdnjs.cloudflare.com/ajax/libs/mathjax/2.7.5/MathJax.js?config=TeX-AMS-MML_SVG\"></script><script type=\"text/javascript\">if (window.MathJax) {MathJax.Hub.Config({SVG: {font: \"STIX-Web\"}});}</script>\n",
              "                <script type=\"text/javascript\">window.PlotlyConfig = {MathJaxConfig: 'local'};</script>\n",
              "        <script src=\"https://cdn.plot.ly/plotly-latest.min.js\"></script>    \n",
              "            <div id=\"0493233e-e6a5-4ecf-8001-da119dcd437f\" class=\"plotly-graph-div\" style=\"height:800px; width:800px;\"></div>\n",
              "            <script type=\"text/javascript\">\n",
              "                \n",
              "                    window.PLOTLYENV=window.PLOTLYENV || {};\n",
              "                    \n",
              "                if (document.getElementById(\"0493233e-e6a5-4ecf-8001-da119dcd437f\")) {\n",
              "                    Plotly.newPlot(\n",
              "                        '0493233e-e6a5-4ecf-8001-da119dcd437f',\n",
              "                        [{\"hoverlabel\": {\"namelength\": 0}, \"hovertemplate\": \"0=%{x}<br>1=%{y}<br>diagnosis=%{marker.color}\", \"legendgroup\": \"\", \"marker\": {\"color\": [1, 1, 1, 1, 1, 1, 1, 1, 1, 1, 1, 1, 1, 1, 1, 1, 1, 1, 1, 0, 0, 0, 1, 1, 1, 1, 1, 1, 1, 1, 1, 1, 1, 1, 1, 1, 1, 0, 1, 1, 1, 1, 1, 1, 1, 1, 0, 1, 0, 0, 0, 0, 0, 1, 1, 0, 1, 1, 0, 0, 0, 0, 1, 0, 1, 1, 0, 0, 0, 0, 1, 0, 1, 1, 0, 1, 0, 1, 1, 0, 0, 0, 1, 1, 0, 1, 1, 1, 0, 0, 0, 1, 0, 0, 1, 1, 0, 0, 0, 1, 1, 0, 0, 0, 0, 1, 0, 0, 1, 0, 0, 0, 0, 0, 0, 0, 0, 1, 1, 1, 0, 1, 1, 0, 0, 0, 1, 1, 0, 1, 0, 1, 1, 0, 1, 1, 0, 0, 1, 0, 0, 1, 0, 0, 0, 0, 1, 0, 0, 0, 0, 0, 0, 0, 0, 0, 1, 0, 0, 0, 0, 1, 1, 0, 1, 0, 0, 1, 1, 0, 0, 1, 1, 0, 0, 0, 0, 1, 0, 0, 1, 1, 1, 0, 1, 0, 1, 0, 0, 0, 1, 0, 0, 1, 1, 0, 1, 1, 1, 1, 0, 1, 1, 1, 0, 1, 0, 1, 0, 0, 1, 0, 1, 1, 1, 1, 0, 0, 1, 1, 0, 0, 0, 1, 0, 0, 0, 0, 0, 1, 1, 0, 0, 1, 0, 0, 1, 1, 0, 1, 0, 0, 0, 0, 1, 0, 0, 0, 0, 0, 1, 0, 1, 1, 1, 1, 1, 1, 1, 1, 1, 1, 1, 1, 1, 1, 0, 0, 0, 0, 0, 0, 1, 0, 1, 0, 0, 1, 0, 0, 1, 0, 1, 1, 0, 0, 0, 0, 0, 0, 0, 0, 0, 0, 0, 0, 0, 1, 0, 0, 1, 0, 1, 0, 0, 0, 0, 0, 0, 0, 0, 0, 0, 0, 0, 0, 0, 1, 0, 0, 0, 1, 0, 1, 0, 0, 0, 0, 1, 1, 1, 0, 0, 0, 0, 1, 0, 1, 0, 1, 0, 0, 0, 1, 0, 0, 0, 0, 0, 0, 0, 1, 1, 1, 0, 0, 0, 0, 0, 0, 0, 0, 0, 0, 0, 1, 1, 0, 1, 1, 1, 0, 1, 1, 0, 0, 0, 0, 0, 1, 0, 0, 0, 0, 0, 1, 0, 0, 0, 1, 0, 0, 1, 1, 0, 0, 0, 0, 0, 0, 1, 0, 0, 0, 0, 0, 0, 0, 1, 0, 0, 0, 0, 0, 1, 0, 0, 1, 0, 0, 0, 0, 0, 0, 0, 0, 0, 0, 0, 0, 1, 0, 1, 1, 0, 1, 0, 0, 0, 0, 0, 1, 0, 0, 1, 0, 1, 0, 0, 1, 0, 1, 0, 0, 0, 0, 0, 0, 0, 0, 1, 1, 0, 0, 0, 0, 0, 0, 1, 0, 0, 0, 0, 0, 0, 0, 0, 0, 0, 1, 0, 0, 0, 0, 0, 0, 0, 1, 0, 1, 0, 0, 1, 0, 0, 0, 0, 0, 1, 1, 0, 1, 0, 1, 0, 0, 0, 0, 0, 1, 0, 0, 1, 0, 1, 0, 1, 1, 0, 0, 0, 1, 0, 0, 0, 0, 0, 0, 0, 0, 0, 0, 0, 1, 0, 1, 1, 0, 0, 0, 0, 0, 0, 0, 0, 0, 0, 0, 0, 0, 0, 0, 0, 0, 0, 0, 0, 0, 0, 0, 0, 0, 1, 1, 1, 1, 1, 1, 0], \"coloraxis\": \"coloraxis\", \"symbol\": \"circle\"}, \"mode\": \"markers\", \"name\": \"\", \"showlegend\": false, \"type\": \"scatter\", \"x\": [-2.871018886566162, 0.4388813376426697, -2.0428781509399414, 15.132161140441895, 0.10361234843730927, 14.57568645477295, 0.7843625545501709, 14.16335678100586, 14.700784683227539, 15.110175132751465, 3.6629698276519775, 13.523475646972656, -2.7820000648498535, 2.6736767292022705, 14.994651794433594, 14.773147583007812, 3.3618931770324707, 14.421850204467773, -0.9946038722991943, -7.254260540008545, 7.5811076164245605, 6.906799793243408, 14.782857894897461, -0.9405256509780884, -1.7142258882522583, -2.8408286571502686, 14.663042068481445, -0.006264746189117432, 14.402164459228516, 1.3896697759628296, -2.1642770767211914, 14.47429370880127, -2.3580145835876465, -2.1154510974884033, 13.650628089904785, 13.557504653930664, 13.465210914611816, 9.698444366455078, 6.2153191566467285, 13.579538345336914, 3.826315402984619, 6.698270320892334, -2.647368907928467, 13.691703796386719, 13.455958366394043, -2.5494866371154785, 8.127718925476074, 14.233662605285645, 7.450293064117432, 3.825035810470581, 9.336186408996582, 10.435441970825195, 8.439093589782715, -0.05194775387644768, 3.3445966243743896, 7.930617332458496, -1.1026430130004883, 13.790923118591309, 9.645753860473633, 6.715727806091309, 7.380450248718262, 6.948193550109863, 14.806305885314941, 7.7286529541015625, 14.039348602294922, 13.865836143493652, 6.552426815032959, 8.599312782287598, 7.2442731857299805, 8.737997055053711, 0.46152883768081665, 7.098171710968018, 14.295158386230469, -7.772524833679199, 8.813432693481445, 1.561864972114563, 6.943836212158203, -2.7772912979125977, -2.5909042358398438, 8.526105880737305, 6.540641784667969, 13.928173065185547, -1.959776759147644, -2.3285043239593506, 7.858416557312012, 0.017171960324048996, 2.7069919109344482, -1.1744400262832642, 6.336781978607178, -7.732083320617676, 6.826783180236816, 2.6357548236846924, 10.617047309875488, 8.427681922912598, 13.667936325073242, -0.6598007082939148, 6.237144470214844, 6.409815788269043, 7.436576843261719, 2.8375442028045654, 3.5334537029266357, 7.603107452392578, 6.572993278503418, 6.495553970336914, 7.424954891204834, 14.594247817993164, 6.445587158203125, 8.714512825012207, -2.3895936012268066, 6.444178581237793, 6.967440128326416, 7.0400543212890625, 7.2723708152771, 7.029110908508301, 6.780109405517578, 6.425015449523926, -7.652756690979004, 14.285653114318848, 14.61624813079834, 1.6942468881607056, 7.45559549331665, -0.11330617219209671, -2.445556640625, -7.4670491218566895, 8.70724105834961, 10.341280937194824, 3.3257534503936768, 1.4152026176452637, -7.707159996032715, -2.022770404815674, 7.435182094573975, 1.1544344425201416, 1.2438428401947021, -7.154496669769287, 0.7203966975212097, 6.762577056884766, 6.214611053466797, 8.608418464660645, 1.369095802307129, 6.560862064361572, 8.65315055847168, 1.4884977340698242, 6.232783794403076, 8.9829683303833, 10.020332336425781, 6.972513675689697, 14.415773391723633, 6.962371349334717, -7.7021098136901855, 10.75783920288086, 7.343925476074219, 7.03959846496582, 7.299952030181885, 7.006407737731934, 7.588275909423828, 8.120488166809082, -0.291069895029068, -7.200498104095459, 9.625394821166992, 10.05850601196289, 6.95193338394165, 0.27479037642478943, -2.0256166458129883, 6.388875961303711, -1.0420703887939453, 10.681750297546387, 7.117461681365967, 1.5970230102539062, -2.171394109725952, 9.848308563232422, 7.273548603057861, 3.4561715126037598, 13.932007789611816, 7.064109802246094, 8.895830154418945, 8.574220657348633, 7.131933689117432, 13.626495361328125, 10.43896198272705, 10.330604553222656, -1.7489217519760132, -2.414266347885132, 3.2401740550994873, 6.749701499938965, 3.0941126346588135, 7.90279483795166, 1.2086728811264038, 8.50760555267334, 6.818399906158447, 9.890243530273438, 15.086627960205078, 6.211310386657715, 9.577631950378418, 14.283855438232422, 13.630316734313965, 9.295001983642578, 6.571330547332764, 1.346287488937378, -1.2155133485794067, 13.545226097106934, 6.34782600402832, 1.0492033958435059, -2.2268261909484863, 14.759235382080078, 6.488901615142822, -7.806366443634033, 6.921740531921387, 1.6035816669464111, 13.726323127746582, -6.971192359924316, -0.4138951003551483, 8.602763175964355, -1.6147187948226929, 1.9934295415878296, 14.351722717285156, 13.82508659362793, 7.027727127075195, 7.6633453369140625, -0.6898751258850098, -1.37373685836792, 9.121283531188965, -7.4509453773498535, 6.887499809265137, 13.52487850189209, 10.062641143798828, -7.145938396453857, 6.845681667327881, -7.673521518707275, 3.237545967102051, 14.578004837036133, 13.88511848449707, 6.017209053039551, 5.899812698364258, -1.2703449726104736, 6.7939653396606445, 6.823314666748047, -1.6751409769058228, 0.5296874642372131, 5.998839855194092, -1.3818988800048828, 9.858820915222168, 10.226036071777344, 7.1787614822387695, 6.802081108093262, -0.2645123302936554, 6.924002170562744, 6.5542521476745605, 7.352736473083496, 6.397611141204834, 7.2785844802856445, -1.9574575424194336, 8.36418628692627, -2.6332032680511475, 0.9517704248428345, -0.8953321576118469, -7.780147552490234, -2.163053274154663, 14.759176254272461, -2.8443543910980225, 14.707320213317871, -1.3045865297317505, 3.665403366088867, 0.5273827910423279, 3.71163272857666, 0.9152514338493347, -1.3503402471542358, 7.259063720703125, 6.790016174316406, 7.902483940124512, 7.046363830566406, 10.507686614990234, 7.373562335968018, -1.7098852396011353, 7.745702266693115, 3.641235113143921, 6.562802314758301, 8.908368110656738, 1.615328073501587, 10.710309028625488, 9.479954719543457, -1.8470782041549683, 8.264266967773438, -1.202014446258545, 13.707442283630371, 8.64285945892334, 9.542067527770996, 7.065338134765625, 10.511636734008789, 7.001969337463379, 7.625124931335449, 7.1512346267700195, 2.9915528297424316, 7.490354061126709, 8.030034065246582, 9.64097785949707, 9.810577392578125, 10.004535675048828, 6.219202041625977, 10.715811729431152, 7.424714088439941, -2.058943271636963, 8.607786178588867, -2.428840160369873, 6.269988536834717, 8.794548988342285, 6.3197126388549805, 10.143881797790527, 8.700421333312988, 10.470264434814453, 10.482549667358398, 7.742701530456543, 10.739598274230957, 8.98869514465332, 9.521886825561523, 7.240296840667725, 10.368749618530273, 10.204654693603516, 0.9026027321815491, 7.168976783752441, 9.738885879516602, 7.062613010406494, 1.1436067819595337, 7.356151580810547, -2.368579864501953, 9.57328987121582, 8.493727684020996, 9.967802047729492, 10.289021492004395, 1.1926547288894653, 1.3424636125564575, 13.64143180847168, 7.997675895690918, 7.143918037414551, 9.075204849243164, 6.491727352142334, -0.19032050669193268, 8.905466079711914, -1.1945412158966064, 6.624124050140381, -1.5514732599258423, -7.766822814941406, 7.4337477684021, 7.337843894958496, -0.9831737279891968, 7.039582252502441, 6.927689552307129, 8.444642066955566, -7.051167964935303, 6.8605804443359375, 7.276669979095459, 9.997711181640625, 14.777616500854492, -1.7565499544143677, 1.4060418605804443, 9.746705055236816, 8.631242752075195, 7.0370917320251465, 10.463733673095703, 7.823729991912842, 6.341503620147705, 10.33910083770752, 6.744711875915527, 8.433073997497559, 3.550858974456787, 9.874295234680176, 0.3988375961780548, -1.046040415763855, 8.63628101348877, -1.1065592765808105, -1.719969391822815, 13.685298919677734, 10.179312705993652, -1.592015027999878, -0.8667829036712646, 9.389472007751465, -7.59422492980957, 7.241970539093018, 6.155146598815918, 9.008370399475098, 15.027610778808594, 7.236214637756348, 8.192572593688965, 7.084733009338379, 7.415927410125732, 9.169605255126953, 3.5132431983947754, 8.871159553527832, 10.784748077392578, 7.107335567474365, -0.40607255697250366, 7.084897041320801, 7.634235858917236, 14.26550579071045, -2.2803492546081543, 6.689552307128906, 10.461997032165527, 2.884526491165161, 8.657809257507324, 9.628214836120605, 8.259615898132324, 14.617714881896973, 9.880496978759766, 8.62523365020752, 8.860508918762207, 10.002365112304688, 6.243504047393799, -7.05561637878418, 6.989813327789307, 0.5969406962394714, 7.796088695526123, 6.645824432373047, 6.302118301391602, 8.760086059570312, 2.9767425060272217, 6.460657596588135, 6.711520671844482, 7.00267219543457, -2.6222753524780273, 7.684745788574219, 6.731116771697998, 7.829660415649414, -7.719557762145996, 7.198794841766357, 3.019371747970581, 7.36558723449707, 8.89859676361084, 7.369990825653076, 6.383822917938232, 9.990866661071777, 10.290257453918457, 14.826529502868652, 7.060043811798096, -1.8219455480575562, -1.1505897045135498, 10.003043174743652, 13.621362686157227, 8.13591194152832, 9.943227767944336, 6.7864089012146, 10.475676536560059, 7.005962371826172, 2.0521085262298584, 10.417001724243164, 7.694455623626709, 1.2368733882904053, 6.2891950607299805, -1.4598170518875122, 9.36068344116211, 3.4051458835601807, -0.975776195526123, 7.070476055145264, 0.37016865611076355, 5.967078685760498, -7.317153453826904, 9.138036727905273, 6.00955867767334, 5.887032985687256, 6.336053371429443, 6.315256118774414, 5.991295337677002, 0.7407580614089966, -1.6258493661880493, 6.376094341278076, 8.576647758483887, 10.12857723236084, 7.291077613830566, 3.0620944499969482, 8.003541946411133, -2.54970121383667, 6.786853313446045, 7.445936679840088, 5.9561567306518555, -7.068813323974609, 9.585966110229492, 7.494814395904541, 9.11490535736084, 3.076767683029175, 10.726910591125488, 7.35984992980957, 13.763833999633789, 8.605511665344238, 10.61301326751709, -7.51236629486084, 9.395983695983887, -7.648815155029297, 7.209524154663086, 10.540234565734863, -1.8935903310775757, 6.990942001342773, -6.980566024780273, 6.52692985534668, 10.549281120300293, 0.07273968309164047, 9.947211265563965, 6.623125076293945, 3.550461769104004, -7.791592121124268, 8.812898635864258, -0.16511745750904083, -1.8439090251922607, -7.592961311340332, 14.280760765075684, 7.096899032592773, -1.3681060075759888, 6.881974697113037, 6.891568660736084, 6.718873977661133, 7.005202293395996, -7.062305927276611, 14.712048530578613, 8.828021049499512, 10.250944137573242, 14.262808799743652, -7.103879928588867, 3.540095090866089, 6.878340244293213, 0.5039257407188416, -0.3975401520729065, 6.60114860534668, 7.098932266235352, 7.1024169921875, -1.7640321254730225, 8.97040843963623, 6.485232830047607, 6.249810218811035, 6.727346420288086, -7.800436019897461, 9.113037109375, 6.527957916259766, 7.3304443359375, 6.1981353759765625, 6.465376377105713, 9.511240005493164, -0.46945610642433167, 6.461258411407471, -1.9005166292190552, 2.8063361644744873, 6.789132118225098, 7.8854570388793945, 7.000997543334961, 7.075256824493408, 13.495193481445312, 3.7970070838928223, 6.073390960693359, 8.42492961883545, 6.857657432556152, 8.669413566589355, 6.9685139656066895, 8.555603981018066, 6.352323055267334, 9.376934051513672, 7.5588698387146, 6.058804988861084, 7.431726455688477, 6.027827739715576, 5.9137372970581055, 7.392441749572754, 9.599349975585938, 3.0737881660461426, 5.993553161621094, 3.8097407817840576, 9.614864349365234, 14.953315734863281, -2.2594940662384033, -1.5415993928909302, -1.2431851625442505, 2.2140657901763916, -2.437441110610962, 9.345711708068848], \"xaxis\": \"x\", \"y\": [0.48793599009513855, -1.5452311038970947, 0.42881500720977783, 0.426017701625824, -1.2909859418869019, -0.14745834469795227, -0.8531692028045654, -0.4167153239250183, 0.08424302190542221, 0.423944354057312, -0.3538450300693512, 0.20034360885620117, 0.7272301316261292, -1.3028547763824463, 0.4764725863933563, 0.31166598200798035, -0.7447296380996704, 0.7530995011329651, 0.42940667271614075, 1.3611148595809937, 5.53173303604126, 7.073292255401611, 0.9176209568977356, 0.38388729095458984, -0.32305705547332764, 0.47896069288253784, 0.20065538585186005, -1.1686500310897827, 0.6138613820075989, -1.3624051809310913, 0.16262368857860565, -0.2490970641374588, -0.1422220766544342, -0.25939276814460754, 0.262382447719574, 0.16498003900051117, -0.4396313726902008, 10.292525291442871, 11.430914878845215, -0.5034114718437195, -0.12472032010555267, 0.6859406232833862, 0.9055253267288208, -0.4821527302265167, -0.5497678518295288, 0.30912333726882935, 10.393247604370117, -0.3670876622200012, 6.275266170501709, -0.1693858951330185, 10.180597305297852, 7.33576774597168, 8.662717819213867, -1.0657885074615479, -0.7612611651420593, 8.900816917419434, -0.2443198710680008, -0.33193063735961914, 10.247383117675781, 7.036693572998047, 10.110567092895508, 10.797184944152832, 0.8117994666099548, 9.756526947021484, -0.3867999315261841, -0.30542632937431335, 10.915205955505371, 8.572098731994629, 0.6142484545707703, 8.258354187011719, -1.569041132926941, 1.262422800064087, 1.0022097826004028, 0.8330694437026978, 7.097772598266602, -1.5089728832244873, 5.769745826721191, 0.3719044625759125, 0.9946895837783813, 7.106398105621338, 10.956310272216797, -0.47600215673446655, 1.303473711013794, -0.0555417463183403, 8.494006156921387, -1.1207537651062012, -1.3333481550216675, -0.6290522217750549, 4.382893085479736, 0.6173334121704102, 13.680119514465332, -1.333234429359436, 7.21936559677124, 7.050798416137695, 0.6279211640357971, -0.3731462359428406, 11.200569152832031, 10.918225288391113, 6.56321382522583, -1.3092148303985596, -0.5917897820472717, 10.556314468383789, 13.374911308288574, 4.570043087005615, 9.836128234863281, -0.11910675466060638, 4.345412254333496, 7.197591304779053, 1.1705265045166016, 4.820868492126465, 4.22307825088501, 2.391639471054077, 0.5954300761222839, 3.3681323528289795, 6.953230857849121, 4.688107967376709, 1.0023270845413208, 0.49839475750923157, 0.8103750348091125, -1.6330697536468506, 6.620508670806885, -1.0372341871261597, 1.14015793800354, 1.2093318700790405, 5.083164215087891, 7.51092529296875, -0.7960591316223145, -1.6587718725204468, 0.5721498727798462, 0.1480509489774704, 5.644845008850098, -0.7467046976089478, -0.758892297744751, 1.3222339153289795, -0.8892146944999695, 13.387002944946289, 11.250093460083008, 7.454916954040527, -0.6483687162399292, 6.0026140213012695, 10.426116943359375, -1.4279354810714722, 10.999178886413574, 6.1367597579956055, 9.815289497375488, 3.47391676902771, -0.35553988814353943, 2.2004153728485107, 0.9926466345787048, 7.437402248382568, 9.706755638122559, 1.0229439735412598, 0.6179124116897583, 7.192514896392822, 5.396235942840576, 8.349411010742188, -0.8879777193069458, 1.2553374767303467, 8.316267013549805, 9.780818939208984, 3.972139358520508, -1.4371471405029297, 0.4687436521053314, 4.435866832733154, 0.5516431331634521, 7.5634074211120605, 6.942897319793701, -1.5690339803695679, 0.004225464072078466, 6.799490928649902, 6.475052356719971, -0.6404564380645752, 0.6631082892417908, 10.786191940307617, 10.374382019042969, 10.41006851196289, 1.0592470169067383, 0.6227421164512634, 9.358311653137207, 9.172981262207031, 1.3181841373443604, 1.0930951833724976, -0.8525405526161194, 6.444741725921631, -1.1182607412338257, 10.457610130310059, -1.1038864850997925, 7.392288684844971, 10.356142044067383, 9.002006530761719, 0.46634477376937866, 11.361794471740723, 10.511531829833984, -0.32074424624443054, 0.6225264668464661, 6.887243270874023, 0.600061297416687, -1.6822072267532349, -0.634355366230011, -0.3133559823036194, 4.51413631439209, -0.9360080361366272, 1.1905533075332642, 0.26878416538238525, 4.250972270965576, 0.8068145513534546, 10.259856224060059, -1.6003726720809937, -0.6176830530166626, 1.4047160148620605, -0.5318691730499268, 7.717662334442139, 1.2657700777053833, -1.5044620037078857, -0.40486496686935425, -0.49206480383872986, 2.5591304302215576, 9.727156639099121, -0.30434107780456543, -0.9136313796043396, 5.93593168258667, 1.237768530845642, 10.241353988647461, -0.19210858643054962, 7.026796340942383, 1.3168543577194214, 7.398721694946289, 0.9343555569648743, -0.9237654209136963, -0.039387837052345276, 0.773474931716919, 13.601417541503906, 13.707921028137207, -0.9281313419342041, 7.26752233505249, 13.55929183959961, 1.2732328176498413, -1.57001531124115, 14.180320739746094, -0.8848802447319031, 6.7902021408081055, 9.562844276428223, 0.6910272240638733, 13.670600891113281, -0.9316262602806091, 10.823725700378418, 13.199018478393555, 0.49810120463371277, 12.86065673828125, 6.296367168426514, 0.826812207698822, 8.687305450439453, 0.3679589033126831, -0.9193539619445801, -0.3267610967159271, 0.6911585330963135, 0.11806946992874146, 0.8729304075241089, 0.6074195504188538, 0.42643359303474426, -0.7879854440689087, -0.3698439300060272, -1.6199817657470703, -0.27739381790161133, -0.8524459600448608, -0.8907879590988159, 3.8923323154449463, 13.582197189331055, 8.481605529785156, 2.9307150840759277, 9.155315399169922, 6.602994918823242, 1.1013588905334473, 10.276154518127441, -0.4127325713634491, 6.012455940246582, 10.38570785522461, -1.5949881076812744, 7.586503028869629, 6.51371431350708, -0.33135655522346497, 8.971946716308594, -0.25992289185523987, 0.6336514353752136, 5.0244975090026855, 10.305957794189453, 1.9913843870162964, 9.188385009765625, 2.260573148727417, 9.4456148147583, 1.0371850728988647, -1.2336256504058838, 5.512850761413574, 8.34124755859375, 8.319735527038574, 8.32563304901123, 10.083661079406738, 11.2650728225708, 7.52648401260376, 10.490169525146484, 0.44359275698661804, 4.988302230834961, 0.6782179474830627, 10.934152603149414, 8.373157501220703, 13.067133903503418, 9.067683219909668, 10.3931303024292, 9.225625991821289, 9.305472373962402, 9.049790382385254, 7.615149021148682, 5.6996917724609375, 9.304085731506348, 10.670286178588867, 9.430870056152344, 9.69528865814209, -0.8879130482673645, 0.7596744298934937, 10.281906127929688, 3.4669501781463623, -1.664016604423523, 6.124094486236572, 1.028402328491211, 8.279532432556152, 7.9839067459106445, 8.22460651397705, 9.597415924072266, -0.6695278286933899, -0.6678286790847778, 0.578485906124115, 4.801232814788818, 10.639878273010254, 10.304850578308105, 13.0855712890625, -0.8373318910598755, 5.619734287261963, -0.5279978513717651, 10.566629409790039, 1.1831254959106445, 0.7810271382331848, 4.108271598815918, 5.593693256378174, -0.0008494447683915496, 6.0000176429748535, 4.083144187927246, 8.71723461151123, 1.3902535438537598, 7.20408821105957, 9.817147254943848, 9.916234970092773, 0.8707109689712524, 1.2990562915802002, -0.5912322402000427, 9.838094711303711, 4.991353511810303, 2.399548292160034, 7.558347225189209, 9.784781455993652, 10.880108833312988, 9.54172134399414, 13.503247261047363, 7.190859794616699, -0.5219281911849976, 7.146030426025391, -1.5361649990081787, 0.03173055499792099, 7.060883045196533, 0.6202570199966431, 1.228576898574829, 0.48749351501464844, 6.934429168701172, 0.20099706947803497, 0.15682268142700195, 6.816528797149658, 1.0975652933120728, 0.6301451325416565, 13.906280517578125, 5.751008033752441, 0.3980858325958252, 5.584066390991211, 8.48827075958252, 1.9546359777450562, 3.9981651306152344, 5.996786594390869, -0.5746351480484009, 5.4405646324157715, 7.78877067565918, 1.7448986768722534, -0.5596184730529785, 6.972391128540039, 10.554252624511719, 0.8007581233978271, 1.1056697368621826, 6.337009906768799, 7.453500270843506, -1.3053303956985474, 5.0329060554504395, 8.4481782913208, 8.222089767456055, 0.8990382552146912, 8.484827995300293, 5.026040554046631, 6.84797477722168, 10.008411407470703, 11.034387588500977, 1.3902357816696167, 2.2055766582489014, -0.823835015296936, 8.614340782165527, 13.301740646362305, 10.849873542785645, 10.281271934509277, -1.2423136234283447, 13.888411521911621, 6.0755615234375, 10.748187065124512, 0.2249225527048111, 6.7489824295043945, 10.382070541381836, 8.613752365112305, 0.5297871828079224, 5.723329544067383, -1.2379645109176636, 10.213062286376953, 10.262688636779785, 4.024892330169678, 12.959173202514648, 9.890789031982422, 9.590620040893555, 0.7498526573181152, 3.5807769298553467, 0.22463418543338776, -0.6694529056549072, 6.899946212768555, -0.5669720768928528, 8.393693923950195, 6.92329216003418, 13.51544189453125, 7.2147932052612305, 2.028538227081299, -1.4682203531265259, 9.167340278625488, 9.867060661315918, -1.123052954673767, 4.370176792144775, -0.7811148762702942, 6.433421611785889, -0.7042597532272339, 0.35067233443260193, 1.9613159894943237, -0.8625229597091675, 14.012819290161133, 1.3103315830230713, 6.788893222808838, 13.99601936340332, 14.0335054397583, 13.759176254272461, 13.774553298950195, 13.760664939880371, -0.7182263731956482, 1.2643874883651733, 13.857757568359375, 7.399825096130371, 7.067091941833496, 0.5076172351837158, -1.1894323825836182, 10.385092735290527, 0.16903002560138702, 0.7744143605232239, 9.785737037658691, 13.780832290649414, 1.3502458333969116, 10.5431547164917, 4.230116844177246, 5.9357218742370605, -1.1873884201049805, 7.562447547912598, 5.728317737579346, 0.6634204387664795, 7.706634044647217, 7.41428804397583, 1.2050533294677734, 6.637863636016846, 1.0227599143981934, 0.7112186551094055, 7.25976037979126, 0.19432303309440613, 5.91511869430542, 1.377578616142273, 13.378388404846191, 7.087973117828369, -1.192227840423584, 10.1219482421875, 13.333117485046387, -0.5145602822303772, 0.7320784330368042, 6.981478214263916, -0.9490258097648621, 0.27824702858924866, 1.0968482494354248, -0.36203014850616455, 5.782588481903076, 1.0360331535339355, 0.9611036777496338, 0.9673284292221069, 4.476019382476807, 3.5338783264160156, 1.3840810060501099, 0.7155217528343201, 5.343787670135498, 6.952510356903076, -0.24617189168930054, 1.354537010192871, -0.5518269538879395, 6.111108303070068, -0.8632914423942566, -0.8296515345573425, 4.034552574157715, 5.751128673553467, 3.5091795921325684, 1.2900118827819824, 10.231402397155762, 4.218331336975098, 10.935223579406738, 7.008031845092773, 0.764197587966919, 6.6887407302856445, 6.0037150382995605, 6.415095329284668, 11.076583862304688, 4.725776672363281, 6.775763511657715, -0.516122579574585, 4.53118896484375, 0.34137606620788574, -1.3278976678848267, 0.7813781499862671, 10.474380493164062, 1.0026403665542603, 3.5920331478118896, -0.48887908458709717, -0.06616827100515366, 13.977555274963379, 6.897221565246582, 13.64533805847168, 10.334099769592285, 4.369426250457764, 10.285785675048828, 12.98662281036377, 10.326045036315918, 9.498224258422852, 13.979467391967773, 10.535978317260742, 13.992179870605469, 14.079889297485352, 10.543787002563477, 10.548989295959473, -1.171920657157898, 14.009977340698242, -0.08211696892976761, 10.5724515914917, 0.5463722348213196, 1.1017487049102783, 1.1453951597213745, -0.8508827090263367, -1.451305866241455, 1.1216661930084229, 10.389026641845703], \"yaxis\": \"y\"}],\n",
              "                        {\"autosize\": false, \"coloraxis\": {\"colorbar\": {\"title\": {\"text\": \"diagnosis\"}}, \"colorscale\": [[0.0, \"#0d0887\"], [0.1111111111111111, \"#46039f\"], [0.2222222222222222, \"#7201a8\"], [0.3333333333333333, \"#9c179e\"], [0.4444444444444444, \"#bd3786\"], [0.5555555555555556, \"#d8576b\"], [0.6666666666666666, \"#ed7953\"], [0.7777777777777778, \"#fb9f3a\"], [0.8888888888888888, \"#fdca26\"], [1.0, \"#f0f921\"]]}, \"height\": 800, \"legend\": {\"tracegroupgap\": 0}, \"margin\": {\"t\": 60}, \"template\": {\"data\": {\"bar\": [{\"error_x\": {\"color\": \"#2a3f5f\"}, \"error_y\": {\"color\": \"#2a3f5f\"}, \"marker\": {\"line\": {\"color\": \"#E5ECF6\", \"width\": 0.5}}, \"type\": \"bar\"}], \"barpolar\": [{\"marker\": {\"line\": {\"color\": \"#E5ECF6\", \"width\": 0.5}}, \"type\": \"barpolar\"}], \"carpet\": [{\"aaxis\": {\"endlinecolor\": \"#2a3f5f\", \"gridcolor\": \"white\", \"linecolor\": \"white\", \"minorgridcolor\": \"white\", \"startlinecolor\": \"#2a3f5f\"}, \"baxis\": {\"endlinecolor\": \"#2a3f5f\", \"gridcolor\": \"white\", \"linecolor\": \"white\", \"minorgridcolor\": \"white\", \"startlinecolor\": \"#2a3f5f\"}, \"type\": \"carpet\"}], \"choropleth\": [{\"colorbar\": {\"outlinewidth\": 0, \"ticks\": \"\"}, \"type\": \"choropleth\"}], \"contour\": [{\"colorbar\": {\"outlinewidth\": 0, \"ticks\": \"\"}, \"colorscale\": [[0.0, \"#0d0887\"], [0.1111111111111111, \"#46039f\"], [0.2222222222222222, \"#7201a8\"], [0.3333333333333333, \"#9c179e\"], [0.4444444444444444, \"#bd3786\"], [0.5555555555555556, \"#d8576b\"], [0.6666666666666666, \"#ed7953\"], [0.7777777777777778, \"#fb9f3a\"], [0.8888888888888888, \"#fdca26\"], [1.0, \"#f0f921\"]], \"type\": \"contour\"}], \"contourcarpet\": [{\"colorbar\": {\"outlinewidth\": 0, \"ticks\": \"\"}, \"type\": \"contourcarpet\"}], \"heatmap\": [{\"colorbar\": {\"outlinewidth\": 0, \"ticks\": \"\"}, \"colorscale\": [[0.0, \"#0d0887\"], [0.1111111111111111, \"#46039f\"], [0.2222222222222222, \"#7201a8\"], [0.3333333333333333, \"#9c179e\"], [0.4444444444444444, \"#bd3786\"], [0.5555555555555556, \"#d8576b\"], [0.6666666666666666, \"#ed7953\"], [0.7777777777777778, \"#fb9f3a\"], [0.8888888888888888, \"#fdca26\"], [1.0, \"#f0f921\"]], \"type\": \"heatmap\"}], \"heatmapgl\": [{\"colorbar\": {\"outlinewidth\": 0, \"ticks\": \"\"}, \"colorscale\": [[0.0, \"#0d0887\"], [0.1111111111111111, \"#46039f\"], [0.2222222222222222, \"#7201a8\"], [0.3333333333333333, \"#9c179e\"], [0.4444444444444444, \"#bd3786\"], [0.5555555555555556, \"#d8576b\"], [0.6666666666666666, \"#ed7953\"], [0.7777777777777778, \"#fb9f3a\"], [0.8888888888888888, \"#fdca26\"], [1.0, \"#f0f921\"]], \"type\": \"heatmapgl\"}], \"histogram\": [{\"marker\": {\"colorbar\": {\"outlinewidth\": 0, \"ticks\": \"\"}}, \"type\": \"histogram\"}], \"histogram2d\": [{\"colorbar\": {\"outlinewidth\": 0, \"ticks\": \"\"}, \"colorscale\": [[0.0, \"#0d0887\"], [0.1111111111111111, \"#46039f\"], [0.2222222222222222, \"#7201a8\"], [0.3333333333333333, \"#9c179e\"], [0.4444444444444444, \"#bd3786\"], [0.5555555555555556, \"#d8576b\"], [0.6666666666666666, \"#ed7953\"], [0.7777777777777778, \"#fb9f3a\"], [0.8888888888888888, \"#fdca26\"], [1.0, \"#f0f921\"]], \"type\": \"histogram2d\"}], \"histogram2dcontour\": [{\"colorbar\": {\"outlinewidth\": 0, \"ticks\": \"\"}, \"colorscale\": [[0.0, \"#0d0887\"], [0.1111111111111111, \"#46039f\"], [0.2222222222222222, \"#7201a8\"], [0.3333333333333333, \"#9c179e\"], [0.4444444444444444, \"#bd3786\"], [0.5555555555555556, \"#d8576b\"], [0.6666666666666666, \"#ed7953\"], [0.7777777777777778, \"#fb9f3a\"], [0.8888888888888888, \"#fdca26\"], [1.0, \"#f0f921\"]], \"type\": \"histogram2dcontour\"}], \"mesh3d\": [{\"colorbar\": {\"outlinewidth\": 0, \"ticks\": \"\"}, \"type\": \"mesh3d\"}], \"parcoords\": [{\"line\": {\"colorbar\": {\"outlinewidth\": 0, \"ticks\": \"\"}}, \"type\": \"parcoords\"}], \"pie\": [{\"automargin\": true, \"type\": \"pie\"}], \"scatter\": [{\"marker\": {\"colorbar\": {\"outlinewidth\": 0, \"ticks\": \"\"}}, \"type\": \"scatter\"}], \"scatter3d\": [{\"line\": {\"colorbar\": {\"outlinewidth\": 0, \"ticks\": \"\"}}, \"marker\": {\"colorbar\": {\"outlinewidth\": 0, \"ticks\": \"\"}}, \"type\": \"scatter3d\"}], \"scattercarpet\": [{\"marker\": {\"colorbar\": {\"outlinewidth\": 0, \"ticks\": \"\"}}, \"type\": \"scattercarpet\"}], \"scattergeo\": [{\"marker\": {\"colorbar\": {\"outlinewidth\": 0, \"ticks\": \"\"}}, \"type\": \"scattergeo\"}], \"scattergl\": [{\"marker\": {\"colorbar\": {\"outlinewidth\": 0, \"ticks\": \"\"}}, \"type\": \"scattergl\"}], \"scattermapbox\": [{\"marker\": {\"colorbar\": {\"outlinewidth\": 0, \"ticks\": \"\"}}, \"type\": \"scattermapbox\"}], \"scatterpolar\": [{\"marker\": {\"colorbar\": {\"outlinewidth\": 0, \"ticks\": \"\"}}, \"type\": \"scatterpolar\"}], \"scatterpolargl\": [{\"marker\": {\"colorbar\": {\"outlinewidth\": 0, \"ticks\": \"\"}}, \"type\": \"scatterpolargl\"}], \"scatterternary\": [{\"marker\": {\"colorbar\": {\"outlinewidth\": 0, \"ticks\": \"\"}}, \"type\": \"scatterternary\"}], \"surface\": [{\"colorbar\": {\"outlinewidth\": 0, \"ticks\": \"\"}, \"colorscale\": [[0.0, \"#0d0887\"], [0.1111111111111111, \"#46039f\"], [0.2222222222222222, \"#7201a8\"], [0.3333333333333333, \"#9c179e\"], [0.4444444444444444, \"#bd3786\"], [0.5555555555555556, \"#d8576b\"], [0.6666666666666666, \"#ed7953\"], [0.7777777777777778, \"#fb9f3a\"], [0.8888888888888888, \"#fdca26\"], [1.0, \"#f0f921\"]], \"type\": \"surface\"}], \"table\": [{\"cells\": {\"fill\": {\"color\": \"#EBF0F8\"}, \"line\": {\"color\": \"white\"}}, \"header\": {\"fill\": {\"color\": \"#C8D4E3\"}, \"line\": {\"color\": \"white\"}}, \"type\": \"table\"}]}, \"layout\": {\"annotationdefaults\": {\"arrowcolor\": \"#2a3f5f\", \"arrowhead\": 0, \"arrowwidth\": 1}, \"coloraxis\": {\"colorbar\": {\"outlinewidth\": 0, \"ticks\": \"\"}}, \"colorscale\": {\"diverging\": [[0, \"#8e0152\"], [0.1, \"#c51b7d\"], [0.2, \"#de77ae\"], [0.3, \"#f1b6da\"], [0.4, \"#fde0ef\"], [0.5, \"#f7f7f7\"], [0.6, \"#e6f5d0\"], [0.7, \"#b8e186\"], [0.8, \"#7fbc41\"], [0.9, \"#4d9221\"], [1, \"#276419\"]], \"sequential\": [[0.0, \"#0d0887\"], [0.1111111111111111, \"#46039f\"], [0.2222222222222222, \"#7201a8\"], [0.3333333333333333, \"#9c179e\"], [0.4444444444444444, \"#bd3786\"], [0.5555555555555556, \"#d8576b\"], [0.6666666666666666, \"#ed7953\"], [0.7777777777777778, \"#fb9f3a\"], [0.8888888888888888, \"#fdca26\"], [1.0, \"#f0f921\"]], \"sequentialminus\": [[0.0, \"#0d0887\"], [0.1111111111111111, \"#46039f\"], [0.2222222222222222, \"#7201a8\"], [0.3333333333333333, \"#9c179e\"], [0.4444444444444444, \"#bd3786\"], [0.5555555555555556, \"#d8576b\"], [0.6666666666666666, \"#ed7953\"], [0.7777777777777778, \"#fb9f3a\"], [0.8888888888888888, \"#fdca26\"], [1.0, \"#f0f921\"]]}, \"colorway\": [\"#636efa\", \"#EF553B\", \"#00cc96\", \"#ab63fa\", \"#FFA15A\", \"#19d3f3\", \"#FF6692\", \"#B6E880\", \"#FF97FF\", \"#FECB52\"], \"font\": {\"color\": \"#2a3f5f\"}, \"geo\": {\"bgcolor\": \"white\", \"lakecolor\": \"white\", \"landcolor\": \"#E5ECF6\", \"showlakes\": true, \"showland\": true, \"subunitcolor\": \"white\"}, \"hoverlabel\": {\"align\": \"left\"}, \"hovermode\": \"closest\", \"mapbox\": {\"style\": \"light\"}, \"paper_bgcolor\": \"white\", \"plot_bgcolor\": \"#E5ECF6\", \"polar\": {\"angularaxis\": {\"gridcolor\": \"white\", \"linecolor\": \"white\", \"ticks\": \"\"}, \"bgcolor\": \"#E5ECF6\", \"radialaxis\": {\"gridcolor\": \"white\", \"linecolor\": \"white\", \"ticks\": \"\"}}, \"scene\": {\"xaxis\": {\"backgroundcolor\": \"#E5ECF6\", \"gridcolor\": \"white\", \"gridwidth\": 2, \"linecolor\": \"white\", \"showbackground\": true, \"ticks\": \"\", \"zerolinecolor\": \"white\"}, \"yaxis\": {\"backgroundcolor\": \"#E5ECF6\", \"gridcolor\": \"white\", \"gridwidth\": 2, \"linecolor\": \"white\", \"showbackground\": true, \"ticks\": \"\", \"zerolinecolor\": \"white\"}, \"zaxis\": {\"backgroundcolor\": \"#E5ECF6\", \"gridcolor\": \"white\", \"gridwidth\": 2, \"linecolor\": \"white\", \"showbackground\": true, \"ticks\": \"\", \"zerolinecolor\": \"white\"}}, \"shapedefaults\": {\"line\": {\"color\": \"#2a3f5f\"}}, \"ternary\": {\"aaxis\": {\"gridcolor\": \"white\", \"linecolor\": \"white\", \"ticks\": \"\"}, \"baxis\": {\"gridcolor\": \"white\", \"linecolor\": \"white\", \"ticks\": \"\"}, \"bgcolor\": \"#E5ECF6\", \"caxis\": {\"gridcolor\": \"white\", \"linecolor\": \"white\", \"ticks\": \"\"}}, \"title\": {\"x\": 0.05}, \"xaxis\": {\"automargin\": true, \"gridcolor\": \"white\", \"linecolor\": \"white\", \"ticks\": \"\", \"title\": {\"standoff\": 15}, \"zerolinecolor\": \"white\", \"zerolinewidth\": 2}, \"yaxis\": {\"automargin\": true, \"gridcolor\": \"white\", \"linecolor\": \"white\", \"ticks\": \"\", \"title\": {\"standoff\": 15}, \"zerolinecolor\": \"white\", \"zerolinewidth\": 2}}}, \"width\": 800, \"xaxis\": {\"anchor\": \"y\", \"domain\": [0.0, 1.0], \"title\": {\"text\": \"0\"}}, \"yaxis\": {\"anchor\": \"x\", \"domain\": [0.0, 1.0], \"title\": {\"text\": \"1\"}}},\n",
              "                        {\"responsive\": true}\n",
              "                    ).then(function(){\n",
              "                            \n",
              "var gd = document.getElementById('0493233e-e6a5-4ecf-8001-da119dcd437f');\n",
              "var x = new MutationObserver(function (mutations, observer) {{\n",
              "        var display = window.getComputedStyle(gd).display;\n",
              "        if (!display || display === 'none') {{\n",
              "            console.log([gd, 'removed!']);\n",
              "            Plotly.purge(gd);\n",
              "            observer.disconnect();\n",
              "        }}\n",
              "}});\n",
              "\n",
              "// Listen for the removal of the full notebook cells\n",
              "var notebookContainer = gd.closest('#notebook-container');\n",
              "if (notebookContainer) {{\n",
              "    x.observe(notebookContainer, {childList: true});\n",
              "}}\n",
              "\n",
              "// Listen for the clearing of the current output cell\n",
              "var outputEl = gd.closest('.output');\n",
              "if (outputEl) {{\n",
              "    x.observe(outputEl, {childList: true});\n",
              "}}\n",
              "\n",
              "                        })\n",
              "                };\n",
              "                \n",
              "            </script>\n",
              "        </div>\n",
              "</body>\n",
              "</html>"
            ]
          },
          "metadata": {
            "tags": []
          }
        },
        {
          "output_type": "display_data",
          "data": {
            "text/html": [
              "<html>\n",
              "<head><meta charset=\"utf-8\" /></head>\n",
              "<body>\n",
              "    <div>\n",
              "            <script src=\"https://cdnjs.cloudflare.com/ajax/libs/mathjax/2.7.5/MathJax.js?config=TeX-AMS-MML_SVG\"></script><script type=\"text/javascript\">if (window.MathJax) {MathJax.Hub.Config({SVG: {font: \"STIX-Web\"}});}</script>\n",
              "                <script type=\"text/javascript\">window.PlotlyConfig = {MathJaxConfig: 'local'};</script>\n",
              "        <script src=\"https://cdn.plot.ly/plotly-latest.min.js\"></script>    \n",
              "            <div id=\"c59b2ecc-e477-4a92-bc77-09ea6032765f\" class=\"plotly-graph-div\" style=\"height:800px; width:800px;\"></div>\n",
              "            <script type=\"text/javascript\">\n",
              "                \n",
              "                    window.PLOTLYENV=window.PLOTLYENV || {};\n",
              "                    \n",
              "                if (document.getElementById(\"c59b2ecc-e477-4a92-bc77-09ea6032765f\")) {\n",
              "                    Plotly.newPlot(\n",
              "                        'c59b2ecc-e477-4a92-bc77-09ea6032765f',\n",
              "                        [{\"hoverlabel\": {\"namelength\": 0}, \"hovertemplate\": \"0=%{x}<br>1=%{y}<br>2=%{z}<br>diagnosis=%{marker.color}\", \"legendgroup\": \"\", \"marker\": {\"color\": [1, 1, 1, 1, 1, 1, 1, 1, 1, 1, 1, 1, 1, 1, 1, 1, 1, 1, 1, 0, 0, 0, 1, 1, 1, 1, 1, 1, 1, 1, 1, 1, 1, 1, 1, 1, 1, 0, 1, 1, 1, 1, 1, 1, 1, 1, 0, 1, 0, 0, 0, 0, 0, 1, 1, 0, 1, 1, 0, 0, 0, 0, 1, 0, 1, 1, 0, 0, 0, 0, 1, 0, 1, 1, 0, 1, 0, 1, 1, 0, 0, 0, 1, 1, 0, 1, 1, 1, 0, 0, 0, 1, 0, 0, 1, 1, 0, 0, 0, 1, 1, 0, 0, 0, 0, 1, 0, 0, 1, 0, 0, 0, 0, 0, 0, 0, 0, 1, 1, 1, 0, 1, 1, 0, 0, 0, 1, 1, 0, 1, 0, 1, 1, 0, 1, 1, 0, 0, 1, 0, 0, 1, 0, 0, 0, 0, 1, 0, 0, 0, 0, 0, 0, 0, 0, 0, 1, 0, 0, 0, 0, 1, 1, 0, 1, 0, 0, 1, 1, 0, 0, 1, 1, 0, 0, 0, 0, 1, 0, 0, 1, 1, 1, 0, 1, 0, 1, 0, 0, 0, 1, 0, 0, 1, 1, 0, 1, 1, 1, 1, 0, 1, 1, 1, 0, 1, 0, 1, 0, 0, 1, 0, 1, 1, 1, 1, 0, 0, 1, 1, 0, 0, 0, 1, 0, 0, 0, 0, 0, 1, 1, 0, 0, 1, 0, 0, 1, 1, 0, 1, 0, 0, 0, 0, 1, 0, 0, 0, 0, 0, 1, 0, 1, 1, 1, 1, 1, 1, 1, 1, 1, 1, 1, 1, 1, 1, 0, 0, 0, 0, 0, 0, 1, 0, 1, 0, 0, 1, 0, 0, 1, 0, 1, 1, 0, 0, 0, 0, 0, 0, 0, 0, 0, 0, 0, 0, 0, 1, 0, 0, 1, 0, 1, 0, 0, 0, 0, 0, 0, 0, 0, 0, 0, 0, 0, 0, 0, 1, 0, 0, 0, 1, 0, 1, 0, 0, 0, 0, 1, 1, 1, 0, 0, 0, 0, 1, 0, 1, 0, 1, 0, 0, 0, 1, 0, 0, 0, 0, 0, 0, 0, 1, 1, 1, 0, 0, 0, 0, 0, 0, 0, 0, 0, 0, 0, 1, 1, 0, 1, 1, 1, 0, 1, 1, 0, 0, 0, 0, 0, 1, 0, 0, 0, 0, 0, 1, 0, 0, 0, 1, 0, 0, 1, 1, 0, 0, 0, 0, 0, 0, 1, 0, 0, 0, 0, 0, 0, 0, 1, 0, 0, 0, 0, 0, 1, 0, 0, 1, 0, 0, 0, 0, 0, 0, 0, 0, 0, 0, 0, 0, 1, 0, 1, 1, 0, 1, 0, 0, 0, 0, 0, 1, 0, 0, 1, 0, 1, 0, 0, 1, 0, 1, 0, 0, 0, 0, 0, 0, 0, 0, 1, 1, 0, 0, 0, 0, 0, 0, 1, 0, 0, 0, 0, 0, 0, 0, 0, 0, 0, 1, 0, 0, 0, 0, 0, 0, 0, 1, 0, 1, 0, 0, 1, 0, 0, 0, 0, 0, 1, 1, 0, 1, 0, 1, 0, 0, 0, 0, 0, 1, 0, 0, 1, 0, 1, 0, 1, 1, 0, 0, 0, 1, 0, 0, 0, 0, 0, 0, 0, 0, 0, 0, 0, 1, 0, 1, 1, 0, 0, 0, 0, 0, 0, 0, 0, 0, 0, 0, 0, 0, 0, 0, 0, 0, 0, 0, 0, 0, 0, 0, 0, 0, 1, 1, 1, 1, 1, 1, 0], \"coloraxis\": \"coloraxis\", \"size\": 5, \"symbol\": \"circle\"}, \"mode\": \"markers\", \"name\": \"\", \"scene\": \"scene\", \"showlegend\": false, \"type\": \"scatter3d\", \"x\": [-2.86033034324646, 1.001710057258606, -2.0994575023651123, -3.416468620300293, 0.5483139753341675, -3.0961527824401855, 1.1601094007492065, -2.8714263439178467, -3.1449732780456543, -3.393594980239868, 4.319056034088135, -2.6815474033355713, -2.9132637977600098, 3.036375045776367, -3.3497204780578613, -3.2855241298675537, 3.8036725521087646, -3.0971591472625732, -1.1151926517486572, 3.7312519550323486, 5.682247638702393, 6.266336917877197, -3.253650188446045, -1.199439525604248, -1.5271825790405273, -2.80816388130188, -3.2056984901428223, 0.45075106620788574, -3.156269073486328, 1.6891164779663086, -2.0007007122039795, -3.0919687747955322, -2.263254165649414, -1.8993988037109375, -2.668431282043457, -2.6215343475341797, -2.4883127212524414, 10.254443168640137, 7.466062545776367, -2.481015920639038, 4.583946704864502, 2.357806444168091, -2.923902750015259, -2.5361146926879883, -2.433443069458008, -2.51310396194458, 9.392982482910156, -2.987891912460327, 5.982173442840576, 4.526190757751465, 9.960403442382812, 9.175015449523926, 8.512411117553711, 0.4465941786766052, 3.874948263168335, 8.28681468963623, -0.9712494015693665, -2.6938343048095703, 10.135273933410645, 6.123859405517578, 8.593109130859375, 8.435705184936523, -3.299072504043579, 8.767200469970703, -2.8048994541168213, -2.6760928630828857, 8.123929977416992, 8.654565811157227, 2.707157611846924, 8.508742332458496, 0.97251957654953, 2.9859161376953125, -3.0458831787109375, 3.1614577770233154, 7.789201736450195, 1.9872187376022339, 5.346060276031494, -2.6557695865631104, -3.0381922721862793, 7.444102764129639, 8.095805168151855, -2.613429069519043, -2.583634376525879, -2.146104097366333, 7.884896755218506, 0.40730157494544983, 3.1582140922546387, -0.8348960280418396, 3.941080093383789, 2.9800496101379395, 5.11523962020874, 3.070321559906006, 9.145557403564453, 7.38519287109375, -2.751925230026245, -0.40863505005836487, 7.574934005737305, 7.95187520980835, 6.294837474822998, 3.238954544067383, 4.076730728149414, 8.901715278625488, 5.456803321838379, 4.134198188781738, 8.465851783752441, -3.1984353065490723, 4.029675483703613, 7.773410320281982, -3.0411956310272217, 4.2508440017700195, 4.208566665649414, 3.455784797668457, 2.7568395137786865, 3.929500102996826, 6.001187324523926, 4.262729644775391, 3.3234989643096924, -3.077967643737793, -3.2313082218170166, 1.9179885387420654, 6.276680946350098, 0.37171968817710876, -2.965052604675293, 3.5184125900268555, 6.183507919311523, 9.210317611694336, 3.7653071880340576, 1.6134065389633179, 2.9393696784973145, -1.9335570335388184, 5.591219425201416, 1.3727935552597046, 1.4605568647384644, 3.8861353397369385, 1.1391907930374146, 5.194340229034424, 7.568573951721191, 7.773401737213135, 1.4939736127853394, 5.105597972869873, 9.70831298828125, 1.8144781589508057, 7.805683612823486, 7.161498069763184, 10.141023635864258, 3.883957862854004, -3.047093152999878, 3.3790087699890137, 3.22204327583313, 9.356182098388672, 8.351038932800293, 2.669965982437134, 2.7618467807769775, 6.399940490722656, 5.585775375366211, 7.950855731964111, 0.09407100826501846, 3.8769352436065674, 9.06053352355957, 10.128366470336914, 4.084866523742676, 0.810878336429596, -2.1888904571533203, 4.010176658630371, -1.302199363708496, 9.502012252807617, 6.289163112640381, 1.9158254861831665, -1.9799436330795288, 8.360233306884766, 6.112257480621338, 3.99808931350708, -2.883493661880493, 8.574701309204102, 9.90886116027832, 9.666041374206543, 2.8773977756500244, -2.7295281887054443, 10.294376373291016, 10.045721054077148, -2.3957066535949707, -2.912672996520996, 3.600996255874634, 5.638329029083252, 3.5328519344329834, 9.106531143188477, 1.5799813270568848, 7.7012410163879395, 8.216019630432129, 9.580497741699219, -3.4234206676483154, 7.553493976593018, 10.26326847076416, -2.911241292953491, -2.7809133529663086, 7.940094470977783, 2.0060722827911377, 1.7336281538009644, -0.9193949699401855, -2.55880069732666, 4.01445198059082, 1.4010125398635864, -2.7831602096557617, -3.2479186058044434, 3.9857242107391357, 3.161332845687866, 8.303244590759277, 1.8772616386413574, -2.481799840927124, 3.9919891357421875, -0.07556437700986862, 7.95417594909668, -2.1476008892059326, 2.379074811935425, -2.9368250370025635, -2.6439101696014404, 3.5678420066833496, 8.565545082092285, -0.4874568283557892, -0.878042459487915, 7.155594825744629, 3.501573324203491, 8.244972229003906, -2.590562343597412, 8.662515640258789, 3.8454229831695557, 6.397367477416992, 3.3078973293304443, 3.8255653381347656, -3.166585683822632, -2.886845827102661, 5.593207359313965, 5.613577365875244, -0.8924382925033569, 6.235696792602539, 5.107388496398926, -2.2523691654205322, 1.0473442077636719, 5.2611565589904785, -0.9201093316078186, 8.343658447265625, 10.23475456237793, 2.7354419231414795, 5.113016605377197, 0.1311921626329422, 8.455437660217285, 5.5602216720581055, 2.78109073638916, 5.844277858734131, 5.963306903839111, -2.286457061767578, 8.345451354980469, -2.6171298027038574, 1.3871251344680786, -0.7489988803863525, 3.040736675262451, -2.0086281299591064, -3.2694339752197266, -2.8715860843658447, -3.286738157272339, -0.9627606868743896, 4.303734302520752, 1.0125676393508911, 4.433174133300781, 1.4208238124847412, -0.8734204173088074, 4.25884485244751, 5.063185214996338, 7.900373935699463, 3.706141948699951, 10.255509376525879, 6.231386661529541, -2.2202279567718506, 8.945951461791992, 4.250635623931885, 5.137105941772461, 9.890742301940918, 1.909804105758667, 9.43259334564209, 7.872532844543457, -1.6131073236465454, 8.569825172424316, -1.0548385381698608, -2.755580425262451, 6.131004333496094, 10.115643501281738, 3.308098793029785, 10.33829116821289, 3.3562543392181396, 8.411463737487793, 2.8997175693511963, 3.408060312271118, 5.552235126495361, 7.855210781097412, 9.087295532226562, 9.239826202392578, 10.249107360839844, 7.642376899719238, 9.390121459960938, 8.754630088806152, -2.199646234512329, 6.095958232879639, -2.5310332775115967, 7.835602283477783, 8.625125885009766, 5.7396321296691895, 9.883273124694824, 9.740543365478516, 10.255486488342285, 10.344849586486816, 8.210861206054688, 9.57674503326416, 6.912332534790039, 9.53919506072998, 8.643000602722168, 10.341703414916992, 10.269251823425293, 1.3297169208526611, 2.7935967445373535, 10.238212585449219, 3.9059441089630127, 1.4355170726776123, 5.884456634521484, -2.8229823112487793, 9.013012886047363, 8.068039894104004, 9.269216537475586, 10.269000053405762, 1.3616729974746704, 1.506206750869751, -2.714561700820923, 5.457807540893555, 8.63849925994873, 9.879310607910156, 5.594261646270752, 0.1833803355693817, 6.730654239654541, -0.9682711958885193, 8.123896598815918, -2.071781635284424, 3.1496052742004395, 4.630393028259277, 5.516786098480225, -0.9186223149299622, 5.517317771911621, 4.068914413452148, 8.470163345336914, 3.913034677505493, 6.219438552856445, 8.3622465133667, 10.155352592468262, -3.228229284286499, -2.456102132797241, 1.5181143283843994, 10.034930229187012, 6.04117488861084, 3.495090961456299, 9.275955200195312, 8.762245178222656, 7.860315799713135, 10.332494735717773, 5.1775736808776855, 7.530772686004639, 4.205385684967041, 8.666284561157227, 0.9174660444259644, -0.9871084094047546, 7.550625324249268, -1.3349130153656006, -2.2671399116516113, -2.7960715293884277, 8.683871269226074, -1.5913264751434326, -0.8996227979660034, 7.996294975280762, 3.340686559677124, 2.7527341842651367, 5.2901692390441895, 6.974185943603516, -3.41483211517334, 5.416343688964844, 8.15241527557373, 3.231187343597412, 4.518407821655273, 7.114490032196045, 4.081201553344727, 6.6237945556640625, 9.637335777282715, 3.1295173168182373, -0.04267698898911476, 6.2943644523620605, 8.929035186767578, -3.0025522708892822, -2.792184829711914, 5.503355503082275, 9.198920249938965, 3.312028646469116, 6.153950214385986, 9.103046417236328, 8.028931617736816, -3.1702640056610107, 9.269536972045898, 6.104498863220215, 7.601557731628418, 10.219655990600586, 7.696996212005615, 3.873138666152954, 3.413984775543213, 0.9962894916534424, 7.892282485961914, 5.364288330078125, 7.82063627243042, 9.693979263305664, 3.4723122119903564, 5.134345054626465, 5.247305870056152, 8.43701171875, -2.5447757244110107, 6.45717191696167, 8.212892532348633, 7.897321701049805, 2.9150259494781494, 5.44515323638916, 3.437992572784424, 8.56588363647461, 9.787589073181152, 4.442204475402832, 5.802074909210205, 10.143617630004883, 10.276666641235352, -3.3067431449890137, 4.00310754776001, -1.798657774925232, -0.8025072813034058, 8.547417640686035, -2.46592378616333, 8.029029846191406, 8.492691040039062, 5.1294779777526855, 9.09478759765625, 3.2877230644226074, 2.4552252292633057, 10.230592727661133, 8.759652137756348, 1.5815038681030273, 3.8881001472473145, -1.0021374225616455, 7.737822532653809, 4.064568519592285, -1.1420234441757202, 3.2354674339294434, 0.6827773451805115, 5.38158655166626, 3.675194501876831, 7.808527946472168, 5.317652225494385, 5.426402568817139, 5.223071098327637, 5.306667804718018, 5.53346586227417, 1.0311102867126465, -2.2225801944732666, 5.206117630004883, 7.737478733062744, 8.86092758178711, 2.817781925201416, 3.485908269882202, 9.178605079650879, -2.480154275894165, 2.4477217197418213, 8.51678466796875, 5.588367462158203, 3.9850780963897705, 10.257084846496582, 4.809813499450684, 7.1086883544921875, 3.574145793914795, 9.470614433288574, 5.63514518737793, -2.7847790718078613, 7.958466053009033, 9.286389350891113, 3.4880309104919434, 7.915488243103027, 3.2829713821411133, 2.771357297897339, 9.120394706726074, -1.856128454208374, 5.436006546020508, 3.9666833877563477, 5.422667980194092, 8.981321334838867, 0.5063862204551697, 10.229572296142578, 5.348793029785156, 4.208568096160889, 3.0023353099823, 7.6369500160217285, 0.31654515862464905, -1.873915672302246, 3.415498733520508, -2.97400164604187, 5.399914264678955, -1.838797688484192, 2.5891973972320557, 2.5980916023254395, 4.298734664916992, 3.9683074951171875, 3.9158031940460205, -3.2531697750091553, 6.466464042663574, 8.729290962219238, -2.9388294219970703, 3.903348684310913, 4.123203754425049, 5.402464389801025, 0.9791235327720642, -0.02464156784117222, 3.921692132949829, 5.38488245010376, 4.058453559875488, -2.3190059661865234, 9.834254264831543, 3.9531214237213135, 7.779791831970215, 6.031684398651123, 3.0592637062072754, 7.773969650268555, 5.1326069831848145, 6.0987725257873535, 7.714286804199219, 4.269192695617676, 8.070961952209473, -0.012986613437533379, 4.098285675048828, -1.9422475099563599, 3.2327418327331543, 2.47141170501709, 9.168487548828125, 2.7180426120758057, 4.041884422302246, -2.3929662704467773, 4.616462707519531, 5.2467546463012695, 7.247101306915283, 5.111072063446045, 9.630743026733398, 4.377971172332764, 9.542019844055176, 5.829288959503174, 10.10844612121582, 8.402318000793457, 5.330064296722412, 8.81738567352295, 5.346924781799316, 5.416744232177734, 8.745107650756836, 10.203930854797363, 3.563910484313965, 5.320544719696045, 4.650362491607666, 10.254496574401855, -3.3592214584350586, -2.7672677040100098, -1.919179916381836, -0.7489309310913086, 2.636056900024414, -2.9704227447509766, 10.117410659790039], \"y\": [2.0281982421875, 2.024493455886841, 1.4629228115081787, 4.951525688171387, 1.819256067276001, 5.8493170738220215, 2.907670497894287, 6.206664085388184, 5.613591194152832, 4.970948696136475, 2.313070774078369, 5.742432594299316, 1.7961918115615845, 2.461164951324463, 4.976020812988281, 5.2795186042785645, 2.2834184169769287, 4.897169589996338, 0.971183717250824, 8.321795463562012, 5.938363075256348, 5.640936851501465, 4.5215535163879395, 0.8989933729171753, 1.9329392910003662, 2.123931646347046, 5.435695648193359, 2.0155420303344727, 4.980131149291992, 2.680210590362549, 1.7101465463638306, 5.763540744781494, 2.2061052322387695, 2.0870347023010254, 5.8454203605651855, 5.9008989334106445, 6.435052394866943, 4.541885852813721, 5.257188320159912, 6.517399787902832, 2.4146742820739746, 5.6222710609436035, 1.6746773719787598, 6.501496315002441, 6.5415873527526855, 1.9045926332473755, 4.559465408325195, 6.016314506530762, 5.892645835876465, 2.3727927207946777, 4.563896179199219, 5.427707195281982, 5.315176486968994, 2.0567731857299805, 2.275076389312744, 5.292001247406006, 1.5748780965805054, 6.259632110595703, 4.56760311126709, 5.627898693084717, 4.904993534088135, 4.896672248840332, 4.707564353942871, 4.909095764160156, 6.282721996307373, 6.295764923095703, 4.9914960861206055, 5.287172317504883, 6.327345371246338, 5.375999450683594, 2.0226821899414062, 6.072786808013916, 4.646247386932373, 7.673611164093018, 5.622596740722656, 2.4791505336761475, 5.860335826873779, 2.0613439083099365, 1.4615198373794556, 5.724172115325928, 4.998956203460693, 6.477722644805908, 0.8934712409973145, 2.040785074234009, 5.490987300872803, 2.0215842723846436, 2.5038516521453857, 1.9134423732757568, 5.6797709465026855, 7.384728908538818, 5.534671783447266, 2.4382870197296143, 5.476228713989258, 5.7328877449035645, 5.383542060852051, 1.6079049110412598, 5.223074913024902, 5.044475555419922, 5.8098907470703125, 2.53842830657959, 2.29491925239563, 4.717820644378662, 5.654617786407471, 5.654147624969482, 4.988352298736572, 5.671962738037109, 5.648568630218506, 5.6395769119262695, 1.3791608810424805, 5.643033504486084, 5.7275824546813965, 5.810116291046143, 6.398591995239258, 5.795466899871826, 5.635751247406006, 5.643283843994141, 7.896315097808838, 5.249232292175293, 4.736836910247803, 2.3484065532684326, 5.8207783699035645, 2.0752735137939453, 1.3220163583755493, 8.107723236083984, 5.947668552398682, 5.407575607299805, 2.2786059379577637, 2.249164342880249, 7.261606216430664, 1.7425520420074463, 6.001363754272461, 3.2941410541534424, 3.326934576034546, 8.446836471557617, 2.9339518547058105, 5.472588062286377, 5.208961009979248, 5.613396644592285, 3.4728429317474365, 5.692798137664795, 4.448867321014404, 2.5673413276672363, 5.10014009475708, 5.830433368682861, 4.764292240142822, 5.7695488929748535, 6.063958168029785, 5.768062591552734, 7.7731804847717285, 5.398154258728027, 5.055805206298828, 5.982251167297363, 6.3138957023620605, 5.648232936859131, 5.944860458374023, 5.521167278289795, 2.0326809883117676, 8.426432609558105, 5.248061180114746, 4.79599666595459, 5.733616828918457, 1.918269395828247, 1.3630897998809814, 5.647495746612549, 0.84022057056427, 5.295196533203125, 5.717221260070801, 2.412451982498169, 1.8583067655563354, 5.676621437072754, 5.817334175109863, 2.274446964263916, 5.2744035720825195, 4.830721855163574, 4.411782741546631, 4.453697681427002, 6.102783203125, 5.367859840393066, 4.8467888832092285, 4.857787132263184, 0.7460822463035583, 1.2637101411819458, 2.295125961303711, 5.722262859344482, 2.4258556365966797, 4.664398670196533, 2.9108526706695557, 5.630008697509766, 5.046818256378174, 5.04509162902832, 4.950100898742676, 5.194746971130371, 4.399614334106445, 6.179681301116943, 5.40525484085083, 5.6852126121521, 5.144185543060303, 2.298426866531372, 1.9861805438995361, 6.335288047790527, 5.611847877502441, 3.0153138637542725, 1.1472328901290894, 5.3571457862854, 5.662734031677246, 7.676368713378906, 5.03038215637207, 2.3888208866119385, 6.57177209854126, 8.50075626373291, 1.5717085599899292, 5.531695365905762, 0.6413320899009705, 2.419189929962158, 6.155582427978516, 6.422114372253418, 5.788280963897705, 5.018467426300049, 1.5227349996566772, 2.3011436462402344, 5.809711456298828, 8.07191276550293, 5.032275199890137, 6.25347375869751, 5.573572158813477, 8.427337646484375, 5.5836639404296875, 7.860910892486572, 2.492560863494873, 5.623416900634766, 5.084853649139404, 5.848064422607422, 5.904232978820801, 2.297358274459839, 5.620500087738037, 5.444415092468262, 0.7134695053100586, 2.0498905181884766, 5.89426851272583, 2.3136866092681885, 5.690305709838867, 4.796238422393799, 6.261064529418945, 5.557446002960205, 1.9447972774505615, 4.876189708709717, 5.608051300048828, 6.738003253936768, 5.617213726043701, 5.85187292098999, 1.1224578619003296, 5.3726983070373535, 1.8314085006713867, 3.0932908058166504, 1.6332533359527588, 7.468328952789307, 1.769141674041748, 4.535568714141846, 1.9314846992492676, 5.071163654327393, 2.1683661937713623, 2.3055636882781982, 2.0878512859344482, 2.3383162021636963, 3.056411027908325, 2.2658791542053223, 5.783656120300293, 5.464430809020996, 5.504628658294678, 5.800779342651367, 4.878124237060547, 5.799253463745117, 0.7843397855758667, 4.743893146514893, 2.267395257949829, 5.696560382843018, 4.403985977172852, 2.372361660003662, 5.342061519622803, 5.743143081665039, 2.002744197845459, 5.221711158752441, 1.6414387226104736, 5.392172813415527, 5.91682767868042, 4.51915979385376, 5.862895488739014, 4.8147454261779785, 5.816915035247803, 5.112392902374268, 6.166357517242432, 2.5475692749023438, 5.972390174865723, 5.505509853363037, 5.259632587432861, 5.220202445983887, 4.630622863769531, 5.168177604675293, 5.377807140350342, 4.809309482574463, 1.4167224168777466, 5.946244239807129, 1.4940775632858276, 5.108719825744629, 5.307571887969971, 5.688802719116211, 4.9629340171813965, 4.4339094161987305, 4.879934787750244, 4.790249824523926, 5.278910160064697, 5.2505106925964355, 5.880641460418701, 4.973315238952637, 4.811169624328613, 4.776472091674805, 4.770730972290039, 2.995741367340088, 6.216947555541992, 4.518594264984131, 5.840506553649902, 2.1825873851776123, 5.904170513153076, 1.3395965099334717, 5.287189483642578, 5.4935383796691895, 5.248785018920898, 4.777257919311523, 3.3354220390319824, 3.487539529800415, 5.47268009185791, 5.896217346191406, 4.827913284301758, 4.534594535827637, 5.5831685066223145, 2.204517364501953, 5.88881254196167, 1.8509242534637451, 5.056319713592529, 0.6860949993133545, 7.65020751953125, 5.828574180603027, 5.963394641876221, 1.3526420593261719, 5.828185081481934, 5.706432342529297, 5.319921493530273, 8.428104400634766, 5.580775737762451, 5.032719612121582, 4.738737106323242, 4.501551628112793, 0.7383899092674255, 3.728128671646118, 4.755970478057861, 6.004078388214111, 5.795276641845703, 5.3867034912109375, 4.9273529052734375, 5.079994201660156, 4.788541793823242, 5.552335262298584, 5.679013252258301, 2.330146551132202, 5.5545854568481445, 2.041213274002075, 1.2939547300338745, 5.696969032287598, 0.8269582390785217, 0.7971106171607971, 5.458467960357666, 5.617489337921143, 1.3746310472488403, 1.0907343626022339, 5.699527263641357, 7.911667823791504, 6.346795558929443, 5.870376110076904, 5.8733229637146, 4.9933905601501465, 5.936906814575195, 5.429734230041504, 5.946542739868164, 5.823299407958984, 5.842685222625732, 2.3034231662750244, 5.903293132781982, 5.207875728607178, 5.99885368347168, 1.5899492502212524, 5.678659915924072, 4.689005374908447, 4.990255355834961, 1.2371137142181396, 5.726591110229492, 5.430578708648682, 2.567915201187134, 5.947303295135498, 5.231675624847412, 5.495565414428711, 4.569997787475586, 5.2136311531066895, 5.933168411254883, 5.710550308227539, 4.663186073303223, 5.171750068664551, 8.428814888000488, 5.759331226348877, 2.8859715461730957, 5.449172019958496, 5.529959678649902, 5.12800931930542, 4.5250396728515625, 2.5041346549987793, 5.694319248199463, 5.741184234619141, 4.8963823318481445, 2.038616180419922, 5.803277969360352, 5.004720687866211, 5.460947036743164, 7.0894951820373535, 5.915504455566406, 2.601367473602295, 4.92162561416626, 4.511317729949951, 5.80855655670166, 5.618354320526123, 4.7499589920043945, 4.776318550109863, 4.754566192626953, 5.791283130645752, 1.5672699213027954, 2.0090038776397705, 5.6327080726623535, 6.522928237915039, 5.478829383850098, 5.6642608642578125, 5.485386848449707, 5.481222152709961, 5.850682735443115, 2.4603819847106934, 4.86735725402832, 4.88516092300415, 2.9318926334381104, 5.692088603973389, 2.2560536861419678, 5.758404731750488, 2.3628089427948, 0.9697510004043579, 5.914269924163818, 2.6169676780700684, 5.941591739654541, 8.265555381774902, 5.708977699279785, 5.937975883483887, 6.025681495666504, 5.748917579650879, 5.757392883300781, 5.875559329986572, 3.0851972103118896, 0.6641057729721069, 5.747582912445068, 5.623376846313477, 5.532130718231201, 6.785458087921143, 2.6874940395355225, 4.630245208740234, 2.0107953548431396, 5.700977802276611, 4.998167991638184, 5.9331374168396, 8.518680572509766, 4.387196063995361, 5.847194194793701, 5.856264114379883, 2.5938305854797363, 5.321661949157715, 5.963446617126465, 5.285303115844727, 5.546899318695068, 5.411121845245361, 8.058271408081055, 5.723628044128418, 7.84012508392334, 6.31354284286499, 5.502166271209717, 1.5327461957931519, 5.855234622955322, 8.474869728088379, 5.593247413635254, 5.545948505401611, 2.075284719467163, 4.630777359008789, 5.5278143882751465, 2.328275680541992, 7.3751325607299805, 5.708590030670166, 2.0463061332702637, 1.5066838264465332, 7.993497371673584, 6.08047342300415, 5.870571136474609, 0.733788251876831, 5.809926986694336, 5.808352947235107, 5.6954665184021, 5.788963794708252, 8.495503425598145, 4.804171085357666, 5.92659854888916, 5.61293363571167, 5.974811553955078, 8.456863403320312, 2.276569128036499, 5.785958290100098, 2.854961633682251, 1.9560080766677856, 5.6778364181518555, 5.874251842498779, 5.8157501220703125, 0.7610512971878052, 4.492734432220459, 5.663146018981934, 5.131646156311035, 5.616086959838867, 7.4484453201293945, 5.7222418785095215, 5.6956257820129395, 5.829310417175293, 5.169118404388428, 5.6557440757751465, 5.695373058319092, 1.6270414590835571, 5.655323505401611, 1.4065873622894287, 2.527446746826172, 5.7191996574401855, 4.624314308166504, 5.972428321838379, 5.774099826812744, 6.474634170532227, 2.428100347518921, 5.859563827514648, 5.761529922485352, 5.502089023590088, 4.5303192138671875, 5.741293907165527, 4.600226402282715, 5.643549919128418, 4.478128433227539, 5.095979690551758, 5.889841556549072, 4.776607036590576, 5.8994832038879395, 5.996215343475342, 4.802554130554199, 4.4307122230529785, 2.635342597961426, 5.958472728729248, 2.4180588722229004, 4.404966354370117, 4.873924732208252, 1.1885523796081543, 0.7336114645004272, 2.185274362564087, 2.448465585708618, 1.36483895778656, 4.462133407592773], \"z\": [9.326181411743164, 9.375383377075195, 9.335861206054688, 9.569923400878906, 9.375012397766113, 9.498595237731934, 8.954334259033203, 9.303597450256348, 9.436783790588379, 9.543028831481934, 9.39670181274414, 8.580662727355957, 9.308122634887695, 9.21727466583252, 9.492839813232422, 9.431163787841797, 9.482022285461426, 8.907357215881348, 9.235164642333984, 7.666891098022461, 4.049073219299316, 2.409804105758667, 9.124194145202637, 9.203761100769043, 9.333290100097656, 9.314970016479492, 9.403321266174316, 9.29357624053955, 9.026799201965332, 9.124820709228516, 9.348017692565918, 9.549850463867188, 9.308829307556152, 9.33767318725586, 8.654152870178223, 8.642374992370605, 8.912751197814941, 2.594715118408203, -0.5150102972984314, 8.991101264953613, 9.2473726272583, 7.3552727699279785, 9.307543754577637, 9.028051376342773, 8.965988159179688, 9.317241668701172, 1.146653413772583, 9.330606460571289, 3.503488063812256, 9.292309761047363, 2.2382495403289795, 5.198614597320557, 2.724790096282959, 9.290214538574219, 9.49739933013916, 2.1368041038513184, 9.28041934967041, 9.011270523071289, 2.5143253803253174, 2.349860429763794, 0.7146493196487427, 0.008597971871495247, 9.19507122039795, 1.3444514274597168, 9.20899772644043, 9.032424926757812, -0.05820915475487709, 2.9612343311309814, 7.21016788482666, 3.1922879219055176, 9.370464324951172, 6.675629615783691, 8.877981185913086, 7.739486217498779, 3.855670928955078, 9.248820304870605, 3.358177661895752, 9.323358535766602, 9.284213066101074, 3.717280626296997, -0.08680406212806702, 9.151104927062988, 9.311568260192871, 9.33171272277832, 2.4508886337280273, 9.289505958557129, 9.143508911132812, 9.283568382263184, 4.008776664733887, 7.588979244232178, -2.449887752532959, 9.242095947265625, 5.336538314819336, 3.704197406768799, 8.460066795349121, 9.265905380249023, -0.392306387424469, -0.08523904532194138, 3.2126805782318115, 9.110300064086914, 9.429753303527832, 0.4834348261356354, -2.3315141201019287, 3.9364540576934814, 0.9700291752815247, 9.52585506439209, 4.0468430519104, 3.8495852947235107, 9.281246185302734, 3.708892583847046, 4.462997913360596, 5.832554817199707, 7.236009120941162, 5.093343257904053, 2.4273831844329834, 3.710383892059326, 7.819478988647461, 8.99254035949707, 9.088052749633789, 9.328357696533203, 3.2022132873535156, 9.251441955566406, 9.294126510620117, 7.728145599365234, 5.059607028961182, 4.9614434242248535, 9.502988815307617, 9.358345985412598, 7.544238090515137, 9.355534553527832, 3.7929346561431885, 8.77006721496582, 8.748391151428223, 7.638487339019775, 8.935589790344238, -2.235806703567505, -0.4105677902698517, 3.596435070037842, 8.67250919342041, 2.902830123901367, 1.4836363792419434, 9.19333553314209, -0.1076047495007515, 4.642059326171875, 3.112586259841919, 5.055593490600586, 9.479392051696777, 5.960798740386963, 7.764686107635498, 5.206193447113037, 1.0702006816864014, 7.100655555725098, 7.2078118324279785, 2.5079503059387207, 4.093955993652344, 2.647273540496826, 9.238755226135254, 7.71982479095459, 3.6893723011016846, 3.2259204387664795, 4.616464138031006, 9.386590957641602, 9.336480140686035, 3.9212887287139893, 9.215506553649902, 5.14254903793335, 2.7592530250549316, 9.299897193908691, 9.344002723693848, 5.099119186401367, 3.166048765182495, 9.464707374572754, 8.637677192687988, 0.11422031372785568, 1.7825144529342651, 1.407228708267212, 6.862109184265137, 8.440227508544922, 3.7728312015533447, 3.6281468868255615, 9.301043510437012, 9.317879676818848, 9.446722030639648, 2.7501895427703857, 9.24372386932373, 0.8083931803703308, 8.984607696533203, 3.550116777420044, 0.4760226011276245, 3.4792768955230713, 9.564000129699707, -0.4286499321460724, 2.2924644947052, 9.346543312072754, 8.5054292678833, 4.4831156730651855, 7.7072553634643555, 9.342219352722168, 9.308499336242676, 8.913060188293457, 3.8903002738952637, 8.923683166503906, 9.310774803161621, 9.439773559570312, 4.1357316970825195, 7.708360195159912, 0.5709878206253052, 9.298081398010254, 9.059061050415039, 7.610373020172119, 9.32030200958252, 3.428600311279297, 9.301426887512207, 9.276805877685547, 9.389969825744629, 9.128644943237305, 5.656898021697998, 1.290280818939209, 9.280427932739258, 9.340431213378906, 4.892039775848389, 7.71256160736084, 0.604839563369751, 8.881815910339355, 5.0992608070373535, 7.587255954742432, 2.2531394958496094, 7.82257604598999, 9.14981746673584, 9.43072509765625, 8.60118579864502, -2.6913902759552, -2.7591567039489746, 9.356162071228027, 2.303591728210449, -2.340257406234741, 9.249942779541016, 9.366068840026855, -3.041811227798462, 9.342390060424805, 5.105335712432861, 3.452479600906372, 7.179145812988281, -2.492967128753662, 9.266079902648926, 0.03744293749332428, -2.0495030879974365, 7.404592514038086, -1.9755934476852417, 3.276979923248291, 9.323341369628906, 2.6303985118865967, 9.291192054748535, 8.875823974609375, 9.275434494018555, 7.654347896575928, 9.346678733825684, 9.098692893981934, 9.314776420593262, 9.366190910339355, 9.308903694152832, 9.406208038330078, 9.32055377960205, 9.351085662841797, 8.91357135772705, 9.332023620605469, 4.83028507232666, -2.3605387210845947, 2.4300613403320312, 5.435883045196533, 3.9463858604431152, 3.1395437717437744, 9.293776512145996, 0.8304648399353027, 9.459480285644531, 2.854959011077881, 1.776555061340332, 9.317509651184082, 5.130721569061279, 4.888373374938965, 9.340231895446777, 2.3797824382781982, 9.290018081665039, 8.49467658996582, 5.026937484741211, 2.3833718299865723, 6.1009063720703125, 3.782846689224243, 5.973367691040039, 1.4832552671432495, 6.86343240737915, 9.073163032531738, 3.961575746536255, 2.5231659412384033, 3.7073605060577393, 3.8570621013641357, 2.8851478099823, -0.32684770226478577, 5.208263397216797, 0.36570921540260315, 9.336753845214844, 5.046684265136719, 9.324067115783691, -0.0518876276910305, 3.1504015922546387, -2.1363275051116943, 3.671560287475586, 1.4946742057800293, 3.843749523162842, 3.747938632965088, 1.9436787366867065, 5.069278240203857, 4.8746514320373535, 3.091365337371826, 0.21257224678993225, 3.598705768585205, 3.3822150230407715, 8.936309814453125, 7.102111339569092, 2.5958926677703857, 5.086032867431641, 9.35895824432373, 3.494725227355957, 9.310620307922363, 3.6636674404144287, 3.115290403366089, 3.9818434715270996, 3.4267475605010986, 8.740822792053223, 8.665040969848633, 8.465554237365723, 4.763996601104736, 0.24798887968063354, 2.008310556411743, -2.0266129970550537, 9.184867858886719, 4.849735260009766, 9.293876647949219, 0.36174657940864563, 9.261594772338867, 7.718995094299316, 4.791592597961426, 3.7378625869750977, 9.260168075561523, 3.153398036956787, 4.5326457023620605, 2.6334824562072754, 7.6514201164245605, 2.2716586589813232, 0.9338598847389221, 3.062871217727661, 9.11655044555664, 9.288124084472656, 8.530963897705078, 2.9608497619628906, 5.121572017669678, 5.764952182769775, 4.968245983123779, 1.4174647331237793, -0.07755064964294434, 3.5664772987365723, -2.372786521911621, 3.6048269271850586, 9.34248161315918, 4.911813259124756, 9.3482027053833, 9.257648468017578, 3.816819906234741, 9.217015266418457, 9.296873092651367, 8.591590881347656, 5.266180038452148, 9.302834510803223, 9.231351852416992, 4.701958179473877, 7.777426719665527, 7.206053733825684, -2.951446533203125, 4.850978374481201, 9.57535171508789, 3.738741159439087, 2.6445374488830566, 6.210389137268066, 4.875147342681885, 4.852382183074951, 9.399919509887695, 4.954708576202393, 4.974368572235107, 6.385321617126465, 9.330530166625977, 2.594301462173462, 0.5214361548423767, 8.772405624389648, 9.328339576721191, 2.7951581478118896, 5.089591979980469, 9.062837600708008, 5.054052829742432, 3.560358762741089, 2.89786958694458, 9.013409614562988, 3.823063611984253, 5.020763874053955, 4.048819541931152, 2.949361562728882, -0.21722567081451416, 7.609896183013916, 5.905818462371826, 8.955436706542969, 2.2779369354248047, -2.1547775268554688, 0.034845639020204544, 1.6887333393096924, 9.120737075805664, -2.7522428035736084, 2.9479758739471436, 0.034257955849170685, 9.316607475280762, 3.2668099403381348, 0.44271090626716614, 2.303321361541748, 7.476970672607422, 3.550727367401123, 8.999693870544434, 0.664082407951355, 1.811622142791748, 4.858519554138184, -1.976544737815857, 3.067265272140503, 3.4551897048950195, 9.240426063537598, 4.992180347442627, 9.333700180053711, 9.29209041595459, 5.180436134338379, 8.983756065368652, 2.802518606185913, 5.2027974128723145, -2.342683792114258, 5.317488670349121, 6.1233229637146, 9.240580558776855, 3.82305645942688, 1.159900188446045, 8.989054679870605, 3.8496603965759277, 9.342877388000488, 4.807809829711914, 9.314313888549805, 9.223267555236816, 6.197115421295166, 9.041695594787598, -3.0392253398895264, 7.6813812255859375, 4.409923076629639, -3.0985567569732666, -3.1427552700042725, -2.7871901988983154, -2.7797162532806396, -2.8278746604919434, 8.845965385437012, 9.285943031311035, -2.808671712875366, 3.5822501182556152, 5.1948561668396, 7.372023582458496, 8.915057182312012, 0.8972824811935425, 9.315895080566406, 7.300824165344238, 1.116434931755066, -2.84226655960083, 7.592831134796143, 2.2293660640716553, 4.745712757110596, 4.801469802856445, 9.01081371307373, 5.169038772583008, 3.719489097595215, 8.48254108428955, 3.434255838394165, 5.228640079498291, 7.715271472930908, 4.753030776977539, 7.794229984283447, 7.159590244293213, 5.293515205383301, 9.333525657653809, 3.283851146697998, 7.654035568237305, -2.2367467880249023, 5.359278678894043, 9.271611213684082, 2.8650476932525635, -2.191467046737671, 9.359210014343262, 7.614920139312744, 4.064919471740723, 9.260287284851074, 9.330924987792969, 7.765391826629639, 9.391373634338379, 3.3529176712036133, 9.252711296081543, 7.162842750549316, 7.140867710113525, 4.104308605194092, 4.996796607971191, 7.584543228149414, 9.166267395019531, 4.9779510498046875, 5.289971828460693, 9.283756256103516, 7.631771087646484, 9.345836639404297, 3.0219438076019287, 8.955877304077148, 9.250802993774414, 4.307499408721924, 3.430781841278076, 5.0425333976745605, 9.292859077453613, 1.9053789377212524, 4.203989028930664, -0.04750059172511101, 2.3809759616851807, 7.661910057067871, 4.472822189331055, 2.8623034954071045, 3.2454190254211426, -0.22513903677463531, 3.730097532272339, 4.790256977081299, 9.270329475402832, 3.9824559688568115, 9.32429027557373, 9.129199028015137, 7.278326511383057, 0.8420422077178955, 7.037677764892578, 4.9206132888793945, 8.910903930664062, 9.214127540588379, -2.962287664413452, 3.8298120498657227, -2.3974690437316895, 1.5722365379333496, 4.316435813903809, 1.6167988777160645, -2.0104119777679443, 2.2572216987609863, 1.3350731134414673, -2.98465633392334, 0.46208178997039795, -2.988672971725464, -3.1002604961395264, 0.3782808184623718, 2.225386381149292, 8.965280532836914, -3.126033306121826, 9.219942092895508, 2.278672456741333, 9.434990882873535, 9.31115436553955, 9.258614540100098, 9.291431427001953, 9.242691040039062, 9.285379409790039, 2.204198122024536]}],\n",
              "                        {\"autosize\": false, \"coloraxis\": {\"colorbar\": {\"title\": {\"text\": \"diagnosis\"}}, \"colorscale\": [[0.0, \"#0d0887\"], [0.1111111111111111, \"#46039f\"], [0.2222222222222222, \"#7201a8\"], [0.3333333333333333, \"#9c179e\"], [0.4444444444444444, \"#bd3786\"], [0.5555555555555556, \"#d8576b\"], [0.6666666666666666, \"#ed7953\"], [0.7777777777777778, \"#fb9f3a\"], [0.8888888888888888, \"#fdca26\"], [1.0, \"#f0f921\"]]}, \"height\": 800, \"legend\": {\"tracegroupgap\": 0}, \"margin\": {\"t\": 60}, \"scene\": {\"domain\": {\"x\": [0.0, 1.0], \"y\": [0.0, 1.0]}, \"xaxis\": {\"title\": {\"text\": \"0\"}, \"visible\": false}, \"yaxis\": {\"title\": {\"text\": \"1\"}, \"visible\": false}, \"zaxis\": {\"title\": {\"text\": \"2\"}, \"visible\": false}}, \"template\": {\"data\": {\"bar\": [{\"error_x\": {\"color\": \"#2a3f5f\"}, \"error_y\": {\"color\": \"#2a3f5f\"}, \"marker\": {\"line\": {\"color\": \"#E5ECF6\", \"width\": 0.5}}, \"type\": \"bar\"}], \"barpolar\": [{\"marker\": {\"line\": {\"color\": \"#E5ECF6\", \"width\": 0.5}}, \"type\": \"barpolar\"}], \"carpet\": [{\"aaxis\": {\"endlinecolor\": \"#2a3f5f\", \"gridcolor\": \"white\", \"linecolor\": \"white\", \"minorgridcolor\": \"white\", \"startlinecolor\": \"#2a3f5f\"}, \"baxis\": {\"endlinecolor\": \"#2a3f5f\", \"gridcolor\": \"white\", \"linecolor\": \"white\", \"minorgridcolor\": \"white\", \"startlinecolor\": \"#2a3f5f\"}, \"type\": \"carpet\"}], \"choropleth\": [{\"colorbar\": {\"outlinewidth\": 0, \"ticks\": \"\"}, \"type\": \"choropleth\"}], \"contour\": [{\"colorbar\": {\"outlinewidth\": 0, \"ticks\": \"\"}, \"colorscale\": [[0.0, \"#0d0887\"], [0.1111111111111111, \"#46039f\"], [0.2222222222222222, \"#7201a8\"], [0.3333333333333333, \"#9c179e\"], [0.4444444444444444, \"#bd3786\"], [0.5555555555555556, \"#d8576b\"], [0.6666666666666666, \"#ed7953\"], [0.7777777777777778, \"#fb9f3a\"], [0.8888888888888888, \"#fdca26\"], [1.0, \"#f0f921\"]], \"type\": \"contour\"}], \"contourcarpet\": [{\"colorbar\": {\"outlinewidth\": 0, \"ticks\": \"\"}, \"type\": \"contourcarpet\"}], \"heatmap\": [{\"colorbar\": {\"outlinewidth\": 0, \"ticks\": \"\"}, \"colorscale\": [[0.0, \"#0d0887\"], [0.1111111111111111, \"#46039f\"], [0.2222222222222222, \"#7201a8\"], [0.3333333333333333, \"#9c179e\"], [0.4444444444444444, \"#bd3786\"], [0.5555555555555556, \"#d8576b\"], [0.6666666666666666, \"#ed7953\"], [0.7777777777777778, \"#fb9f3a\"], [0.8888888888888888, \"#fdca26\"], [1.0, \"#f0f921\"]], \"type\": \"heatmap\"}], \"heatmapgl\": [{\"colorbar\": {\"outlinewidth\": 0, \"ticks\": \"\"}, \"colorscale\": [[0.0, \"#0d0887\"], [0.1111111111111111, \"#46039f\"], [0.2222222222222222, \"#7201a8\"], [0.3333333333333333, \"#9c179e\"], [0.4444444444444444, \"#bd3786\"], [0.5555555555555556, \"#d8576b\"], [0.6666666666666666, \"#ed7953\"], [0.7777777777777778, \"#fb9f3a\"], [0.8888888888888888, \"#fdca26\"], [1.0, \"#f0f921\"]], \"type\": \"heatmapgl\"}], \"histogram\": [{\"marker\": {\"colorbar\": {\"outlinewidth\": 0, \"ticks\": \"\"}}, \"type\": \"histogram\"}], \"histogram2d\": [{\"colorbar\": {\"outlinewidth\": 0, \"ticks\": \"\"}, \"colorscale\": [[0.0, \"#0d0887\"], [0.1111111111111111, \"#46039f\"], [0.2222222222222222, \"#7201a8\"], [0.3333333333333333, \"#9c179e\"], [0.4444444444444444, \"#bd3786\"], [0.5555555555555556, \"#d8576b\"], [0.6666666666666666, \"#ed7953\"], [0.7777777777777778, \"#fb9f3a\"], [0.8888888888888888, \"#fdca26\"], [1.0, \"#f0f921\"]], \"type\": \"histogram2d\"}], \"histogram2dcontour\": [{\"colorbar\": {\"outlinewidth\": 0, \"ticks\": \"\"}, \"colorscale\": [[0.0, \"#0d0887\"], [0.1111111111111111, \"#46039f\"], [0.2222222222222222, \"#7201a8\"], [0.3333333333333333, \"#9c179e\"], [0.4444444444444444, \"#bd3786\"], [0.5555555555555556, \"#d8576b\"], [0.6666666666666666, \"#ed7953\"], [0.7777777777777778, \"#fb9f3a\"], [0.8888888888888888, \"#fdca26\"], [1.0, \"#f0f921\"]], \"type\": \"histogram2dcontour\"}], \"mesh3d\": [{\"colorbar\": {\"outlinewidth\": 0, \"ticks\": \"\"}, \"type\": \"mesh3d\"}], \"parcoords\": [{\"line\": {\"colorbar\": {\"outlinewidth\": 0, \"ticks\": \"\"}}, \"type\": \"parcoords\"}], \"pie\": [{\"automargin\": true, \"type\": \"pie\"}], \"scatter\": [{\"marker\": {\"colorbar\": {\"outlinewidth\": 0, \"ticks\": \"\"}}, \"type\": \"scatter\"}], \"scatter3d\": [{\"line\": {\"colorbar\": {\"outlinewidth\": 0, \"ticks\": \"\"}}, \"marker\": {\"colorbar\": {\"outlinewidth\": 0, \"ticks\": \"\"}}, \"type\": \"scatter3d\"}], \"scattercarpet\": [{\"marker\": {\"colorbar\": {\"outlinewidth\": 0, \"ticks\": \"\"}}, \"type\": \"scattercarpet\"}], \"scattergeo\": [{\"marker\": {\"colorbar\": {\"outlinewidth\": 0, \"ticks\": \"\"}}, \"type\": \"scattergeo\"}], \"scattergl\": [{\"marker\": {\"colorbar\": {\"outlinewidth\": 0, \"ticks\": \"\"}}, \"type\": \"scattergl\"}], \"scattermapbox\": [{\"marker\": {\"colorbar\": {\"outlinewidth\": 0, \"ticks\": \"\"}}, \"type\": \"scattermapbox\"}], \"scatterpolar\": [{\"marker\": {\"colorbar\": {\"outlinewidth\": 0, \"ticks\": \"\"}}, \"type\": \"scatterpolar\"}], \"scatterpolargl\": [{\"marker\": {\"colorbar\": {\"outlinewidth\": 0, \"ticks\": \"\"}}, \"type\": \"scatterpolargl\"}], \"scatterternary\": [{\"marker\": {\"colorbar\": {\"outlinewidth\": 0, \"ticks\": \"\"}}, \"type\": \"scatterternary\"}], \"surface\": [{\"colorbar\": {\"outlinewidth\": 0, \"ticks\": \"\"}, \"colorscale\": [[0.0, \"#0d0887\"], [0.1111111111111111, \"#46039f\"], [0.2222222222222222, \"#7201a8\"], [0.3333333333333333, \"#9c179e\"], [0.4444444444444444, \"#bd3786\"], [0.5555555555555556, \"#d8576b\"], [0.6666666666666666, \"#ed7953\"], [0.7777777777777778, \"#fb9f3a\"], [0.8888888888888888, \"#fdca26\"], [1.0, \"#f0f921\"]], \"type\": \"surface\"}], \"table\": [{\"cells\": {\"fill\": {\"color\": \"#EBF0F8\"}, \"line\": {\"color\": \"white\"}}, \"header\": {\"fill\": {\"color\": \"#C8D4E3\"}, \"line\": {\"color\": \"white\"}}, \"type\": \"table\"}]}, \"layout\": {\"annotationdefaults\": {\"arrowcolor\": \"#2a3f5f\", \"arrowhead\": 0, \"arrowwidth\": 1}, \"coloraxis\": {\"colorbar\": {\"outlinewidth\": 0, \"ticks\": \"\"}}, \"colorscale\": {\"diverging\": [[0, \"#8e0152\"], [0.1, \"#c51b7d\"], [0.2, \"#de77ae\"], [0.3, \"#f1b6da\"], [0.4, \"#fde0ef\"], [0.5, \"#f7f7f7\"], [0.6, \"#e6f5d0\"], [0.7, \"#b8e186\"], [0.8, \"#7fbc41\"], [0.9, \"#4d9221\"], [1, \"#276419\"]], \"sequential\": [[0.0, \"#0d0887\"], [0.1111111111111111, \"#46039f\"], [0.2222222222222222, \"#7201a8\"], [0.3333333333333333, \"#9c179e\"], [0.4444444444444444, \"#bd3786\"], [0.5555555555555556, \"#d8576b\"], [0.6666666666666666, \"#ed7953\"], [0.7777777777777778, \"#fb9f3a\"], [0.8888888888888888, \"#fdca26\"], [1.0, \"#f0f921\"]], \"sequentialminus\": [[0.0, \"#0d0887\"], [0.1111111111111111, \"#46039f\"], [0.2222222222222222, \"#7201a8\"], [0.3333333333333333, \"#9c179e\"], [0.4444444444444444, \"#bd3786\"], [0.5555555555555556, \"#d8576b\"], [0.6666666666666666, \"#ed7953\"], [0.7777777777777778, \"#fb9f3a\"], [0.8888888888888888, \"#fdca26\"], [1.0, \"#f0f921\"]]}, \"colorway\": [\"#636efa\", \"#EF553B\", \"#00cc96\", \"#ab63fa\", \"#FFA15A\", \"#19d3f3\", \"#FF6692\", \"#B6E880\", \"#FF97FF\", \"#FECB52\"], \"font\": {\"color\": \"#2a3f5f\"}, \"geo\": {\"bgcolor\": \"white\", \"lakecolor\": \"white\", \"landcolor\": \"#E5ECF6\", \"showlakes\": true, \"showland\": true, \"subunitcolor\": \"white\"}, \"hoverlabel\": {\"align\": \"left\"}, \"hovermode\": \"closest\", \"mapbox\": {\"style\": \"light\"}, \"paper_bgcolor\": \"white\", \"plot_bgcolor\": \"#E5ECF6\", \"polar\": {\"angularaxis\": {\"gridcolor\": \"white\", \"linecolor\": \"white\", \"ticks\": \"\"}, \"bgcolor\": \"#E5ECF6\", \"radialaxis\": {\"gridcolor\": \"white\", \"linecolor\": \"white\", \"ticks\": \"\"}}, \"scene\": {\"xaxis\": {\"backgroundcolor\": \"#E5ECF6\", \"gridcolor\": \"white\", \"gridwidth\": 2, \"linecolor\": \"white\", \"showbackground\": true, \"ticks\": \"\", \"zerolinecolor\": \"white\"}, \"yaxis\": {\"backgroundcolor\": \"#E5ECF6\", \"gridcolor\": \"white\", \"gridwidth\": 2, \"linecolor\": \"white\", \"showbackground\": true, \"ticks\": \"\", \"zerolinecolor\": \"white\"}, \"zaxis\": {\"backgroundcolor\": \"#E5ECF6\", \"gridcolor\": \"white\", \"gridwidth\": 2, \"linecolor\": \"white\", \"showbackground\": true, \"ticks\": \"\", \"zerolinecolor\": \"white\"}}, \"shapedefaults\": {\"line\": {\"color\": \"#2a3f5f\"}}, \"ternary\": {\"aaxis\": {\"gridcolor\": \"white\", \"linecolor\": \"white\", \"ticks\": \"\"}, \"baxis\": {\"gridcolor\": \"white\", \"linecolor\": \"white\", \"ticks\": \"\"}, \"bgcolor\": \"#E5ECF6\", \"caxis\": {\"gridcolor\": \"white\", \"linecolor\": \"white\", \"ticks\": \"\"}}, \"title\": {\"x\": 0.05}, \"xaxis\": {\"automargin\": true, \"gridcolor\": \"white\", \"linecolor\": \"white\", \"ticks\": \"\", \"title\": {\"standoff\": 15}, \"zerolinecolor\": \"white\", \"zerolinewidth\": 2}, \"yaxis\": {\"automargin\": true, \"gridcolor\": \"white\", \"linecolor\": \"white\", \"ticks\": \"\", \"title\": {\"standoff\": 15}, \"zerolinecolor\": \"white\", \"zerolinewidth\": 2}}}, \"width\": 800},\n",
              "                        {\"responsive\": true}\n",
              "                    ).then(function(){\n",
              "                            \n",
              "var gd = document.getElementById('c59b2ecc-e477-4a92-bc77-09ea6032765f');\n",
              "var x = new MutationObserver(function (mutations, observer) {{\n",
              "        var display = window.getComputedStyle(gd).display;\n",
              "        if (!display || display === 'none') {{\n",
              "            console.log([gd, 'removed!']);\n",
              "            Plotly.purge(gd);\n",
              "            observer.disconnect();\n",
              "        }}\n",
              "}});\n",
              "\n",
              "// Listen for the removal of the full notebook cells\n",
              "var notebookContainer = gd.closest('#notebook-container');\n",
              "if (notebookContainer) {{\n",
              "    x.observe(notebookContainer, {childList: true});\n",
              "}}\n",
              "\n",
              "// Listen for the clearing of the current output cell\n",
              "var outputEl = gd.closest('.output');\n",
              "if (outputEl) {{\n",
              "    x.observe(outputEl, {childList: true});\n",
              "}}\n",
              "\n",
              "                        })\n",
              "                };\n",
              "                \n",
              "            </script>\n",
              "        </div>\n",
              "</body>\n",
              "</html>"
            ]
          },
          "metadata": {
            "tags": []
          }
        }
      ]
    },
    {
      "cell_type": "markdown",
      "metadata": {
        "id": "b4p2j5FcJArU"
      },
      "source": [
        "![title](img/umap1.png)"
      ]
    },
    {
      "cell_type": "markdown",
      "metadata": {
        "id": "rRsM0xV-JCzi"
      },
      "source": [
        "![title](img/umap2.png)"
      ]
    },
    {
      "cell_type": "markdown",
      "metadata": {
        "id": "sXu-bcQ46cpR"
      },
      "source": [
        "The UMAP 2D projection suggests a clearer separation between the cancer and non-cancer groups. The 3D projection also shows a clear separation, but also with a clearer morphology of each group as a shape."
      ]
    },
    {
      "cell_type": "markdown",
      "metadata": {
        "id": "mQQ7iKJY9Hkh"
      },
      "source": [
        "## 8 Prepare data for ML model\n",
        "\n",
        "### 8.1 Log transform skewed features\n",
        "\n",
        "We identified earier some features that seem particularly skewed (which can be problematic for ML models). Lets log-transform these to try and even their distributions out."
      ]
    },
    {
      "cell_type": "code",
      "metadata": {
        "id": "4W0kgi0h9Hkh",
        "colab": {
          "base_uri": "https://localhost:8080/",
          "height": 54
        },
        "outputId": "73bd7f89-0819-4e9a-abf1-3154a5f3cc5b"
      },
      "source": [
        "# Skewed features\n",
        "skewed = ['radius_se', 'perimeter_se', 'area_se']\n",
        "\n",
        "# Split dataset into those with malignent and those with benign tumors\n",
        "malignent_df = bcancer_clean_df[bcancer_clean_df['diagnosis']==1]\n",
        "benign_df = bcancer_clean_df[bcancer_clean_df['diagnosis']==0]\n",
        "\n",
        "# Display the distributions of skewed features\n",
        "compare_features_benign_malignent(skewed, malignent_df, benign_df, 1, 3, 20, 2)"
      ],
      "execution_count": 154,
      "outputs": [
        {
          "output_type": "display_data",
          "data": {
            "image/png": "[encoded data removed]",
            "text/plain": [
              "<Figure size 1440x144 with 3 Axes>"
            ]
          },
          "metadata": {
            "tags": [],
            "needs_background": "light"
          }
        }
      ]
    },
    {
      "cell_type": "code",
      "metadata": {
        "colab": {
          "base_uri": "https://localhost:8080/",
          "height": 54
        },
        "id": "WKnwBegrml38",
        "outputId": "f6913efc-31b6-40a4-a2a4-6ea4e4ecc9f5"
      },
      "source": [
        "# Log transform Skewed features\n",
        "features_log_transformed = pd.DataFrame(data = bcancer_clean_df)\n",
        "features_log_transformed[skewed] = features_log_transformed[skewed].apply(lambda x: np.log(x + 1))\n",
        "\n",
        "# Split dataset into those with malignent and those with benign tumors\n",
        "malignent_log_transformed_df = features_log_transformed[features_log_transformed['diagnosis']==1]\n",
        "benign_log_transformed_df = features_log_transformed[features_log_transformed['diagnosis']==0]\n",
        "\n",
        "# Display the distributions of previously skewed features\n",
        "compare_features_benign_malignent(skewed, malignent_log_transformed_df, benign_log_transformed_df, 1, 3, 20, 2)"
      ],
      "execution_count": 155,
      "outputs": [
        {
          "output_type": "display_data",
          "data": {
            "image/png": "[encoded data removed]",
            "text/plain": [
              "<Figure size 1440x144 with 3 Axes>"
            ]
          },
          "metadata": {
            "tags": [],
            "needs_background": "light"
          }
        }
      ]
    },
    {
      "cell_type": "markdown",
      "metadata": {
        "id": "ZrIxRuVS9Hki"
      },
      "source": [
        "Ok the log transform seems to have improved these distributions."
      ]
    },
    {
      "cell_type": "markdown",
      "metadata": {
        "id": "ehY2Sc5h9Hki"
      },
      "source": [
        "## 9 Metrics and naive predictor\n",
        "\n",
        "In this section we will define our measure of success for our models and also define a naive predictor to act as a baseline measure.\n",
        "\n",
        "So in this project, what is most important? we are going to define the key priority as being diagnosing those cases that actually have a malignant tumor most accurately. Of course, as a secondary priority - we do also want to minimise the number of cases where the tumor is actually benign, but we predict it to be malignant.\n",
        "\n",
        "To get a measure of how well our models are doing for both of these at the same time, we can use the F1 score. We will also calculate an accuarcy score, although the F1 score will be the most important measure. The F1 score is also a good measure to use for our relatively small dataset (570 rows only).\n",
        "\n",
        "We also want to establish some kind of benchmark to judge our models against, a baseline that we hope to do much better than with our sophisticated ML models! A common baseline is to define a 'naive' predictor - in this case that would be a predictor that classifies all tumors as malignant.\n",
        "\n",
        "We will now define a naive predictor and calculate an F1 and accuracy score for it - this will be our baseline model and score that we will judge all our other models against."
      ]
    },
    {
      "cell_type": "code",
      "metadata": {
        "id": "6gvxVEaB9Hki",
        "colab": {
          "base_uri": "https://localhost:8080/"
        },
        "outputId": "2201b99f-4f0d-4c89-d632-d304b5b3c936"
      },
      "source": [
        "# Naive predictor\n",
        "'''\n",
        "TP = np.sum(features_log_minmax_transform['diagnosis']) # Counting the ones as this is the naive case. \n",
        "FP = features_log_minmax_transform['diagnosis'].count() - TP # Specific to the naive case\n",
        "\n",
        "TN = 0 # No predicted negatives in the naive case\n",
        "FN = 0 # No predicted negatives in the naive case\n",
        "'''\n",
        "# Calculate accuracy, precision and recall\n",
        "accuracy = np.sum(features_log_minmax_transform['diagnosis']) / features_log_minmax_transform.shape[0]\n",
        "recall = 1\n",
        "precision = accuracy\n",
        "\n",
        "# Calculate F-score using the formula above for beta = 0.5 and correct values for precision and recall.\n",
        "beta_squared = 0.5 * 0.5\n",
        "fscore = (1 + beta_squared) * ((precision * recall) / ((beta_squared * precision) + recall))\n",
        "\n",
        "# Print the results \n",
        "print(\"Naive Predictor: [Accuracy score: {:.4f}, F-score: {:.4f}]\".format(accuracy, fscore))"
      ],
      "execution_count": 156,
      "outputs": [
        {
          "output_type": "stream",
          "text": [
            "Naive Predictor: [Accuracy score: 0.3726, F-score: 0.4260]\n"
          ],
          "name": "stdout"
        }
      ]
    },
    {
      "cell_type": "markdown",
      "metadata": {
        "id": "PbV6VscI9Hki"
      },
      "source": [
        "## 10 ML model selection & development\n",
        "\n",
        "For this problem - I have judged the following features are appropriate & desirable in guiding the selection of a machine learning model.\n",
        "\n",
        "## 10.1 Model criteria\n",
        "\n",
        "- **Memory & speed:** not primarily important but for what is feasible to be run within a notebook in a reasonable time, the aim is assumed to be a one off run of the model to predict rather than a model run continously where significant computational resources might be more an issue. \n",
        "- **Not overfitting:** I would regard this as desirable/important, we want a model that generalises well, its going to be run most likely periodically if used and we want to maximise the predictive power each time its run.\n",
        "- **Time for learning/fitting:** like memory & speed, not so important beyond that which is reasonable to be run in the notebook without the browser timing out!\n",
        "- **Time for predicting:** again like time for learning/fitting, not so important beyond what can be done in the notebook/browser. However, if we want to deploy and it's useful, we may want to run it on bigger datsets of patient data - so it is a factor worth taking into account.\n",
        "- **Parameterisation:** slightly important. We will be using grid search later to optimise our solution, this will multiply the computational requirements used for a single model. Given the limit of our computatioal resources available in the notebook/browser a more simple parameterisation would allow the model to scale & deliver within this limited environment for a grid search.\n",
        "- **Feature tolerance:** not so important, we have just under 40 features and there is no indication these will grow.\n",
        "\n",
        "With these in mind, these are my selected models, their features - and the rationale for choosing them.\n",
        "\n",
        "**Model 1 - LogisticRegression**\n",
        "\n",
        "- **Strengths of model:** Fast to train, no parameter tuning, features don't need scaling, more tolerant to correlated features, excellent for 2-class classification problems\n",
        "- **Weaknesses of model:** Not so good for large number of features, not good with non-linear decision boundries, not flexible enough to capture more complex relationships, adversely effected by features not relevent to output variable\n",
        "- **Why model is a good candidate for this problem:** 1. The problem is a binary classification one, logistic regression is one of the best & simplest models for this kind of problem - worth considering occams razor! 2. The computational resources required for this model are low and ensure I can be certain this model will have no problem running in the notebook/browser on this dataset! I would like at least one of my models to be likely to run well with given computational resources. \n",
        "\n",
        "**Model 2 - GradientBoostingClassifier**\n",
        "\n",
        "- **Strengths of model:** Can handle big datasets, very accurate, can approximate most non-linear classification boundries, one of best boosting models for many classification problems\n",
        "- **Weaknesses of model:** Slow to train (concern over available resources in notebook/browser sufficient?), prone to overfitting, not easy to understand, sensitive to outliers & noisy data, parameterisation can make a real difference to performance - therefore could be more work/fiddly to optimise & get best results.\n",
        "- **Why model is a good candidate for this problem:** 1. This model is one of the most popular (getting some of the best results) models for classification problems - worth serious consideration! 2. Paramaterisation can make a real difference to performance with this model, good chance of improvement in optimisation/grid search phase for one of the best solutions (assuming computational resources of notebook/browser sufficient).\n",
        "\n",
        "\n",
        "**Model 3 - XGBoost**\n",
        "\n",
        "- **Strengths of model:** Can handle big datasets, very accurate, can approximate most non-linear classification boundries, the best boosting model for many classification problems (best in class), faster than Gradient Boosting.\n",
        "- **Weaknesses of model:** Prone to overfitting, not easy to understand, sensitive to outliers & noisy data, parameterisation can make a real difference to performance - therefore could be more work/fiddly to optimise & get best results.\n",
        "- **Why model is a good candidate for this problem:** 1. This model is one of the most popular (getting some of the best results) models for classification problems - worth serious consideration! 2. Paramaterisation can make a real difference to performance with this model, good chance of improvement in optimisation/grid search phase for one of the best solutions (assuming computational resources of notebook/browser sufficient).\n",
        "\n",
        "References\n",
        "\n",
        "I found the following tables & cheatsheets particularly useful in selecting my models:\n",
        "\n",
        "https://scikit-learn.org/stable/tutorial/machine_learning_map/index.html\n",
        "\n",
        "https://blogs.sas.com/content/subconsciousmusings/2017/04/12/machine-learning-algorithm-use/\n",
        "\n",
        "https://www.dataschool.io/comparing-supervised-learning-algorithms/\n",
        "\n",
        "https://recast.ai/blog/machine-learning-algorithms/2/\n",
        "\n",
        "We will now split our dataset into training and testing subsets, and develop functions that will act as a training & testing pipleline, as well as displaying the results from all our models."
      ]
    },
    {
      "cell_type": "code",
      "metadata": {
        "id": "5WTlFC1q9Hki"
      },
      "source": [
        "# Split data into train & test\n",
        "X = features_log_minmax_transform[numerical_features]\n",
        "y = features_log_minmax_transform['diagnosis']\n",
        "X_train, X_test, y_train, y_test = train_test_split(X, y, test_size = 0.2, random_state = 0)                                                                                                                                                                                              "
      ],
      "execution_count": 157,
      "outputs": []
    },
    {
      "cell_type": "code",
      "metadata": {
        "id": "-xANaykI9Hki"
      },
      "source": [
        "# Define function that will act as pipeline for training and testing our models (and returning the results)\n",
        "def train_predict(learner, sample_size, X_train, y_train, X_test, y_test): \n",
        "    '''\n",
        "    inputs:\n",
        "       - learner: the learning algorithm to be trained and predicted on\n",
        "       - sample_size: the size of samples (number) to be drawn from training set\n",
        "       - X_train: features training set\n",
        "       - y_train: income training set\n",
        "       - X_test: features testing set\n",
        "       - y_test: income testing set\n",
        "    '''\n",
        "    \n",
        "    results = {}\n",
        "    \n",
        "    # Fit the learner to the training data using slicing with 'sample_size' using .fit(training_features[:], training_labels[:])\n",
        "    start = time.time() # Get start time\n",
        "    learner.fit(X_train[:sample_size], y_train[:sample_size])\n",
        "    end = time.time() # Get end time\n",
        "    \n",
        "    # Calculate the training time\n",
        "    results['train_time'] = end - start\n",
        "        \n",
        "    # Get the predictions on the test set(X_test),\n",
        "    # then get predictions on the first 300 training samples(X_train) using .predict()\n",
        "    start = time.time() # Get start time\n",
        "    predictions_test = learner.predict(X_test)\n",
        "    predictions_train = learner.predict(X_train[:300])\n",
        "    end = time.time() # Get end time\n",
        "    \n",
        "    # Calculate the total prediction time\n",
        "    results['pred_time'] = end - start\n",
        "            \n",
        "    # Compute accuracy on the first 300 training samples which is y_train[:300]\n",
        "    results['acc_train'] = accuracy_score(y_train[:300], predictions_train)\n",
        "        \n",
        "    # Compute accuracy on test set using accuracy_score()\n",
        "    results['acc_test'] = accuracy_score(y_test, predictions_test)\n",
        "    \n",
        "    # Compute F-score on the the first 300 training samples using fbeta_score()\n",
        "    results['f_train'] = fbeta_score(y_train[:300], predictions_train, beta=0.5)\n",
        "        \n",
        "    # Compute F-score on the test set which is y_test\n",
        "    results['f_test'] = fbeta_score(y_test, predictions_test, beta=0.5)\n",
        "       \n",
        "    # Success\n",
        "    print(\"{} trained on {} samples.\".format(learner.__class__.__name__, sample_size))\n",
        "        \n",
        "    # Return the results\n",
        "    return results"
      ],
      "execution_count": 158,
      "outputs": []
    },
    {
      "cell_type": "code",
      "metadata": {
        "id": "W5lujqLr9Hki"
      },
      "source": [
        "# Define function that will take the results of our model training & testing and plot the results\n",
        "def evaluate(results, accuracy, f1):\n",
        "    \"\"\"\n",
        "    Visualization code to display results of various learners.\n",
        "\n",
        "    inputs:\n",
        "      - learners: a list of supervised learners\n",
        "      - stats: a list of dictionaries of the statistic results from 'train_predict()'\n",
        "      - accuracy: The score for the naive predictor\n",
        "      - f1: The score for the naive predictor\n",
        "    \"\"\"\n",
        "\n",
        "    # Create figure\n",
        "    fig, ax = plt.subplots(2, 3, figsize = (13,9))\n",
        "\n",
        "    # Constants\n",
        "    bar_width = 0.3\n",
        "    colors = ['#A00000','#00A0A0','#00A000']\n",
        "\n",
        "    # Super loop to plot four panels of data\n",
        "    for k, learner in enumerate(results.keys()):\n",
        "        for j, metric in enumerate(['train_time', 'acc_train', 'f_train', 'pred_time', 'acc_test', 'f_test']):\n",
        "            for i in np.arange(3):\n",
        "                # Creative plot code\n",
        "                ax[j//3, j%3].bar(i+k*bar_width, results[learner][i][metric], width = bar_width, color = colors[k])\n",
        "                ax[j//3, j%3].set_xticks([0.45, 1.45, 2.45])\n",
        "                ax[j//3, j%3].set_xticklabels([\"10%\", \"50%\", \"100%\"])\n",
        "                ax[j//3, j%3].set_xlabel(\"Training Set Size\")\n",
        "                ax[j//3, j%3].set_xlim((-0.1, 3.0))\n",
        "\n",
        "    # Add unique y-labels\n",
        "    ax[0, 0].set_ylabel(\"Time (in seconds)\")\n",
        "    ax[0, 1].set_ylabel(\"Accuracy Score\")\n",
        "    ax[0, 2].set_ylabel(\"F-score\")\n",
        "    ax[1, 0].set_ylabel(\"Time (in seconds)\")\n",
        "    ax[1, 1].set_ylabel(\"Accuracy Score\")\n",
        "    ax[1, 2].set_ylabel(\"F-score\")\n",
        "\n",
        "    # Add titles\n",
        "    ax[0, 0].set_title(\"Model Training\")\n",
        "    ax[0, 1].set_title(\"Accuracy Score on Training Subset\")\n",
        "    ax[0, 2].set_title(\"F-score on Training Subset\")\n",
        "    ax[1, 0].set_title(\"Model Predicting\")\n",
        "    ax[1, 1].set_title(\"Accuracy Score on Testing Set\")\n",
        "    ax[1, 2].set_title(\"F-score on Testing Set\")\n",
        "\n",
        "    # Add horizontal lines for naive predictors\n",
        "    ax[0, 1].axhline(y = accuracy, xmin = -0.1, xmax = 3.0, linewidth = 1, color = 'k', linestyle = 'dashed')\n",
        "    ax[1, 1].axhline(y = accuracy, xmin = -0.1, xmax = 3.0, linewidth = 1, color = 'k', linestyle = 'dashed')\n",
        "    ax[0, 2].axhline(y = f1, xmin = -0.1, xmax = 3.0, linewidth = 1, color = 'k', linestyle = 'dashed')\n",
        "    ax[1, 2].axhline(y = f1, xmin = -0.1, xmax = 3.0, linewidth = 1, color = 'k', linestyle = 'dashed')\n",
        "\n",
        "    # Set y-limits for score panels\n",
        "    ax[0, 1].set_ylim((0, 1))\n",
        "    ax[0, 2].set_ylim((0, 1))\n",
        "    ax[1, 1].set_ylim((0, 1))\n",
        "    ax[1, 2].set_ylim((0, 1))\n",
        "\n",
        "    # Create patches for the legend\n",
        "    patches = []\n",
        "    for i, learner in enumerate(results.keys()):\n",
        "        patches.append(mpatches.Patch(color = colors[i], label = learner))\n",
        "    plt.legend(handles = patches, bbox_to_anchor = (-.80, 2.53), \\\n",
        "               loc = 'upper center', borderaxespad = 0., ncol = 3, fontsize = 'x-large')\n",
        "\n",
        "    # Aesthetics\n",
        "    plt.suptitle(\"Performance Metrics for Three Supervised Learning Models\", fontsize = 16, y = 1.10)\n",
        "    plt.tight_layout()\n",
        "    plt.show()\n"
      ],
      "execution_count": 159,
      "outputs": []
    },
    {
      "cell_type": "code",
      "metadata": {
        "id": "XS_zFJzl9Hki",
        "colab": {
          "base_uri": "https://localhost:8080/"
        },
        "outputId": "11499b0c-6fbd-408c-f511-57eb3c4ecb8c"
      },
      "source": [
        "# Initialize the three models\n",
        "clf_A = linear_model.LogisticRegression()\n",
        "clf_B = GradientBoostingClassifier()\n",
        "clf_C = XGBClassifier()\n",
        "\n",
        "# Calculate the number of samples for 10%, 50% and 100% of the training data\n",
        "samples_100 = len(y_train)\n",
        "samples_50 = int((samples_100 / 100) * 50)\n",
        "samples_10 = int((samples_100 / 100) * 10)\n",
        "\n",
        "# Collect results on the learners\n",
        "results = {}\n",
        "for clf in [clf_A, clf_B, clf_C]:\n",
        "    clf_name = clf.__class__.__name__\n",
        "    results[clf_name] = {}\n",
        "    for i, samples in enumerate([samples_10, samples_50, samples_100]):\n",
        "        results[clf_name][i] = \\\n",
        "        train_predict(clf, samples, X_train, y_train, X_test, y_test)"
      ],
      "execution_count": 160,
      "outputs": [
        {
          "output_type": "stream",
          "text": [
            "LogisticRegression trained on 45 samples.\n",
            "LogisticRegression trained on 227 samples.\n",
            "LogisticRegression trained on 455 samples.\n",
            "GradientBoostingClassifier trained on 45 samples.\n",
            "GradientBoostingClassifier trained on 227 samples.\n",
            "GradientBoostingClassifier trained on 455 samples.\n",
            "XGBClassifier trained on 45 samples.\n",
            "XGBClassifier trained on 227 samples.\n",
            "XGBClassifier trained on 455 samples.\n"
          ],
          "name": "stdout"
        }
      ]
    },
    {
      "cell_type": "code",
      "metadata": {
        "id": "ofSZ1ts39Hkj",
        "colab": {
          "base_uri": "https://localhost:8080/",
          "height": 694
        },
        "outputId": "d368d790-e844-4d9d-d05d-6b0e7254f00d"
      },
      "source": [
        "# Run metrics visualization for the three supervised learning models chosen\n",
        "evaluate(results, accuracy, fscore)"
      ],
      "execution_count": 161,
      "outputs": [
        {
          "output_type": "display_data",
          "data": {
            "image/png": "[encoded data removed]",
            "text/plain": [
              "<Figure size 936x648 with 6 Axes>"
            ]
          },
          "metadata": {
            "tags": [],
            "needs_background": "light"
          }
        }
      ]
    },
    {
      "cell_type": "markdown",
      "metadata": {
        "id": "mx2Ve_am9Hkj"
      },
      "source": [
        "We can observe the results of our model training and evaluation in the above plots of the metric scores for each model type.\n",
        "\n",
        "Firstly we can see that all 3 models have done quite well, with all models getting at least 0.80 on the testing dataset, even when only 10% or 50% of that testing set was used.\n",
        "\n",
        "For the model training, we can see that the GradientBoostingClassifier took by far the most time to train, and in terms of speed of predicting unsurprisingly LogisticRegression was the fastest. However, in terms of the key metric using 100% of the test dataset, we can see that the XGBoost seems to perform the best, and trains much faster than normal gradient boosting.\n",
        "\n",
        "Therefore we will select the XGBoost as our best model and the one we want to optimise going forward."
      ]
    },
    {
      "cell_type": "markdown",
      "metadata": {
        "id": "2TA1jnDon5Ux"
      },
      "source": [
        "### 10.2 Model cross-validation and tuning\n",
        "\n",
        "We could of course simply split our data into training and test sets, train and optimise our model on the training data, and then get a final performance score on the test set to estimate how well the model will do on new data. However this is not a very rigerous methodology, it only gives us one single estimate of the model performance on the test data, and there is a danger of overfitting our model on our training data. To improve on this, we can employ two techniques, nested and repeated cross validation.\n",
        "\n",
        "With [nested cross validation](https://machinelearningmastery.com/nested-cross-validation-for-machine-learning-with-python/) we can separate out the model optimisation process from the cross validation process of the data. This can give us a less biased estimation of how our optmised model will perform on new data and which hyper-parameters might be best.\n",
        "\n",
        "With [repeated cross validation](https://machinelearningmastery.com/repeated-k-fold-cross-validation-with-python/), we don't just run a cross validation procedure of k-folds once, but multiple times where on each run, the folds are randomised. Again, this can give us a less biased estimation of how our model will perform on new data.\n",
        "\n",
        "We will now perform nested cross validation of the model using these 2 techniques together, to get a better estimate of how the model might perform on new data, as well as helping us to optimise the best model hyper-parameters using a cross-validated grid search."
      ]
    },
    {
      "cell_type": "code",
      "metadata": {
        "colab": {
          "base_uri": "https://localhost:8080/"
        },
        "id": "DfgvF9_uoMid",
        "outputId": "115468d5-0275-49f0-9aa8-fe3145f3e8da"
      },
      "source": [
        "# Configure outer cross-validation procedure\n",
        "# (Used on whole dataset, splits into training & test set folds)\n",
        "# (Also perform repeated k-fold to get better estimate of model performance)\n",
        "# (Repeated k-fold will perform kfold x n_repeats times, randomising folds each time)\n",
        "cv_outer = RepeatedKFold(n_splits=10, n_repeats=10, random_state=1)\n",
        "# Initialise vars to store results\n",
        "outer_results_accuracy = list()\n",
        "outer_results_f1 = list()\n",
        "best_result = None\n",
        "\n",
        "# For each outer loop train and test folds\n",
        "for train_ix, test_ix in cv_outer.split(X):\n",
        "  # Split whole dataset into current train and test folds\n",
        "  X_train, X_test = X.iloc[train_ix, :], X.iloc[test_ix, :]\n",
        "  y_train, y_test = y.iloc[train_ix], y.iloc[test_ix]\n",
        "  # Configure inner cross-validation procedure\n",
        "  # (For model training, splits train into train-train and train-validation folds)\n",
        "  cv_inner = KFold(n_splits=3, shuffle=True, random_state=1)\n",
        "  # Define the model\n",
        "  model = XGBClassifier(random_state=1)\n",
        "  # Define grid search space\n",
        "  space = dict()\n",
        "  space['n_estimators'] = [10, 50, 300]\n",
        "  space['max_depth'] = [2,3,5]\n",
        "  # Define metrics\n",
        "  scoring = {'F1': make_scorer(fbeta_score, beta=0.5, average='macro'), 'Accuracy': make_scorer(accuracy_score)}\n",
        "  # Define cv grid search for model on training set\n",
        "  # (Once search over, take best model and refit on whole training set using F1)\n",
        "  search = GridSearchCV(model, space, scoring=scoring, cv=cv_inner, refit='F1')\n",
        "  # Execute grid search\n",
        "  result = search.fit(X_train, y_train)\n",
        "  # Get the best performing model (refit on the whole training set)\n",
        "  best_model_train = result.best_estimator_\n",
        "  # Generate model predictions on the outer loop test set (never seen by model)\n",
        "  yhat = best_model_train.predict(X_test)\n",
        "  # Evaluate model predictions on the outer loop test set \n",
        "  acc = accuracy_score(y_test, yhat)\n",
        "  f1 = fbeta_score(y_test, yhat,beta=0.5)\n",
        "  # Store the results\n",
        "  outer_results_accuracy.append(acc)\n",
        "  outer_results_f1.append(f1)\n",
        "  # Save model if its the best so far\n",
        "  if best_result == None:\n",
        "    best_result = result\n",
        "  else:\n",
        "    if best_result.best_score_ < result.best_score_:\n",
        "      best_result = result\n",
        "  # Report progress\n",
        "  print('>acc=%.3f, >f1=%.3f, est=%.3f, cfg=%s' % (acc, f1, result.best_score_, result.best_params_))\n",
        "# Summarize the estimated performance of the model\n",
        "print('Mean Accuracy: %.3f (%.3f), Mean F1: %.3f (%.3f)' % (mean(outer_results_accuracy), std(outer_results_accuracy), mean(outer_results_f1), std(outer_results_f1)))\n",
        "  "
      ],
      "execution_count": 162,
      "outputs": [
        {
          "output_type": "stream",
          "text": [
            ">acc=0.982, >f1=0.991, est=0.951, cfg={'max_depth': 5, 'n_estimators': 300}\n",
            ">acc=0.947, >f1=0.964, est=0.963, cfg={'max_depth': 2, 'n_estimators': 300}\n",
            ">acc=0.930, >f1=0.885, est=0.962, cfg={'max_depth': 2, 'n_estimators': 300}\n",
            ">acc=0.982, >f1=0.955, est=0.952, cfg={'max_depth': 2, 'n_estimators': 300}\n",
            ">acc=0.965, >f1=0.981, est=0.976, cfg={'max_depth': 5, 'n_estimators': 300}\n",
            ">acc=0.982, >f1=0.968, est=0.965, cfg={'max_depth': 2, 'n_estimators': 300}\n",
            ">acc=0.965, >f1=0.981, est=0.966, cfg={'max_depth': 2, 'n_estimators': 300}\n",
            ">acc=0.982, >f1=0.955, est=0.970, cfg={'max_depth': 5, 'n_estimators': 300}\n",
            ">acc=0.982, >f1=0.991, est=0.971, cfg={'max_depth': 5, 'n_estimators': 300}\n",
            ">acc=0.964, >f1=0.980, est=0.967, cfg={'max_depth': 5, 'n_estimators': 300}\n",
            ">acc=0.982, >f1=0.991, est=0.963, cfg={'max_depth': 3, 'n_estimators': 300}\n",
            ">acc=0.982, >f1=0.990, est=0.960, cfg={'max_depth': 5, 'n_estimators': 50}\n",
            ">acc=0.947, >f1=0.937, est=0.953, cfg={'max_depth': 2, 'n_estimators': 300}\n",
            ">acc=0.912, >f1=0.879, est=0.970, cfg={'max_depth': 2, 'n_estimators': 300}\n",
            ">acc=0.965, >f1=0.980, est=0.974, cfg={'max_depth': 5, 'n_estimators': 300}\n",
            ">acc=0.982, >f1=0.991, est=0.968, cfg={'max_depth': 2, 'n_estimators': 300}\n",
            ">acc=0.982, >f1=0.949, est=0.958, cfg={'max_depth': 2, 'n_estimators': 300}\n",
            ">acc=0.982, >f1=0.990, est=0.967, cfg={'max_depth': 3, 'n_estimators': 300}\n",
            ">acc=0.965, >f1=0.981, est=0.966, cfg={'max_depth': 3, 'n_estimators': 300}\n",
            ">acc=0.946, >f1=0.973, est=0.966, cfg={'max_depth': 3, 'n_estimators': 300}\n",
            ">acc=0.947, >f1=0.975, est=0.965, cfg={'max_depth': 3, 'n_estimators': 300}\n",
            ">acc=0.982, >f1=0.991, est=0.966, cfg={'max_depth': 2, 'n_estimators': 50}\n",
            ">acc=0.965, >f1=0.963, est=0.964, cfg={'max_depth': 5, 'n_estimators': 300}\n",
            ">acc=0.965, >f1=0.947, est=0.961, cfg={'max_depth': 3, 'n_estimators': 300}\n",
            ">acc=0.912, >f1=0.887, est=0.975, cfg={'max_depth': 5, 'n_estimators': 50}\n",
            ">acc=0.947, >f1=0.968, est=0.957, cfg={'max_depth': 2, 'n_estimators': 300}\n",
            ">acc=0.930, >f1=0.946, est=0.965, cfg={'max_depth': 5, 'n_estimators': 300}\n",
            ">acc=1.000, >f1=1.000, est=0.966, cfg={'max_depth': 5, 'n_estimators': 300}\n",
            ">acc=0.982, >f1=0.987, est=0.961, cfg={'max_depth': 3, 'n_estimators': 300}\n",
            ">acc=0.982, >f1=0.990, est=0.957, cfg={'max_depth': 5, 'n_estimators': 300}\n",
            ">acc=0.965, >f1=0.982, est=0.956, cfg={'max_depth': 5, 'n_estimators': 300}\n",
            ">acc=0.982, >f1=0.991, est=0.952, cfg={'max_depth': 5, 'n_estimators': 300}\n",
            ">acc=0.982, >f1=0.949, est=0.953, cfg={'max_depth': 3, 'n_estimators': 300}\n",
            ">acc=1.000, >f1=1.000, est=0.942, cfg={'max_depth': 2, 'n_estimators': 300}\n",
            ">acc=0.982, >f1=0.992, est=0.966, cfg={'max_depth': 3, 'n_estimators': 300}\n",
            ">acc=0.947, >f1=0.966, est=0.965, cfg={'max_depth': 2, 'n_estimators': 300}\n",
            ">acc=0.947, >f1=0.941, est=0.959, cfg={'max_depth': 2, 'n_estimators': 300}\n",
            ">acc=0.930, >f1=0.931, est=0.973, cfg={'max_depth': 2, 'n_estimators': 300}\n",
            ">acc=0.947, >f1=0.888, est=0.969, cfg={'max_depth': 2, 'n_estimators': 300}\n",
            ">acc=0.982, >f1=0.988, est=0.960, cfg={'max_depth': 5, 'n_estimators': 300}\n",
            ">acc=0.982, >f1=0.990, est=0.958, cfg={'max_depth': 5, 'n_estimators': 300}\n",
            ">acc=0.947, >f1=0.969, est=0.952, cfg={'max_depth': 3, 'n_estimators': 300}\n",
            ">acc=0.965, >f1=0.944, est=0.971, cfg={'max_depth': 3, 'n_estimators': 300}\n",
            ">acc=1.000, >f1=1.000, est=0.960, cfg={'max_depth': 3, 'n_estimators': 300}\n",
            ">acc=0.930, >f1=0.867, est=0.957, cfg={'max_depth': 5, 'n_estimators': 300}\n",
            ">acc=0.965, >f1=0.978, est=0.964, cfg={'max_depth': 2, 'n_estimators': 300}\n",
            ">acc=0.982, >f1=0.960, est=0.966, cfg={'max_depth': 2, 'n_estimators': 300}\n",
            ">acc=0.947, >f1=0.975, est=0.968, cfg={'max_depth': 3, 'n_estimators': 300}\n",
            ">acc=1.000, >f1=1.000, est=0.956, cfg={'max_depth': 5, 'n_estimators': 300}\n",
            ">acc=0.964, >f1=0.983, est=0.962, cfg={'max_depth': 5, 'n_estimators': 300}\n",
            ">acc=0.982, >f1=0.991, est=0.956, cfg={'max_depth': 5, 'n_estimators': 300}\n",
            ">acc=0.912, >f1=0.929, est=0.969, cfg={'max_depth': 5, 'n_estimators': 300}\n",
            ">acc=0.982, >f1=0.991, est=0.965, cfg={'max_depth': 2, 'n_estimators': 300}\n",
            ">acc=0.982, >f1=0.952, est=0.958, cfg={'max_depth': 2, 'n_estimators': 300}\n",
            ">acc=1.000, >f1=1.000, est=0.956, cfg={'max_depth': 5, 'n_estimators': 300}\n",
            ">acc=0.982, >f1=0.988, est=0.964, cfg={'max_depth': 3, 'n_estimators': 300}\n",
            ">acc=0.965, >f1=0.984, est=0.963, cfg={'max_depth': 3, 'n_estimators': 300}\n",
            ">acc=0.965, >f1=0.897, est=0.965, cfg={'max_depth': 5, 'n_estimators': 300}\n",
            ">acc=0.965, >f1=0.960, est=0.966, cfg={'max_depth': 2, 'n_estimators': 300}\n",
            ">acc=0.982, >f1=0.962, est=0.974, cfg={'max_depth': 2, 'n_estimators': 300}\n",
            ">acc=1.000, >f1=1.000, est=0.960, cfg={'max_depth': 5, 'n_estimators': 300}\n",
            ">acc=0.982, >f1=0.946, est=0.956, cfg={'max_depth': 2, 'n_estimators': 300}\n",
            ">acc=0.965, >f1=0.984, est=0.957, cfg={'max_depth': 2, 'n_estimators': 300}\n",
            ">acc=0.930, >f1=0.909, est=0.972, cfg={'max_depth': 2, 'n_estimators': 300}\n",
            ">acc=1.000, >f1=1.000, est=0.967, cfg={'max_depth': 3, 'n_estimators': 300}\n",
            ">acc=0.982, >f1=0.990, est=0.958, cfg={'max_depth': 3, 'n_estimators': 300}\n",
            ">acc=0.965, >f1=0.980, est=0.958, cfg={'max_depth': 5, 'n_estimators': 300}\n",
            ">acc=0.912, >f1=0.940, est=0.963, cfg={'max_depth': 5, 'n_estimators': 300}\n",
            ">acc=0.947, >f1=0.933, est=0.963, cfg={'max_depth': 2, 'n_estimators': 300}\n",
            ">acc=0.964, >f1=0.957, est=0.961, cfg={'max_depth': 3, 'n_estimators': 300}\n",
            ">acc=0.947, >f1=0.888, est=0.966, cfg={'max_depth': 2, 'n_estimators': 50}\n",
            ">acc=1.000, >f1=1.000, est=0.964, cfg={'max_depth': 3, 'n_estimators': 300}\n",
            ">acc=0.965, >f1=0.955, est=0.952, cfg={'max_depth': 2, 'n_estimators': 300}\n",
            ">acc=0.947, >f1=0.964, est=0.977, cfg={'max_depth': 5, 'n_estimators': 300}\n",
            ">acc=0.947, >f1=0.950, est=0.969, cfg={'max_depth': 2, 'n_estimators': 300}\n",
            ">acc=0.965, >f1=0.952, est=0.946, cfg={'max_depth': 3, 'n_estimators': 300}\n",
            ">acc=0.982, >f1=0.992, est=0.959, cfg={'max_depth': 5, 'n_estimators': 300}\n",
            ">acc=0.965, >f1=0.941, est=0.961, cfg={'max_depth': 3, 'n_estimators': 300}\n",
            ">acc=0.965, >f1=0.976, est=0.964, cfg={'max_depth': 2, 'n_estimators': 300}\n",
            ">acc=0.982, >f1=0.992, est=0.963, cfg={'max_depth': 5, 'n_estimators': 300}\n",
            ">acc=0.982, >f1=0.992, est=0.963, cfg={'max_depth': 3, 'n_estimators': 300}\n",
            ">acc=0.912, >f1=0.914, est=0.953, cfg={'max_depth': 2, 'n_estimators': 300}\n",
            ">acc=0.982, >f1=0.960, est=0.963, cfg={'max_depth': 2, 'n_estimators': 300}\n",
            ">acc=0.965, >f1=0.979, est=0.965, cfg={'max_depth': 5, 'n_estimators': 300}\n",
            ">acc=0.947, >f1=0.943, est=0.955, cfg={'max_depth': 5, 'n_estimators': 300}\n",
            ">acc=1.000, >f1=1.000, est=0.951, cfg={'max_depth': 2, 'n_estimators': 300}\n",
            ">acc=0.965, >f1=0.914, est=0.960, cfg={'max_depth': 5, 'n_estimators': 50}\n",
            ">acc=0.982, >f1=0.991, est=0.969, cfg={'max_depth': 3, 'n_estimators': 300}\n",
            ">acc=1.000, >f1=1.000, est=0.957, cfg={'max_depth': 3, 'n_estimators': 300}\n",
            ">acc=0.964, >f1=0.952, est=0.964, cfg={'max_depth': 5, 'n_estimators': 300}\n",
            ">acc=0.965, >f1=0.944, est=0.966, cfg={'max_depth': 2, 'n_estimators': 300}\n",
            ">acc=0.947, >f1=0.937, est=0.957, cfg={'max_depth': 2, 'n_estimators': 300}\n",
            ">acc=0.982, >f1=0.965, est=0.971, cfg={'max_depth': 3, 'n_estimators': 300}\n",
            ">acc=0.965, >f1=0.960, est=0.966, cfg={'max_depth': 2, 'n_estimators': 300}\n",
            ">acc=0.982, >f1=0.965, est=0.962, cfg={'max_depth': 5, 'n_estimators': 300}\n",
            ">acc=0.947, >f1=0.971, est=0.968, cfg={'max_depth': 5, 'n_estimators': 300}\n",
            ">acc=1.000, >f1=1.000, est=0.960, cfg={'max_depth': 3, 'n_estimators': 300}\n",
            ">acc=0.982, >f1=0.991, est=0.970, cfg={'max_depth': 5, 'n_estimators': 300}\n",
            ">acc=0.912, >f1=0.865, est=0.964, cfg={'max_depth': 3, 'n_estimators': 300}\n",
            ">acc=0.982, >f1=0.993, est=0.965, cfg={'max_depth': 5, 'n_estimators': 300}\n",
            "Mean Accuracy: 0.967 (0.023), Mean F1: 0.964 (0.033)\n"
          ],
          "name": "stdout"
        }
      ]
    },
    {
      "cell_type": "markdown",
      "metadata": {
        "id": "X55jAQSR86H9"
      },
      "source": [
        "Our nested cross validation procedure has given us 100 measures of model performance (both F1 and accuracy). \n",
        "\n",
        "#### 10.2.1 Plot distributions of F1 & accuracy scores for cross validation\n",
        "\n",
        "Lets plot the distributions and means for F1 and accuracy scores."
      ]
    },
    {
      "cell_type": "code",
      "metadata": {
        "colab": {
          "base_uri": "https://localhost:8080/",
          "height": 311
        },
        "id": "cG-ikLDl9Qh0",
        "outputId": "a7825455-87e8-4781-f272-2a13d3fd671a"
      },
      "source": [
        "# Plot distribution of model F1 scores\n",
        "plt.hist(outer_results_f1)\n",
        "# Also plot the mean\n",
        "mean_f1 = mean(outer_results_f1)\n",
        "plt.axvline(x=mean_f1, color = 'red');\n",
        "plt.title('Distribution of F1 scores for cross-validation of model')\n",
        "plt.xlabel('F1 Score')\n",
        "plt.ylabel('Count')"
      ],
      "execution_count": 163,
      "outputs": [
        {
          "output_type": "execute_result",
          "data": {
            "text/plain": [
              "Text(0, 0.5, 'Count')"
            ]
          },
          "metadata": {
            "tags": []
          },
          "execution_count": 163
        },
        {
          "output_type": "display_data",
          "data": {
            "image/png": "[encoded data removed]",
            "text/plain": [
              "<Figure size 432x288 with 1 Axes>"
            ]
          },
          "metadata": {
            "tags": [],
            "needs_background": "light"
          }
        }
      ]
    },
    {
      "cell_type": "code",
      "metadata": {
        "colab": {
          "base_uri": "https://localhost:8080/",
          "height": 311
        },
        "id": "llYUaFRs9S4o",
        "outputId": "11820523-2d3a-44ba-a344-9286eb1ab972"
      },
      "source": [
        "# Plot distribution of model accuracy scores\n",
        "plt.hist(outer_results_accuracy)\n",
        "# Also plot the mean\n",
        "mean_accuracy = mean(outer_results_accuracy)\n",
        "plt.axvline(x=mean_accuracy, color = 'red');\n",
        "plt.title('Distribution of Accuracy scores for cross-validation of model')\n",
        "plt.xlabel('Accuracy Score')\n",
        "plt.ylabel('Count')"
      ],
      "execution_count": 164,
      "outputs": [
        {
          "output_type": "execute_result",
          "data": {
            "text/plain": [
              "Text(0, 0.5, 'Count')"
            ]
          },
          "metadata": {
            "tags": []
          },
          "execution_count": 164
        },
        {
          "output_type": "display_data",
          "data": {
            "image/png": "[encoded data removed]",
            "text/plain": [
              "<Figure size 432x288 with 1 Axes>"
            ]
          },
          "metadata": {
            "tags": [],
            "needs_background": "light"
          }
        }
      ]
    },
    {
      "cell_type": "markdown",
      "metadata": {
        "id": "AevLHQ5x-LcD"
      },
      "source": [
        "We know the mean accuracy and F1 scores for our cross validated models is around 0.96, and we can see the distributions of the values in each case. We can use these to better estimate the actual performance on the model on new data, by using these to build confidence intervals for both scores.\n",
        "\n",
        "#### 10.2.2 Build confidence intervals for mean F1 & accuracy scores \n"
      ]
    },
    {
      "cell_type": "code",
      "metadata": {
        "colab": {
          "base_uri": "https://localhost:8080/",
          "height": 379
        },
        "id": "IEllOpusKWKJ",
        "outputId": "7bf98fb3-6c22-44ac-c4c2-4a3070ebaa39"
      },
      "source": [
        "# Build confidence interval for mean F1 score using bootstrap sampling distribution \n",
        "# (Non-parametric - assumes no distribution of mean F1 score)\n",
        "# seed the random number generator\n",
        "seed(1)\n",
        "# Convert list into array\n",
        "outer_results_f1 = np.array(outer_results_f1)\n",
        "\n",
        "# bootstrap\n",
        "scores = list()\n",
        "for _ in range(100):\n",
        "\t# bootstrap sample (with replacement)\n",
        "\tindices = randint(0, 100, 100)\n",
        "\tsample = outer_results_f1[indices]\n",
        "\t# calculate and store statistic\n",
        "\tstatistic = mean(sample)\n",
        "\tscores.append(statistic)\n",
        "\n",
        "print('50th percentile (median) = %.3f' % median(scores))\n",
        "# calculate 95% confidence intervals (100 - alpha)\n",
        "alpha = 5.0\n",
        "# calculate lower percentile (e.g. 2.5)\n",
        "lower_p = alpha / 2.0\n",
        "# retrieve observation at lower percentile\n",
        "lower = max(0.0, percentile(scores, lower_p))\n",
        "print('%.1fth percentile = %.3f' % (lower_p, lower))\n",
        "# calculate upper percentile (e.g. 97.5)\n",
        "upper_p = (100 - alpha) + (alpha / 2.0)\n",
        "# retrieve observation at upper percentile\n",
        "upper = min(1.0, percentile(scores, upper_p))\n",
        "print('%.1fth percentile = %.3f' % (upper_p, upper))\n",
        "print(' ')\n",
        "\n",
        "plt.title('Sampling distribution of mean F1 scores via bootstrap')\n",
        "plt.xlabel('Mean F1 Score')\n",
        "plt.ylabel('Count')\n",
        "plt.hist(scores)\n",
        "plt.axvline(x=median(scores), color = 'red')\n",
        "plt.axvline(x=upper, color = 'green')\n",
        "plt.axvline(x=lower, color = 'green')"
      ],
      "execution_count": 165,
      "outputs": [
        {
          "output_type": "stream",
          "text": [
            "50th percentile (median) = 0.963\n",
            "2.5th percentile = 0.959\n",
            "97.5th percentile = 0.970\n",
            " \n"
          ],
          "name": "stdout"
        },
        {
          "output_type": "execute_result",
          "data": {
            "text/plain": [
              "<matplotlib.lines.Line2D at 0x7f19df1676a0>"
            ]
          },
          "metadata": {
            "tags": []
          },
          "execution_count": 165
        },
        {
          "output_type": "display_data",
          "data": {
            "image/png": "[encoded data removed]",
            "text/plain": [
              "<Figure size 432x288 with 1 Axes>"
            ]
          },
          "metadata": {
            "tags": [],
            "needs_background": "light"
          }
        }
      ]
    },
    {
      "cell_type": "code",
      "metadata": {
        "colab": {
          "base_uri": "https://localhost:8080/",
          "height": 379
        },
        "id": "OJq-Ozdc_r70",
        "outputId": "8b97d026-bbc0-454e-cfba-b6aa310be01b"
      },
      "source": [
        "# Build confidence interval for mean accuracy score using bootstrap sampling distribution \n",
        "# (Non-parametric - assumes no distribution of mean accuracy score)\n",
        "# seed the random number generator\n",
        "seed(1)\n",
        "# Convert list into array\n",
        "outer_results_accuracy = np.array(outer_results_accuracy)\n",
        "\n",
        "# bootstrap\n",
        "scores = list()\n",
        "for _ in range(100):\n",
        "\t# bootstrap sample (with replacement)\n",
        "\tindices = randint(0, 100, 100)\n",
        "\tsample = outer_results_accuracy[indices]\n",
        "\t# calculate and store statistic\n",
        "\tstatistic = mean(sample)\n",
        "\tscores.append(statistic)\n",
        "\n",
        "print('50th percentile (median) = %.3f' % median(scores))\n",
        "# calculate 95% confidence intervals (100 - alpha)\n",
        "alpha = 5.0\n",
        "# calculate lower percentile (e.g. 2.5)\n",
        "lower_p = alpha / 2.0\n",
        "# retrieve observation at lower percentile\n",
        "lower = max(0.0, percentile(scores, lower_p))\n",
        "print('%.1fth percentile = %.3f' % (lower_p, lower))\n",
        "# calculate upper percentile (e.g. 97.5)\n",
        "upper_p = (100 - alpha) + (alpha / 2.0)\n",
        "# retrieve observation at upper percentile\n",
        "upper = min(1.0, percentile(scores, upper_p))\n",
        "print('%.1fth percentile = %.3f' % (upper_p, upper))\n",
        "print(' ')\n",
        "\n",
        "plt.title('Sampling distribution of mean Accuracy scores via bootstrap')\n",
        "plt.xlabel('Mean Accuracy Score')\n",
        "plt.ylabel('Count')\n",
        "plt.hist(scores)\n",
        "plt.axvline(x=median(scores), color = 'red')\n",
        "plt.axvline(x=upper, color = 'green')\n",
        "plt.axvline(x=lower, color = 'green')"
      ],
      "execution_count": 166,
      "outputs": [
        {
          "output_type": "stream",
          "text": [
            "50th percentile (median) = 0.967\n",
            "2.5th percentile = 0.963\n",
            "97.5th percentile = 0.971\n",
            " \n"
          ],
          "name": "stdout"
        },
        {
          "output_type": "execute_result",
          "data": {
            "text/plain": [
              "<matplotlib.lines.Line2D at 0x7f19de19fb38>"
            ]
          },
          "metadata": {
            "tags": []
          },
          "execution_count": 166
        },
        {
          "output_type": "display_data",
          "data": {
            "image/png": "[encoded data removed]",
            "text/plain": [
              "<Figure size 432x288 with 1 Axes>"
            ]
          },
          "metadata": {
            "tags": [],
            "needs_background": "light"
          }
        }
      ]
    },
    {
      "cell_type": "markdown",
      "metadata": {
        "id": "kmOxJene9Hkj"
      },
      "source": [
        "## 11 ML model evaluation\n",
        "\n",
        "Below is a summary table of the key results from developing our ML model."
      ]
    },
    {
      "cell_type": "markdown",
      "metadata": {
        "id": "9XQYaRRg9Hkj"
      },
      "source": [
        "| Metric | Benchmark Model | Optimized Model |\n",
        "| --- | --- | --- | \n",
        "| Accuracy Score | 0.3726 | 0.9670 |\n",
        "| F-score | 0.4260 | 0.9630 |"
      ]
    },
    {
      "cell_type": "markdown",
      "metadata": {
        "id": "qMLchzuU9Hkj"
      },
      "source": [
        "We will take the F1 score as the better indicator of model performance. We can then say, as a result of our cross-validation procedure, that we estimate the model F1 score performance to be 0.96, within a range of 0.95-0.97 with a 95% confidence level.\n",
        "\n",
        "Let us now examine the model to see which features it found most useful for prediction.\n",
        "\n",
        "## 12 Feature importance\n",
        "\n",
        "We will now define a function to extract and plot the top most useful features for the model."
      ]
    },
    {
      "cell_type": "code",
      "metadata": {
        "id": "KHYvKQ0Q9Hkj"
      },
      "source": [
        "def feature_plot(importances, X_train, y_train):\n",
        "\n",
        "    # Display the five most important features\n",
        "    indices = np.argsort(importances)[::-1]\n",
        "    columns = X_train.columns.values[indices[:5]]\n",
        "    values = importances[indices][:5]\n",
        "\n",
        "    # Creat the plot\n",
        "    fig = plt.figure(figsize = (9,5))\n",
        "    plt.title(\"Normalized Weights for First Five Most Predictive Features\", fontsize = 16)\n",
        "    plt.bar(np.arange(5), values, width = 0.6, align=\"center\", color = '#00A000', \\\n",
        "          label = \"Feature Weight\")\n",
        "    plt.bar(np.arange(5) - 0.3, np.cumsum(values), width = 0.2, align = \"center\", color = '#00A0A0', \\\n",
        "          label = \"Cumulative Feature Weight\")\n",
        "    plt.xticks(np.arange(5), columns)\n",
        "    plt.xlim((-0.5, 4.5))\n",
        "    plt.ylabel(\"Weight\", fontsize = 12)\n",
        "    plt.xlabel(\"Feature\", fontsize = 12)\n",
        "\n",
        "    plt.legend(loc = 'upper center')\n",
        "    plt.tight_layout()\n",
        "    plt.show()"
      ],
      "execution_count": 167,
      "outputs": []
    },
    {
      "cell_type": "code",
      "metadata": {
        "id": "A5WBpc5r9Hkj",
        "colab": {
          "base_uri": "https://localhost:8080/",
          "height": 369
        },
        "outputId": "c257cc12-e55b-447d-b029-6a176a53baf8"
      },
      "source": [
        "# Extract the feature importances \n",
        "importances = best_result.best_estimator_.feature_importances_\n",
        "\n",
        "# Plot\n",
        "feature_plot(importances, X_train, y_train)"
      ],
      "execution_count": 168,
      "outputs": [
        {
          "output_type": "display_data",
          "data": {
            "image/png": "[encoded data removed]",
            "text/plain": [
              "<Figure size 648x360 with 1 Axes>"
            ]
          },
          "metadata": {
            "tags": [],
            "needs_background": "light"
          }
        }
      ]
    },
    {
      "cell_type": "markdown",
      "metadata": {
        "id": "IwxmJhLz9Hkj"
      },
      "source": [
        "We can see from the extracted feature importances that the top 3 features used by the model are:\n",
        "\n",
        "- perimeter worst\n",
        "- area_worst\n",
        "- concave points_worst\n",
        "\n",
        "Interestingly, these were features we highlighted earlier in the univariate analysis as features that had a very different distribution of values for the malignant and benign tumor sub-groups.\n",
        "\n",
        "## 13 Conclusion"
      ]
    },
    {
      "cell_type": "markdown",
      "metadata": {
        "id": "2LPz3zBM9Hkj"
      },
      "source": [
        "In this project we have looked at a dataset relating to breast cancer, and have \n",
        "developed a model able to predict malignant tumors with a very high degree of accuracy (an F-score of 0.963).\n",
        "\n",
        "We have also gained an understanding of the reasons why our model is able to predict this well. Our earlier analysis showed the difference in morphology beween cell metrics for malignant v benign tumors, which could be seen visually in the images and were expressed in different distributions of values for particular feature measurements of the cells that we observed.\n",
        "\n",
        "Our use of higher level analytical tools such as UMAP also allowed us to gain a much better understanding of the dataset, in particular a better idea of the range of feature values that were typical for malignant and benign tumors as 'groups' within the dataset."
      ]
    }
  ]
}